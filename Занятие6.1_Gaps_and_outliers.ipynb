{
 "cells": [
  {
   "cell_type": "markdown",
   "metadata": {},
   "source": [
    "# Обработка пропусков и выбросов в процессе первичного анализа статистики\n",
    "\n",
    "### Disclaimer: \n",
    "_Представленные ниже примеры предназначены исключительно для демонстрации подходов к устранению аномалий в данных. Выбор подхода в \"боевых условиях\" должен осуществляеться в соответсвии с решаемыми задачами и с учетом особенностей формирования данных в исследуемом процессе_"
   ]
  },
  {
   "cell_type": "code",
   "execution_count": 1,
   "metadata": {},
   "outputs": [],
   "source": [
    "import pandas as pd\n",
    "import numpy as np\n",
    "import matplotlib.pyplot as plt\n",
    "import warnings\n",
    "warnings.filterwarnings('ignore')"
   ]
  },
  {
   "cell_type": "markdown",
   "metadata": {},
   "source": [
    "## Загрузка датасета"
   ]
  },
  {
   "cell_type": "code",
   "execution_count": 2,
   "metadata": {},
   "outputs": [
    {
     "data": {
      "text/html": [
       "<div>\n",
       "<style scoped>\n",
       "    .dataframe tbody tr th:only-of-type {\n",
       "        vertical-align: middle;\n",
       "    }\n",
       "\n",
       "    .dataframe tbody tr th {\n",
       "        vertical-align: top;\n",
       "    }\n",
       "\n",
       "    .dataframe thead th {\n",
       "        text-align: right;\n",
       "    }\n",
       "</style>\n",
       "<table border=\"1\" class=\"dataframe\">\n",
       "  <thead>\n",
       "    <tr style=\"text-align: right;\">\n",
       "      <th></th>\n",
       "      <th>sepal.length</th>\n",
       "      <th>sepal.width</th>\n",
       "      <th>petal.length</th>\n",
       "      <th>petal.width</th>\n",
       "      <th>variety</th>\n",
       "    </tr>\n",
       "  </thead>\n",
       "  <tbody>\n",
       "    <tr>\n",
       "      <th>143</th>\n",
       "      <td>6.8</td>\n",
       "      <td>3.2</td>\n",
       "      <td>5.9</td>\n",
       "      <td>2.3</td>\n",
       "      <td>Virginica</td>\n",
       "    </tr>\n",
       "    <tr>\n",
       "      <th>144</th>\n",
       "      <td>6.7</td>\n",
       "      <td>3.3</td>\n",
       "      <td>5.7</td>\n",
       "      <td>2.5</td>\n",
       "      <td>Virginica</td>\n",
       "    </tr>\n",
       "    <tr>\n",
       "      <th>145</th>\n",
       "      <td>6.7</td>\n",
       "      <td>3.0</td>\n",
       "      <td>5.2</td>\n",
       "      <td>2.3</td>\n",
       "      <td>Virginica</td>\n",
       "    </tr>\n",
       "    <tr>\n",
       "      <th>146</th>\n",
       "      <td>6.3</td>\n",
       "      <td>2.5</td>\n",
       "      <td>5.0</td>\n",
       "      <td>1.9</td>\n",
       "      <td>Virginica</td>\n",
       "    </tr>\n",
       "    <tr>\n",
       "      <th>147</th>\n",
       "      <td>6.5</td>\n",
       "      <td>3.0</td>\n",
       "      <td>5.2</td>\n",
       "      <td>2.0</td>\n",
       "      <td>Virginica</td>\n",
       "    </tr>\n",
       "    <tr>\n",
       "      <th>148</th>\n",
       "      <td>6.2</td>\n",
       "      <td>3.4</td>\n",
       "      <td>5.4</td>\n",
       "      <td>2.3</td>\n",
       "      <td>Virginica</td>\n",
       "    </tr>\n",
       "    <tr>\n",
       "      <th>149</th>\n",
       "      <td>5.9</td>\n",
       "      <td>3.0</td>\n",
       "      <td>5.1</td>\n",
       "      <td>1.8</td>\n",
       "      <td>Virginica</td>\n",
       "    </tr>\n",
       "  </tbody>\n",
       "</table>\n",
       "</div>"
      ],
      "text/plain": [
       "     sepal.length  sepal.width  petal.length  petal.width    variety\n",
       "143           6.8          3.2           5.9          2.3  Virginica\n",
       "144           6.7          3.3           5.7          2.5  Virginica\n",
       "145           6.7          3.0           5.2          2.3  Virginica\n",
       "146           6.3          2.5           5.0          1.9  Virginica\n",
       "147           6.5          3.0           5.2          2.0  Virginica\n",
       "148           6.2          3.4           5.4          2.3  Virginica\n",
       "149           5.9          3.0           5.1          1.8  Virginica"
      ]
     },
     "execution_count": 2,
     "metadata": {},
     "output_type": "execute_result"
    }
   ],
   "source": [
    "data = pd.read_csv(\"iris.csv\")\n",
    "data.tail(7)"
   ]
  },
  {
   "cell_type": "markdown",
   "metadata": {},
   "source": [
    "### Добавляем немного NaN"
   ]
  },
  {
   "cell_type": "code",
   "execution_count": 3,
   "metadata": {},
   "outputs": [
    {
     "data": {
      "text/html": [
       "<div>\n",
       "<style scoped>\n",
       "    .dataframe tbody tr th:only-of-type {\n",
       "        vertical-align: middle;\n",
       "    }\n",
       "\n",
       "    .dataframe tbody tr th {\n",
       "        vertical-align: top;\n",
       "    }\n",
       "\n",
       "    .dataframe thead th {\n",
       "        text-align: right;\n",
       "    }\n",
       "</style>\n",
       "<table border=\"1\" class=\"dataframe\">\n",
       "  <thead>\n",
       "    <tr style=\"text-align: right;\">\n",
       "      <th></th>\n",
       "      <th>sepal.length</th>\n",
       "      <th>sepal.width</th>\n",
       "      <th>petal.length</th>\n",
       "      <th>petal.width</th>\n",
       "      <th>variety</th>\n",
       "    </tr>\n",
       "  </thead>\n",
       "  <tbody>\n",
       "    <tr>\n",
       "      <th>143</th>\n",
       "      <td>6.8</td>\n",
       "      <td>3.2</td>\n",
       "      <td>5.9</td>\n",
       "      <td>2.3</td>\n",
       "      <td>Virginica</td>\n",
       "    </tr>\n",
       "    <tr>\n",
       "      <th>144</th>\n",
       "      <td>6.7</td>\n",
       "      <td>3.3</td>\n",
       "      <td>5.7</td>\n",
       "      <td>2.5</td>\n",
       "      <td>Virginica</td>\n",
       "    </tr>\n",
       "    <tr>\n",
       "      <th>145</th>\n",
       "      <td>6.7</td>\n",
       "      <td>3.0</td>\n",
       "      <td>5.2</td>\n",
       "      <td>NaN</td>\n",
       "      <td>Virginica</td>\n",
       "    </tr>\n",
       "    <tr>\n",
       "      <th>146</th>\n",
       "      <td>6.3</td>\n",
       "      <td>2.5</td>\n",
       "      <td>5.0</td>\n",
       "      <td>NaN</td>\n",
       "      <td>Virginica</td>\n",
       "    </tr>\n",
       "    <tr>\n",
       "      <th>147</th>\n",
       "      <td>6.5</td>\n",
       "      <td>3.0</td>\n",
       "      <td>5.2</td>\n",
       "      <td>NaN</td>\n",
       "      <td>Virginica</td>\n",
       "    </tr>\n",
       "    <tr>\n",
       "      <th>148</th>\n",
       "      <td>6.2</td>\n",
       "      <td>3.4</td>\n",
       "      <td>5.4</td>\n",
       "      <td>NaN</td>\n",
       "      <td>Virginica</td>\n",
       "    </tr>\n",
       "    <tr>\n",
       "      <th>149</th>\n",
       "      <td>5.9</td>\n",
       "      <td>3.0</td>\n",
       "      <td>5.1</td>\n",
       "      <td>1.8</td>\n",
       "      <td>Virginica</td>\n",
       "    </tr>\n",
       "  </tbody>\n",
       "</table>\n",
       "</div>"
      ],
      "text/plain": [
       "     sepal.length  sepal.width  petal.length  petal.width    variety\n",
       "143           6.8          3.2           5.9          2.3  Virginica\n",
       "144           6.7          3.3           5.7          2.5  Virginica\n",
       "145           6.7          3.0           5.2          NaN  Virginica\n",
       "146           6.3          2.5           5.0          NaN  Virginica\n",
       "147           6.5          3.0           5.2          NaN  Virginica\n",
       "148           6.2          3.4           5.4          NaN  Virginica\n",
       "149           5.9          3.0           5.1          1.8  Virginica"
      ]
     },
     "execution_count": 3,
     "metadata": {},
     "output_type": "execute_result"
    }
   ],
   "source": [
    "data[\"petal.width\"].iloc[145:149] = None\n",
    "data.tail(7)"
   ]
  },
  {
   "cell_type": "markdown",
   "metadata": {},
   "source": [
    "## Построение гистограммы \"petal.length\""
   ]
  },
  {
   "cell_type": "code",
   "execution_count": 4,
   "metadata": {},
   "outputs": [
    {
     "data": {
      "image/png": "[encoded data removed]",
      "text/plain": [
       "<Figure size 720x360 with 1 Axes>"
      ]
     },
     "metadata": {
      "needs_background": "light"
     },
     "output_type": "display_data"
    }
   ],
   "source": [
    "data[\"petal.length\"].plot.hist( figsize=(10,5), \n",
    "                color='#21BA72', alpha=0.5, bins=20 );"
   ]
  },
  {
   "cell_type": "markdown",
   "metadata": {},
   "source": [
    "### Есть выброс \"petal.length\" в диапазоне примерно 1..1.9\n",
    "\n",
    "### Зафиксируем исходные данные до заполнения NaN "
   ]
  },
  {
   "cell_type": "code",
   "execution_count": 5,
   "metadata": {},
   "outputs": [],
   "source": [
    "with_outliers = data[\"petal.length\"].head(20).copy()\n",
    "before_NaN = data[\"petal.width\"].iloc[25:42].copy()"
   ]
  },
  {
   "cell_type": "markdown",
   "metadata": {},
   "source": [
    "### Заменяем  выброс \"petal.length\" расчетными данными\n",
    "\n",
    "#### длина лепестка не может быть отрицательной!"
   ]
  },
  {
   "cell_type": "code",
   "execution_count": 6,
   "metadata": {},
   "outputs": [
    {
     "data": {
      "image/png": "[encoded data removed]",
      "text/plain": [
       "<Figure size 720x360 with 1 Axes>"
      ]
     },
     "metadata": {
      "needs_background": "light"
     },
     "output_type": "display_data"
    }
   ],
   "source": [
    "data[\"petal.length\"][data[\"petal.length\"]<=2.8] = np.clip(np.random.normal(loc= data[\"petal.length\"][data[\"petal.length\"]>=2.8].median(),\n",
    "                                                        scale=data[\"petal.length\"].var(), \n",
    "                                                        size=len(data[\"petal.length\"][data[\"petal.length\"]<=2.8])), \n",
    "                                                          data[\"petal.length\"].min(),\n",
    "                                                          data[\"petal.length\"].max())\n",
    "data[\"petal.length\"].plot.hist( figsize=(10,5), \n",
    "                color='#21BA72', alpha=0.5, bins=20 );"
   ]
  },
  {
   "cell_type": "code",
   "execution_count": 7,
   "metadata": {},
   "outputs": [],
   "source": [
    "### снова выбросы :-(\n",
    "### убираем выброс минимумов ..."
   ]
  },
  {
   "cell_type": "code",
   "execution_count": 8,
   "metadata": {},
   "outputs": [
    {
     "data": {
      "image/png": "[encoded data removed]",
      "text/plain": [
       "<Figure size 720x360 with 1 Axes>"
      ]
     },
     "metadata": {
      "needs_background": "light"
     },
     "output_type": "display_data"
    }
   ],
   "source": [
    "data[\"petal.length\"][data[\"petal.length\"]==data[\"petal.length\"].min()] = np.clip(np.random.normal(loc= data[\"petal.length\"].median(),\n",
    "                                                        scale=data[\"petal.length\"].var(), \n",
    "                                                        size=len(data[\"petal.length\"][data[\"petal.length\"]==data[\"petal.length\"].min()]) ), \n",
    "                                                          data[\"petal.length\"].min(),\n",
    "                                                          data[\"petal.length\"].max())\n",
    "\n",
    "\n",
    "\n",
    "data[\"petal.length\"].plot.hist( figsize=(10,5), \n",
    "                color='#21BA72', alpha=0.5, bins=20 );"
   ]
  },
  {
   "cell_type": "markdown",
   "metadata": {},
   "source": [
    "### ... и убираем выброс максимумов "
   ]
  },
  {
   "cell_type": "code",
   "execution_count": 9,
   "metadata": {},
   "outputs": [
    {
     "data": {
      "image/png": "[encoded data removed]",
      "text/plain": [
       "<Figure size 720x360 with 1 Axes>"
      ]
     },
     "metadata": {
      "needs_background": "light"
     },
     "output_type": "display_data"
    }
   ],
   "source": [
    "data[\"petal.length\"][data[\"petal.length\"]==data[\"petal.length\"].max()] = np.clip(np.random.normal(loc= data[\"petal.length\"].median(),\n",
    "                                                        scale=data[\"petal.length\"].var(), \n",
    "                                                        size=len(data[\"petal.length\"][data[\"petal.length\"]==data[\"petal.length\"].max()]) ), \n",
    "                                                          data[\"petal.length\"].min(),\n",
    "                                                          data[\"petal.length\"].max())\n",
    "data[\"petal.length\"].plot.hist( figsize=(10,5), \n",
    "                color='#21BA72', alpha=0.5, bins=20 );"
   ]
  },
  {
   "cell_type": "code",
   "execution_count": 10,
   "metadata": {},
   "outputs": [
    {
     "data": {
      "text/html": [
       "<div>\n",
       "<style scoped>\n",
       "    .dataframe tbody tr th:only-of-type {\n",
       "        vertical-align: middle;\n",
       "    }\n",
       "\n",
       "    .dataframe tbody tr th {\n",
       "        vertical-align: top;\n",
       "    }\n",
       "\n",
       "    .dataframe thead th {\n",
       "        text-align: right;\n",
       "    }\n",
       "</style>\n",
       "<table border=\"1\" class=\"dataframe\">\n",
       "  <thead>\n",
       "    <tr style=\"text-align: right;\">\n",
       "      <th></th>\n",
       "      <th>With_outliers</th>\n",
       "      <th>After_norm</th>\n",
       "    </tr>\n",
       "  </thead>\n",
       "  <tbody>\n",
       "    <tr>\n",
       "      <th>0</th>\n",
       "      <td>1.4</td>\n",
       "      <td>1.295704</td>\n",
       "    </tr>\n",
       "    <tr>\n",
       "      <th>1</th>\n",
       "      <td>1.4</td>\n",
       "      <td>2.119015</td>\n",
       "    </tr>\n",
       "    <tr>\n",
       "      <th>2</th>\n",
       "      <td>1.3</td>\n",
       "      <td>5.726110</td>\n",
       "    </tr>\n",
       "    <tr>\n",
       "      <th>3</th>\n",
       "      <td>1.5</td>\n",
       "      <td>2.274185</td>\n",
       "    </tr>\n",
       "    <tr>\n",
       "      <th>4</th>\n",
       "      <td>1.4</td>\n",
       "      <td>6.404103</td>\n",
       "    </tr>\n",
       "    <tr>\n",
       "      <th>5</th>\n",
       "      <td>1.7</td>\n",
       "      <td>6.160700</td>\n",
       "    </tr>\n",
       "    <tr>\n",
       "      <th>6</th>\n",
       "      <td>1.4</td>\n",
       "      <td>6.785477</td>\n",
       "    </tr>\n",
       "    <tr>\n",
       "      <th>7</th>\n",
       "      <td>1.5</td>\n",
       "      <td>5.642773</td>\n",
       "    </tr>\n",
       "    <tr>\n",
       "      <th>8</th>\n",
       "      <td>1.4</td>\n",
       "      <td>1.715080</td>\n",
       "    </tr>\n",
       "    <tr>\n",
       "      <th>9</th>\n",
       "      <td>1.5</td>\n",
       "      <td>6.041882</td>\n",
       "    </tr>\n",
       "    <tr>\n",
       "      <th>10</th>\n",
       "      <td>1.5</td>\n",
       "      <td>2.597622</td>\n",
       "    </tr>\n",
       "    <tr>\n",
       "      <th>11</th>\n",
       "      <td>1.6</td>\n",
       "      <td>6.900000</td>\n",
       "    </tr>\n",
       "    <tr>\n",
       "      <th>12</th>\n",
       "      <td>1.4</td>\n",
       "      <td>5.412283</td>\n",
       "    </tr>\n",
       "    <tr>\n",
       "      <th>13</th>\n",
       "      <td>1.1</td>\n",
       "      <td>1.224936</td>\n",
       "    </tr>\n",
       "    <tr>\n",
       "      <th>14</th>\n",
       "      <td>1.2</td>\n",
       "      <td>5.910851</td>\n",
       "    </tr>\n",
       "    <tr>\n",
       "      <th>15</th>\n",
       "      <td>1.5</td>\n",
       "      <td>3.062185</td>\n",
       "    </tr>\n",
       "    <tr>\n",
       "      <th>16</th>\n",
       "      <td>1.3</td>\n",
       "      <td>5.302427</td>\n",
       "    </tr>\n",
       "    <tr>\n",
       "      <th>17</th>\n",
       "      <td>1.4</td>\n",
       "      <td>4.978063</td>\n",
       "    </tr>\n",
       "    <tr>\n",
       "      <th>18</th>\n",
       "      <td>1.7</td>\n",
       "      <td>6.900000</td>\n",
       "    </tr>\n",
       "    <tr>\n",
       "      <th>19</th>\n",
       "      <td>1.5</td>\n",
       "      <td>1.697609</td>\n",
       "    </tr>\n",
       "  </tbody>\n",
       "</table>\n",
       "</div>"
      ],
      "text/plain": [
       "    With_outliers  After_norm\n",
       "0             1.4    1.295704\n",
       "1             1.4    2.119015\n",
       "2             1.3    5.726110\n",
       "3             1.5    2.274185\n",
       "4             1.4    6.404103\n",
       "5             1.7    6.160700\n",
       "6             1.4    6.785477\n",
       "7             1.5    5.642773\n",
       "8             1.4    1.715080\n",
       "9             1.5    6.041882\n",
       "10            1.5    2.597622\n",
       "11            1.6    6.900000\n",
       "12            1.4    5.412283\n",
       "13            1.1    1.224936\n",
       "14            1.2    5.910851\n",
       "15            1.5    3.062185\n",
       "16            1.3    5.302427\n",
       "17            1.4    4.978063\n",
       "18            1.7    6.900000\n",
       "19            1.5    1.697609"
      ]
     },
     "metadata": {},
     "output_type": "display_data"
    }
   ],
   "source": [
    "display(pd.DataFrame(list(zip(with_outliers, data[\"petal.length\"].head(20))),\n",
    "                   columns=[\"With_outliers\", \"After_norm\"]))"
   ]
  },
  {
   "cell_type": "markdown",
   "metadata": {},
   "source": [
    "###### Выброс исчез"
   ]
  },
  {
   "cell_type": "markdown",
   "metadata": {},
   "source": [
    "## Построение гистограмы для \"petal.width\""
   ]
  },
  {
   "cell_type": "code",
   "execution_count": 11,
   "metadata": {},
   "outputs": [
    {
     "data": {
      "image/png": "[encoded data removed]",
      "text/plain": [
       "<Figure size 720x360 with 1 Axes>"
      ]
     },
     "metadata": {
      "needs_background": "light"
     },
     "output_type": "display_data"
    }
   ],
   "source": [
    "data[\"petal.width\"].plot.hist( figsize=(10,5), \n",
    "                color='#21BA72', alpha=0.5, bins=20 );"
   ]
  },
  {
   "cell_type": "markdown",
   "metadata": {},
   "source": [
    "### убеждаемся в наличии NaN"
   ]
  },
  {
   "cell_type": "code",
   "execution_count": 12,
   "metadata": {},
   "outputs": [
    {
     "data": {
      "text/plain": [
       "145   NaN\n",
       "146   NaN\n",
       "147   NaN\n",
       "148   NaN\n",
       "Name: petal.width, dtype: float64"
      ]
     },
     "execution_count": 12,
     "metadata": {},
     "output_type": "execute_result"
    }
   ],
   "source": [
    "data[\"petal.width\"][data[\"petal.width\"].isnull()]"
   ]
  },
  {
   "cell_type": "markdown",
   "metadata": {},
   "source": [
    "### Заполняем пропуски"
   ]
  },
  {
   "cell_type": "code",
   "execution_count": 13,
   "metadata": {},
   "outputs": [
    {
     "data": {
      "image/png": "[encoded data removed]",
      "text/plain": [
       "<Figure size 720x360 with 1 Axes>"
      ]
     },
     "metadata": {
      "needs_background": "light"
     },
     "output_type": "display_data"
    }
   ],
   "source": [
    "# используем std()\n",
    "data[\"petal.width\"].fillna(data[\"petal.width\"].mean() \n",
    "                           + data[\"petal.width\"].std()*np.random.randint(low=-1, high=2, size=1)[0], # ограничиваем отклонение\n",
    "                          inplace=True)\n",
    "data[\"petal.width\"].plot.hist( figsize=(10,5), \n",
    "                color='#21BA72', alpha=0.5, bins=20 );"
   ]
  },
  {
   "cell_type": "code",
   "execution_count": 14,
   "metadata": {},
   "outputs": [
    {
     "data": {
      "text/plain": [
       "143    2.300000\n",
       "144    2.500000\n",
       "145    1.930193\n",
       "146    1.930193\n",
       "147    1.930193\n",
       "148    1.930193\n",
       "149    1.800000\n",
       "Name: petal.width, dtype: float64"
      ]
     },
     "execution_count": 14,
     "metadata": {},
     "output_type": "execute_result"
    }
   ],
   "source": [
    "data[\"petal.width\"].tail(7)"
   ]
  },
  {
   "cell_type": "markdown",
   "metadata": {},
   "source": [
    "### добавим еще пропусков (примерно 1/6)\n",
    "### и проверим результаты по критерию $\\chi^2$"
   ]
  },
  {
   "cell_type": "code",
   "execution_count": 15,
   "metadata": {},
   "outputs": [
    {
     "data": {
      "text/plain": [
       "array([21.,  5.,  5.,  1.,  1.,  0.,  0.,  7.,  3.,  5., 20., 11.,  3.,\n",
       "        2.,  7., 11.,  5.,  2.,  5.,  5.])"
      ]
     },
     "execution_count": 15,
     "metadata": {},
     "output_type": "execute_result"
    },
    {
     "data": {
      "image/png": "[encoded data removed]",
      "text/plain": [
       "<Figure size 720x360 with 1 Axes>"
      ]
     },
     "metadata": {
      "needs_background": "light"
     },
     "output_type": "display_data"
    }
   ],
   "source": [
    "data[\"petal.width\"].iloc[125:139] = None\n",
    "data[\"petal.width\"].iloc[25:42] = None\n",
    "data[\"petal.width\"].plot.hist( figsize=(10,5), \n",
    "                color='#21BA72', alpha=0.5, bins=20 );\n",
    "\n",
    "# фиксируем значения гистограммы (с разными BINS)\n",
    "b_before, n_before, _ = plt.hist(data[\"petal.width\"], bins=20, visible=False);\n",
    "b2 = 5\n",
    "b_before_2, n_before_2, _ = plt.hist(data[\"petal.width\"], bins=b2, visible=False);\n",
    "\n",
    "# значения столбиков гистограммы\n",
    "b_before"
   ]
  },
  {
   "cell_type": "code",
   "execution_count": 16,
   "metadata": {},
   "outputs": [
    {
     "data": {
      "text/plain": [
       "25   NaN\n",
       "26   NaN\n",
       "27   NaN\n",
       "28   NaN\n",
       "29   NaN\n",
       "30   NaN\n",
       "31   NaN\n",
       "32   NaN\n",
       "33   NaN\n",
       "34   NaN\n",
       "35   NaN\n",
       "36   NaN\n",
       "37   NaN\n",
       "38   NaN\n",
       "39   NaN\n",
       "40   NaN\n",
       "41   NaN\n",
       "Name: petal.width, dtype: float64"
      ]
     },
     "execution_count": 16,
     "metadata": {},
     "output_type": "execute_result"
    }
   ],
   "source": [
    "data[\"petal.width\"].iloc[25:42]"
   ]
  },
  {
   "cell_type": "markdown",
   "metadata": {},
   "source": [
    "### Подготовка корректирующих значений"
   ]
  },
  {
   "cell_type": "code",
   "execution_count": 17,
   "metadata": {},
   "outputs": [
    {
     "data": {
      "text/html": [
       "<div>\n",
       "<style scoped>\n",
       "    .dataframe tbody tr th:only-of-type {\n",
       "        vertical-align: middle;\n",
       "    }\n",
       "\n",
       "    .dataframe tbody tr th {\n",
       "        vertical-align: top;\n",
       "    }\n",
       "\n",
       "    .dataframe thead th {\n",
       "        text-align: right;\n",
       "    }\n",
       "</style>\n",
       "<table border=\"1\" class=\"dataframe\">\n",
       "  <thead>\n",
       "    <tr style=\"text-align: right;\">\n",
       "      <th></th>\n",
       "      <th>petal.width</th>\n",
       "    </tr>\n",
       "  </thead>\n",
       "  <tbody>\n",
       "    <tr>\n",
       "      <th>0</th>\n",
       "      <td>-0.169920</td>\n",
       "    </tr>\n",
       "    <tr>\n",
       "      <th>1</th>\n",
       "      <td>0.477867</td>\n",
       "    </tr>\n",
       "    <tr>\n",
       "      <th>2</th>\n",
       "      <td>0.992478</td>\n",
       "    </tr>\n",
       "    <tr>\n",
       "      <th>3</th>\n",
       "      <td>0.774635</td>\n",
       "    </tr>\n",
       "    <tr>\n",
       "      <th>4</th>\n",
       "      <td>1.505386</td>\n",
       "    </tr>\n",
       "    <tr>\n",
       "      <th>...</th>\n",
       "      <td>...</td>\n",
       "    </tr>\n",
       "    <tr>\n",
       "      <th>145</th>\n",
       "      <td>0.839562</td>\n",
       "    </tr>\n",
       "    <tr>\n",
       "      <th>146</th>\n",
       "      <td>0.602686</td>\n",
       "    </tr>\n",
       "    <tr>\n",
       "      <th>147</th>\n",
       "      <td>1.276525</td>\n",
       "    </tr>\n",
       "    <tr>\n",
       "      <th>148</th>\n",
       "      <td>1.047119</td>\n",
       "    </tr>\n",
       "    <tr>\n",
       "      <th>149</th>\n",
       "      <td>1.040337</td>\n",
       "    </tr>\n",
       "  </tbody>\n",
       "</table>\n",
       "<p>150 rows × 1 columns</p>\n",
       "</div>"
      ],
      "text/plain": [
       "     petal.width\n",
       "0      -0.169920\n",
       "1       0.477867\n",
       "2       0.992478\n",
       "3       0.774635\n",
       "4       1.505386\n",
       "..           ...\n",
       "145     0.839562\n",
       "146     0.602686\n",
       "147     1.276525\n",
       "148     1.047119\n",
       "149     1.040337\n",
       "\n",
       "[150 rows x 1 columns]"
      ]
     },
     "execution_count": 17,
     "metadata": {},
     "output_type": "execute_result"
    }
   ],
   "source": [
    "df_corr = pd.DataFrame(np.random.normal(loc=data[\"petal.width\"].mean(),\n",
    "                                scale=data[\"petal.width\"].var(), \n",
    "                                size=len(data[\"petal.width\"])),\n",
    "                      columns = [\"petal.width\"]) \n",
    "                                \n",
    "df_corr                      "
   ]
  },
  {
   "cell_type": "code",
   "execution_count": 18,
   "metadata": {},
   "outputs": [
    {
     "data": {
      "text/plain": [
       "petal.width   -0.16992\n",
       "dtype: float64"
      ]
     },
     "execution_count": 18,
     "metadata": {},
     "output_type": "execute_result"
    }
   ],
   "source": [
    "df_corr.min() # больше нуля :-)"
   ]
  },
  {
   "cell_type": "markdown",
   "metadata": {},
   "source": [
    "### Заполняем пропуски"
   ]
  },
  {
   "cell_type": "code",
   "execution_count": 19,
   "metadata": {},
   "outputs": [
    {
     "data": {
      "text/html": [
       "<div>\n",
       "<style scoped>\n",
       "    .dataframe tbody tr th:only-of-type {\n",
       "        vertical-align: middle;\n",
       "    }\n",
       "\n",
       "    .dataframe tbody tr th {\n",
       "        vertical-align: top;\n",
       "    }\n",
       "\n",
       "    .dataframe thead th {\n",
       "        text-align: right;\n",
       "    }\n",
       "</style>\n",
       "<table border=\"1\" class=\"dataframe\">\n",
       "  <thead>\n",
       "    <tr style=\"text-align: right;\">\n",
       "      <th></th>\n",
       "      <th>before_set_NaN</th>\n",
       "      <th>After_filling</th>\n",
       "    </tr>\n",
       "  </thead>\n",
       "  <tbody>\n",
       "    <tr>\n",
       "      <th>0</th>\n",
       "      <td>0.2</td>\n",
       "      <td>1.781956</td>\n",
       "    </tr>\n",
       "    <tr>\n",
       "      <th>1</th>\n",
       "      <td>0.4</td>\n",
       "      <td>1.676293</td>\n",
       "    </tr>\n",
       "    <tr>\n",
       "      <th>2</th>\n",
       "      <td>0.2</td>\n",
       "      <td>1.898246</td>\n",
       "    </tr>\n",
       "    <tr>\n",
       "      <th>3</th>\n",
       "      <td>0.2</td>\n",
       "      <td>1.859426</td>\n",
       "    </tr>\n",
       "    <tr>\n",
       "      <th>4</th>\n",
       "      <td>0.2</td>\n",
       "      <td>1.226347</td>\n",
       "    </tr>\n",
       "    <tr>\n",
       "      <th>5</th>\n",
       "      <td>0.2</td>\n",
       "      <td>2.060016</td>\n",
       "    </tr>\n",
       "    <tr>\n",
       "      <th>6</th>\n",
       "      <td>0.4</td>\n",
       "      <td>0.767058</td>\n",
       "    </tr>\n",
       "    <tr>\n",
       "      <th>7</th>\n",
       "      <td>0.1</td>\n",
       "      <td>0.620853</td>\n",
       "    </tr>\n",
       "    <tr>\n",
       "      <th>8</th>\n",
       "      <td>0.2</td>\n",
       "      <td>1.249229</td>\n",
       "    </tr>\n",
       "    <tr>\n",
       "      <th>9</th>\n",
       "      <td>0.2</td>\n",
       "      <td>1.549283</td>\n",
       "    </tr>\n",
       "    <tr>\n",
       "      <th>10</th>\n",
       "      <td>0.2</td>\n",
       "      <td>0.748454</td>\n",
       "    </tr>\n",
       "    <tr>\n",
       "      <th>11</th>\n",
       "      <td>0.2</td>\n",
       "      <td>0.586538</td>\n",
       "    </tr>\n",
       "    <tr>\n",
       "      <th>12</th>\n",
       "      <td>0.1</td>\n",
       "      <td>1.276223</td>\n",
       "    </tr>\n",
       "    <tr>\n",
       "      <th>13</th>\n",
       "      <td>0.2</td>\n",
       "      <td>1.105992</td>\n",
       "    </tr>\n",
       "    <tr>\n",
       "      <th>14</th>\n",
       "      <td>0.2</td>\n",
       "      <td>1.439755</td>\n",
       "    </tr>\n",
       "    <tr>\n",
       "      <th>15</th>\n",
       "      <td>0.3</td>\n",
       "      <td>1.352479</td>\n",
       "    </tr>\n",
       "    <tr>\n",
       "      <th>16</th>\n",
       "      <td>0.3</td>\n",
       "      <td>0.394192</td>\n",
       "    </tr>\n",
       "  </tbody>\n",
       "</table>\n",
       "</div>"
      ],
      "text/plain": [
       "    before_set_NaN  After_filling\n",
       "0              0.2       1.781956\n",
       "1              0.4       1.676293\n",
       "2              0.2       1.898246\n",
       "3              0.2       1.859426\n",
       "4              0.2       1.226347\n",
       "5              0.2       2.060016\n",
       "6              0.4       0.767058\n",
       "7              0.1       0.620853\n",
       "8              0.2       1.249229\n",
       "9              0.2       1.549283\n",
       "10             0.2       0.748454\n",
       "11             0.2       0.586538\n",
       "12             0.1       1.276223\n",
       "13             0.2       1.105992\n",
       "14             0.2       1.439755\n",
       "15             0.3       1.352479\n",
       "16             0.3       0.394192"
      ]
     },
     "metadata": {},
     "output_type": "display_data"
    }
   ],
   "source": [
    "data.fillna(value=df_corr, inplace=True)\n",
    "display(pd.DataFrame(list(zip(before_NaN, data[\"petal.width\"].iloc[25:42])),\n",
    "                   columns=[\"before_set_NaN\", \"After_filling\"]))"
   ]
  },
  {
   "cell_type": "code",
   "execution_count": 20,
   "metadata": {},
   "outputs": [
    {
     "data": {
      "image/png": "[encoded data removed]",
      "text/plain": [
       "<Figure size 720x360 with 1 Axes>"
      ]
     },
     "metadata": {
      "needs_background": "light"
     },
     "output_type": "display_data"
    }
   ],
   "source": [
    "data[\"petal.width\"].plot.hist( figsize=(10,5), \n",
    "                color='#21BA72', alpha=0.5, bins=20, );\n",
    "# получаем параметры гистограммы c bins = 20\n",
    "b_after, n_after, _ = plt.hist(data[\"petal.width\"], bins=20, visible=False);\n",
    "# и bins = 10\n",
    "b_after_2, n_after_2, _ = plt.hist(data[\"petal.width\"], bins=b2, visible=False);"
   ]
  },
  {
   "cell_type": "markdown",
   "metadata": {},
   "source": [
    "### Почти похоже на исходный :-)\n",
    "\n",
    "#### ... но так ли это\n",
    "#### используем критерий $\\chi^2$"
   ]
  },
  {
   "cell_type": "code",
   "execution_count": 21,
   "metadata": {},
   "outputs": [
    {
     "data": {
      "text/plain": [
       "'1.8.1'"
      ]
     },
     "execution_count": 21,
     "metadata": {},
     "output_type": "execute_result"
    }
   ],
   "source": [
    "import scipy\n",
    "scipy.__version__"
   ]
  },
  {
   "cell_type": "code",
   "execution_count": 29,
   "metadata": {},
   "outputs": [
    {
     "name": "stdout",
     "output_type": "stream",
     "text": [
      "ДО\n",
      " [21.  5.  5.  1.  1.  0.  0.  7.  3.  5. 20. 11.  3.  2.  7. 11.  5.  2.\n",
      "  5.  5.] \n",
      "ПОСЛЕ\n",
      " [21.  5.  7.  4.  3.  1. 12.  9. 16. 21.  5. 10. 11. 10.  2.  8.  3.  0.\n",
      "  1.  1.]\n",
      "p_value = 1.5943546587259072e-06\n"
     ]
    }
   ],
   "source": [
    "# сравниваем методом хи-квадрат\n",
    "from scipy.stats import chisquare, chi2_contingency\n",
    "print (f\"ДО\\n {b_before} \\nПОСЛЕ\\n {b_after}\")\n",
    "#_, p_value = chisquare(b_before, b_after, ddof=len(b_after)-1)\n",
    "stat, p_value, dof, _= chi2_contingency([b_before, b_after])\n",
    "print(f\"p_value = {p_value}\")"
   ]
  },
  {
   "cell_type": "markdown",
   "metadata": {},
   "source": [
    "#### меняем bins"
   ]
  },
  {
   "cell_type": "code",
   "execution_count": 32,
   "metadata": {},
   "outputs": [
    {
     "name": "stdout",
     "output_type": "stream",
     "text": [
      "ДО\n",
      " [32.  8. 39. 23. 17.] \n",
      "ПОСЛЕ\n",
      " [37. 25. 52. 31.  5.]\n",
      "p_value = 1.5943546587259072e-06\n"
     ]
    }
   ],
   "source": [
    "print (f\"ДО\\n {b_before_2} \\nПОСЛЕ\\n {b_after_2}\")\n",
    "stat, p_value_2, dof, _= chi2_contingency([b_before, b_after])\n",
    "print(f\"p_value = {p_value_2}\")"
   ]
  },
  {
   "cell_type": "markdown",
   "metadata": {},
   "source": [
    "#### _...нужен иной подход ?_\n",
    "\n",
    "\n",
    "### Снова генерируем пропуски, но в этот раз удаляем "
   ]
  },
  {
   "cell_type": "code",
   "execution_count": 33,
   "metadata": {},
   "outputs": [
    {
     "data": {
      "text/html": [
       "<div>\n",
       "<style scoped>\n",
       "    .dataframe tbody tr th:only-of-type {\n",
       "        vertical-align: middle;\n",
       "    }\n",
       "\n",
       "    .dataframe tbody tr th {\n",
       "        vertical-align: top;\n",
       "    }\n",
       "\n",
       "    .dataframe thead th {\n",
       "        text-align: right;\n",
       "    }\n",
       "</style>\n",
       "<table border=\"1\" class=\"dataframe\">\n",
       "  <thead>\n",
       "    <tr style=\"text-align: right;\">\n",
       "      <th></th>\n",
       "      <th>sepal.length</th>\n",
       "      <th>sepal.width</th>\n",
       "      <th>petal.length</th>\n",
       "      <th>petal.width</th>\n",
       "      <th>variety</th>\n",
       "    </tr>\n",
       "  </thead>\n",
       "  <tbody>\n",
       "    <tr>\n",
       "      <th>140</th>\n",
       "      <td>6.7</td>\n",
       "      <td>3.1</td>\n",
       "      <td>5.6</td>\n",
       "      <td>NaN</td>\n",
       "      <td>Virginica</td>\n",
       "    </tr>\n",
       "    <tr>\n",
       "      <th>141</th>\n",
       "      <td>6.9</td>\n",
       "      <td>3.1</td>\n",
       "      <td>5.1</td>\n",
       "      <td>NaN</td>\n",
       "      <td>Virginica</td>\n",
       "    </tr>\n",
       "    <tr>\n",
       "      <th>142</th>\n",
       "      <td>5.8</td>\n",
       "      <td>2.7</td>\n",
       "      <td>5.1</td>\n",
       "      <td>NaN</td>\n",
       "      <td>Virginica</td>\n",
       "    </tr>\n",
       "    <tr>\n",
       "      <th>143</th>\n",
       "      <td>6.8</td>\n",
       "      <td>3.2</td>\n",
       "      <td>5.9</td>\n",
       "      <td>NaN</td>\n",
       "      <td>Virginica</td>\n",
       "    </tr>\n",
       "    <tr>\n",
       "      <th>144</th>\n",
       "      <td>6.7</td>\n",
       "      <td>3.3</td>\n",
       "      <td>5.7</td>\n",
       "      <td>NaN</td>\n",
       "      <td>Virginica</td>\n",
       "    </tr>\n",
       "    <tr>\n",
       "      <th>145</th>\n",
       "      <td>6.7</td>\n",
       "      <td>3.0</td>\n",
       "      <td>5.2</td>\n",
       "      <td>NaN</td>\n",
       "      <td>Virginica</td>\n",
       "    </tr>\n",
       "    <tr>\n",
       "      <th>146</th>\n",
       "      <td>6.3</td>\n",
       "      <td>2.5</td>\n",
       "      <td>5.0</td>\n",
       "      <td>NaN</td>\n",
       "      <td>Virginica</td>\n",
       "    </tr>\n",
       "    <tr>\n",
       "      <th>147</th>\n",
       "      <td>6.5</td>\n",
       "      <td>3.0</td>\n",
       "      <td>5.2</td>\n",
       "      <td>1.930193</td>\n",
       "      <td>Virginica</td>\n",
       "    </tr>\n",
       "    <tr>\n",
       "      <th>148</th>\n",
       "      <td>6.2</td>\n",
       "      <td>3.4</td>\n",
       "      <td>5.4</td>\n",
       "      <td>1.930193</td>\n",
       "      <td>Virginica</td>\n",
       "    </tr>\n",
       "    <tr>\n",
       "      <th>149</th>\n",
       "      <td>5.9</td>\n",
       "      <td>3.0</td>\n",
       "      <td>5.1</td>\n",
       "      <td>1.800000</td>\n",
       "      <td>Virginica</td>\n",
       "    </tr>\n",
       "  </tbody>\n",
       "</table>\n",
       "</div>"
      ],
      "text/plain": [
       "     sepal.length  sepal.width  petal.length  petal.width    variety\n",
       "140           6.7          3.1           5.6          NaN  Virginica\n",
       "141           6.9          3.1           5.1          NaN  Virginica\n",
       "142           5.8          2.7           5.1          NaN  Virginica\n",
       "143           6.8          3.2           5.9          NaN  Virginica\n",
       "144           6.7          3.3           5.7          NaN  Virginica\n",
       "145           6.7          3.0           5.2          NaN  Virginica\n",
       "146           6.3          2.5           5.0          NaN  Virginica\n",
       "147           6.5          3.0           5.2     1.930193  Virginica\n",
       "148           6.2          3.4           5.4     1.930193  Virginica\n",
       "149           5.9          3.0           5.1     1.800000  Virginica"
      ]
     },
     "execution_count": 33,
     "metadata": {},
     "output_type": "execute_result"
    }
   ],
   "source": [
    "data[\"petal.width\"].iloc[125:147] = None\n",
    "data.tail(10)"
   ]
  },
  {
   "cell_type": "code",
   "execution_count": 34,
   "metadata": {},
   "outputs": [
    {
     "data": {
      "text/html": [
       "<div>\n",
       "<style scoped>\n",
       "    .dataframe tbody tr th:only-of-type {\n",
       "        vertical-align: middle;\n",
       "    }\n",
       "\n",
       "    .dataframe tbody tr th {\n",
       "        vertical-align: top;\n",
       "    }\n",
       "\n",
       "    .dataframe thead th {\n",
       "        text-align: right;\n",
       "    }\n",
       "</style>\n",
       "<table border=\"1\" class=\"dataframe\">\n",
       "  <thead>\n",
       "    <tr style=\"text-align: right;\">\n",
       "      <th></th>\n",
       "      <th>sepal.length</th>\n",
       "      <th>sepal.width</th>\n",
       "      <th>petal.length</th>\n",
       "      <th>petal.width</th>\n",
       "      <th>variety</th>\n",
       "    </tr>\n",
       "  </thead>\n",
       "  <tbody>\n",
       "    <tr>\n",
       "      <th>118</th>\n",
       "      <td>7.7</td>\n",
       "      <td>2.6</td>\n",
       "      <td>3.542637</td>\n",
       "      <td>2.300000</td>\n",
       "      <td>Virginica</td>\n",
       "    </tr>\n",
       "    <tr>\n",
       "      <th>119</th>\n",
       "      <td>6.0</td>\n",
       "      <td>2.2</td>\n",
       "      <td>5.000000</td>\n",
       "      <td>1.500000</td>\n",
       "      <td>Virginica</td>\n",
       "    </tr>\n",
       "    <tr>\n",
       "      <th>120</th>\n",
       "      <td>6.9</td>\n",
       "      <td>3.2</td>\n",
       "      <td>5.700000</td>\n",
       "      <td>2.300000</td>\n",
       "      <td>Virginica</td>\n",
       "    </tr>\n",
       "    <tr>\n",
       "      <th>121</th>\n",
       "      <td>5.6</td>\n",
       "      <td>2.8</td>\n",
       "      <td>4.900000</td>\n",
       "      <td>2.000000</td>\n",
       "      <td>Virginica</td>\n",
       "    </tr>\n",
       "    <tr>\n",
       "      <th>122</th>\n",
       "      <td>7.7</td>\n",
       "      <td>2.8</td>\n",
       "      <td>6.700000</td>\n",
       "      <td>2.000000</td>\n",
       "      <td>Virginica</td>\n",
       "    </tr>\n",
       "    <tr>\n",
       "      <th>123</th>\n",
       "      <td>6.3</td>\n",
       "      <td>2.7</td>\n",
       "      <td>4.900000</td>\n",
       "      <td>1.800000</td>\n",
       "      <td>Virginica</td>\n",
       "    </tr>\n",
       "    <tr>\n",
       "      <th>124</th>\n",
       "      <td>6.7</td>\n",
       "      <td>3.3</td>\n",
       "      <td>5.700000</td>\n",
       "      <td>2.100000</td>\n",
       "      <td>Virginica</td>\n",
       "    </tr>\n",
       "    <tr>\n",
       "      <th>147</th>\n",
       "      <td>6.5</td>\n",
       "      <td>3.0</td>\n",
       "      <td>5.200000</td>\n",
       "      <td>1.930193</td>\n",
       "      <td>Virginica</td>\n",
       "    </tr>\n",
       "    <tr>\n",
       "      <th>148</th>\n",
       "      <td>6.2</td>\n",
       "      <td>3.4</td>\n",
       "      <td>5.400000</td>\n",
       "      <td>1.930193</td>\n",
       "      <td>Virginica</td>\n",
       "    </tr>\n",
       "    <tr>\n",
       "      <th>149</th>\n",
       "      <td>5.9</td>\n",
       "      <td>3.0</td>\n",
       "      <td>5.100000</td>\n",
       "      <td>1.800000</td>\n",
       "      <td>Virginica</td>\n",
       "    </tr>\n",
       "  </tbody>\n",
       "</table>\n",
       "</div>"
      ],
      "text/plain": [
       "     sepal.length  sepal.width  petal.length  petal.width    variety\n",
       "118           7.7          2.6      3.542637     2.300000  Virginica\n",
       "119           6.0          2.2      5.000000     1.500000  Virginica\n",
       "120           6.9          3.2      5.700000     2.300000  Virginica\n",
       "121           5.6          2.8      4.900000     2.000000  Virginica\n",
       "122           7.7          2.8      6.700000     2.000000  Virginica\n",
       "123           6.3          2.7      4.900000     1.800000  Virginica\n",
       "124           6.7          3.3      5.700000     2.100000  Virginica\n",
       "147           6.5          3.0      5.200000     1.930193  Virginica\n",
       "148           6.2          3.4      5.400000     1.930193  Virginica\n",
       "149           5.9          3.0      5.100000     1.800000  Virginica"
      ]
     },
     "execution_count": 34,
     "metadata": {},
     "output_type": "execute_result"
    }
   ],
   "source": [
    "data.dropna(inplace=True)\n",
    "data.tail(10)"
   ]
  },
  {
   "cell_type": "markdown",
   "metadata": {},
   "source": [
    "### \"Пропали\" все строки с пропусками\n",
    "\n",
    "## Заполняем смешанные пропуски\n",
    "#### ...но сначала их создадим ))"
   ]
  },
  {
   "cell_type": "code",
   "execution_count": 35,
   "metadata": {},
   "outputs": [
    {
     "data": {
      "text/html": [
       "<div>\n",
       "<style scoped>\n",
       "    .dataframe tbody tr th:only-of-type {\n",
       "        vertical-align: middle;\n",
       "    }\n",
       "\n",
       "    .dataframe tbody tr th {\n",
       "        vertical-align: top;\n",
       "    }\n",
       "\n",
       "    .dataframe thead th {\n",
       "        text-align: right;\n",
       "    }\n",
       "</style>\n",
       "<table border=\"1\" class=\"dataframe\">\n",
       "  <thead>\n",
       "    <tr style=\"text-align: right;\">\n",
       "      <th></th>\n",
       "      <th>sepal.length</th>\n",
       "      <th>sepal.width</th>\n",
       "      <th>petal.length</th>\n",
       "      <th>petal.width</th>\n",
       "      <th>variety</th>\n",
       "    </tr>\n",
       "  </thead>\n",
       "  <tbody>\n",
       "    <tr>\n",
       "      <th>0</th>\n",
       "      <td>5.1</td>\n",
       "      <td>3.5</td>\n",
       "      <td>1.295704</td>\n",
       "      <td>0.2</td>\n",
       "      <td>Setosa</td>\n",
       "    </tr>\n",
       "    <tr>\n",
       "      <th>1</th>\n",
       "      <td>4.9</td>\n",
       "      <td>3.0</td>\n",
       "      <td>2.119015</td>\n",
       "      <td>0.2</td>\n",
       "      <td>Setosa</td>\n",
       "    </tr>\n",
       "    <tr>\n",
       "      <th>2</th>\n",
       "      <td>4.7</td>\n",
       "      <td>3.2</td>\n",
       "      <td>5.726110</td>\n",
       "      <td>0.2</td>\n",
       "      <td>Setosa</td>\n",
       "    </tr>\n",
       "    <tr>\n",
       "      <th>3</th>\n",
       "      <td>4.6</td>\n",
       "      <td>3.1</td>\n",
       "      <td>2.274185</td>\n",
       "      <td>0.2</td>\n",
       "      <td>Setosa</td>\n",
       "    </tr>\n",
       "    <tr>\n",
       "      <th>4</th>\n",
       "      <td>5.0</td>\n",
       "      <td>3.6</td>\n",
       "      <td>6.404103</td>\n",
       "      <td>0.2</td>\n",
       "      <td>Setosa</td>\n",
       "    </tr>\n",
       "  </tbody>\n",
       "</table>\n",
       "</div>"
      ],
      "text/plain": [
       "   sepal.length  sepal.width  petal.length  petal.width variety\n",
       "0           5.1          3.5      1.295704          0.2  Setosa\n",
       "1           4.9          3.0      2.119015          0.2  Setosa\n",
       "2           4.7          3.2      5.726110          0.2  Setosa\n",
       "3           4.6          3.1      2.274185          0.2  Setosa\n",
       "4           5.0          3.6      6.404103          0.2  Setosa"
      ]
     },
     "metadata": {},
     "output_type": "display_data"
    },
    {
     "data": {
      "text/html": [
       "<div>\n",
       "<style scoped>\n",
       "    .dataframe tbody tr th:only-of-type {\n",
       "        vertical-align: middle;\n",
       "    }\n",
       "\n",
       "    .dataframe tbody tr th {\n",
       "        vertical-align: top;\n",
       "    }\n",
       "\n",
       "    .dataframe thead th {\n",
       "        text-align: right;\n",
       "    }\n",
       "</style>\n",
       "<table border=\"1\" class=\"dataframe\">\n",
       "  <thead>\n",
       "    <tr style=\"text-align: right;\">\n",
       "      <th></th>\n",
       "      <th>sepal.length</th>\n",
       "      <th>sepal.width</th>\n",
       "      <th>petal.length</th>\n",
       "      <th>petal.width</th>\n",
       "      <th>variety</th>\n",
       "    </tr>\n",
       "  </thead>\n",
       "  <tbody>\n",
       "    <tr>\n",
       "      <th>0</th>\n",
       "      <td>NaN</td>\n",
       "      <td>NaN</td>\n",
       "      <td>NaN</td>\n",
       "      <td>NaN</td>\n",
       "      <td>None</td>\n",
       "    </tr>\n",
       "    <tr>\n",
       "      <th>1</th>\n",
       "      <td>NaN</td>\n",
       "      <td>NaN</td>\n",
       "      <td>NaN</td>\n",
       "      <td>NaN</td>\n",
       "      <td>None</td>\n",
       "    </tr>\n",
       "    <tr>\n",
       "      <th>2</th>\n",
       "      <td>NaN</td>\n",
       "      <td>NaN</td>\n",
       "      <td>NaN</td>\n",
       "      <td>NaN</td>\n",
       "      <td>None</td>\n",
       "    </tr>\n",
       "    <tr>\n",
       "      <th>3</th>\n",
       "      <td>4.6</td>\n",
       "      <td>3.1</td>\n",
       "      <td>2.274185</td>\n",
       "      <td>0.2</td>\n",
       "      <td>Setosa</td>\n",
       "    </tr>\n",
       "    <tr>\n",
       "      <th>4</th>\n",
       "      <td>5.0</td>\n",
       "      <td>3.6</td>\n",
       "      <td>6.404103</td>\n",
       "      <td>0.2</td>\n",
       "      <td>Setosa</td>\n",
       "    </tr>\n",
       "  </tbody>\n",
       "</table>\n",
       "</div>"
      ],
      "text/plain": [
       "   sepal.length  sepal.width  petal.length  petal.width variety\n",
       "0           NaN          NaN           NaN          NaN    None\n",
       "1           NaN          NaN           NaN          NaN    None\n",
       "2           NaN          NaN           NaN          NaN    None\n",
       "3           4.6          3.1      2.274185          0.2  Setosa\n",
       "4           5.0          3.6      6.404103          0.2  Setosa"
      ]
     },
     "metadata": {},
     "output_type": "display_data"
    }
   ],
   "source": [
    "display(data.head())\n",
    "data.iloc[0:3] = None\n",
    "display(data.head())"
   ]
  },
  {
   "cell_type": "code",
   "execution_count": 36,
   "metadata": {},
   "outputs": [
    {
     "data": {
      "text/html": [
       "<div>\n",
       "<style scoped>\n",
       "    .dataframe tbody tr th:only-of-type {\n",
       "        vertical-align: middle;\n",
       "    }\n",
       "\n",
       "    .dataframe tbody tr th {\n",
       "        vertical-align: top;\n",
       "    }\n",
       "\n",
       "    .dataframe thead th {\n",
       "        text-align: right;\n",
       "    }\n",
       "</style>\n",
       "<table border=\"1\" class=\"dataframe\">\n",
       "  <thead>\n",
       "    <tr style=\"text-align: right;\">\n",
       "      <th></th>\n",
       "      <th>sepal.length</th>\n",
       "      <th>sepal.width</th>\n",
       "      <th>petal.length</th>\n",
       "      <th>petal.width</th>\n",
       "      <th>variety</th>\n",
       "    </tr>\n",
       "  </thead>\n",
       "  <tbody>\n",
       "    <tr>\n",
       "      <th>0</th>\n",
       "      <td>5.012766</td>\n",
       "      <td>3.440426</td>\n",
       "      <td>4.914888</td>\n",
       "      <td>0.394192</td>\n",
       "      <td>Setosa</td>\n",
       "    </tr>\n",
       "    <tr>\n",
       "      <th>1</th>\n",
       "      <td>5.012766</td>\n",
       "      <td>3.440426</td>\n",
       "      <td>4.914888</td>\n",
       "      <td>0.394192</td>\n",
       "      <td>Setosa</td>\n",
       "    </tr>\n",
       "    <tr>\n",
       "      <th>2</th>\n",
       "      <td>5.012766</td>\n",
       "      <td>3.440426</td>\n",
       "      <td>4.914888</td>\n",
       "      <td>0.394192</td>\n",
       "      <td>Setosa</td>\n",
       "    </tr>\n",
       "    <tr>\n",
       "      <th>3</th>\n",
       "      <td>4.600000</td>\n",
       "      <td>3.100000</td>\n",
       "      <td>2.274185</td>\n",
       "      <td>0.200000</td>\n",
       "      <td>Setosa</td>\n",
       "    </tr>\n",
       "    <tr>\n",
       "      <th>4</th>\n",
       "      <td>5.000000</td>\n",
       "      <td>3.600000</td>\n",
       "      <td>6.404103</td>\n",
       "      <td>0.200000</td>\n",
       "      <td>Setosa</td>\n",
       "    </tr>\n",
       "  </tbody>\n",
       "</table>\n",
       "</div>"
      ],
      "text/plain": [
       "   sepal.length  sepal.width  petal.length  petal.width variety\n",
       "0      5.012766     3.440426      4.914888     0.394192  Setosa\n",
       "1      5.012766     3.440426      4.914888     0.394192  Setosa\n",
       "2      5.012766     3.440426      4.914888     0.394192  Setosa\n",
       "3      4.600000     3.100000      2.274185     0.200000  Setosa\n",
       "4      5.000000     3.600000      6.404103     0.200000  Setosa"
      ]
     },
     "metadata": {},
     "output_type": "display_data"
    }
   ],
   "source": [
    "values = {\"sepal.length\": data[\"sepal.length\"][data[\"variety\"]==\"Setosa\"].mean(),\n",
    "          \"sepal.width\": data[\"sepal.width\"][data[\"variety\"]==\"Setosa\"].mean(), \n",
    "          \"petal.length\": data[\"petal.length\"][data[\"variety\"]==\"Setosa\"].median(), \n",
    "          \"petal.width\": data[\"petal.width\"][data[\"variety\"]==\"Setosa\"].median(),\n",
    "          \"variety\": \"Setosa\"}\n",
    "data.fillna(value=values, inplace=True)\n",
    "display(data.head())"
   ]
  },
  {
   "cell_type": "markdown",
   "metadata": {},
   "source": [
    "## Extra case. Infinity"
   ]
  },
  {
   "cell_type": "code",
   "execution_count": 37,
   "metadata": {},
   "outputs": [
    {
     "data": {
      "text/html": [
       "<div>\n",
       "<style scoped>\n",
       "    .dataframe tbody tr th:only-of-type {\n",
       "        vertical-align: middle;\n",
       "    }\n",
       "\n",
       "    .dataframe tbody tr th {\n",
       "        vertical-align: top;\n",
       "    }\n",
       "\n",
       "    .dataframe thead th {\n",
       "        text-align: right;\n",
       "    }\n",
       "</style>\n",
       "<table border=\"1\" class=\"dataframe\">\n",
       "  <thead>\n",
       "    <tr style=\"text-align: right;\">\n",
       "      <th></th>\n",
       "      <th>sepal.length</th>\n",
       "      <th>sepal.width</th>\n",
       "      <th>petal.length</th>\n",
       "      <th>petal.width</th>\n",
       "      <th>variety</th>\n",
       "    </tr>\n",
       "  </thead>\n",
       "  <tbody>\n",
       "    <tr>\n",
       "      <th>15</th>\n",
       "      <td>5.7</td>\n",
       "      <td>4.4</td>\n",
       "      <td>3.062185</td>\n",
       "      <td>inf</td>\n",
       "      <td>Setosa</td>\n",
       "    </tr>\n",
       "    <tr>\n",
       "      <th>16</th>\n",
       "      <td>5.4</td>\n",
       "      <td>3.9</td>\n",
       "      <td>5.302427</td>\n",
       "      <td>-inf</td>\n",
       "      <td>Setosa</td>\n",
       "    </tr>\n",
       "    <tr>\n",
       "      <th>17</th>\n",
       "      <td>5.1</td>\n",
       "      <td>3.5</td>\n",
       "      <td>4.978063</td>\n",
       "      <td>inf</td>\n",
       "      <td>Setosa</td>\n",
       "    </tr>\n",
       "    <tr>\n",
       "      <th>18</th>\n",
       "      <td>5.7</td>\n",
       "      <td>3.8</td>\n",
       "      <td>6.900000</td>\n",
       "      <td>-inf</td>\n",
       "      <td>Setosa</td>\n",
       "    </tr>\n",
       "  </tbody>\n",
       "</table>\n",
       "</div>"
      ],
      "text/plain": [
       "    sepal.length  sepal.width  petal.length  petal.width variety\n",
       "15           5.7          4.4      3.062185          inf  Setosa\n",
       "16           5.4          3.9      5.302427         -inf  Setosa\n",
       "17           5.1          3.5      4.978063          inf  Setosa\n",
       "18           5.7          3.8      6.900000         -inf  Setosa"
      ]
     },
     "execution_count": 37,
     "metadata": {},
     "output_type": "execute_result"
    }
   ],
   "source": [
    "data[\"petal.width\"].iloc[15:19] = np.array((np.inf, -np.inf, np.inf, np.log(0)))\n",
    "data.iloc[15:19]"
   ]
  },
  {
   "cell_type": "markdown",
   "metadata": {},
   "source": [
    "### Гистограмма не строится при наличии inf"
   ]
  },
  {
   "cell_type": "code",
   "execution_count": 38,
   "metadata": {},
   "outputs": [
    {
     "data": {
      "text/plain": [
       "count    128.000000\n",
       "mean            NaN\n",
       "std             NaN\n",
       "min            -inf\n",
       "25%        0.596635\n",
       "50%        1.300000\n",
       "75%        1.786467\n",
       "max             inf\n",
       "Name: petal.width, dtype: float64"
      ]
     },
     "execution_count": 38,
     "metadata": {},
     "output_type": "execute_result"
    }
   ],
   "source": [
    "data[\"petal.width\"].describe()"
   ]
  },
  {
   "cell_type": "code",
   "execution_count": 39,
   "metadata": {},
   "outputs": [
    {
     "ename": "ValueError",
     "evalue": "autodetected range of [-inf, inf] is not finite",
     "output_type": "error",
     "traceback": [
      "\u001b[0;31m---------------------------------------------------------------------------\u001b[0m",
      "\u001b[0;31mValueError\u001b[0m                                Traceback (most recent call last)",
      "Input \u001b[0;32mIn [39]\u001b[0m, in \u001b[0;36m<cell line: 1>\u001b[0;34m()\u001b[0m\n\u001b[0;32m----> 1\u001b[0m \u001b[43mdata\u001b[49m\u001b[43m[\u001b[49m\u001b[38;5;124;43m\"\u001b[39;49m\u001b[38;5;124;43mpetal.width\u001b[39;49m\u001b[38;5;124;43m\"\u001b[39;49m\u001b[43m]\u001b[49m\u001b[38;5;241;43m.\u001b[39;49m\u001b[43mplot\u001b[49m\u001b[38;5;241;43m.\u001b[39;49m\u001b[43mhist\u001b[49m\u001b[43m(\u001b[49m\u001b[43m \u001b[49m\u001b[43mfigsize\u001b[49m\u001b[38;5;241;43m=\u001b[39;49m\u001b[43m(\u001b[49m\u001b[38;5;241;43m10\u001b[39;49m\u001b[43m,\u001b[49m\u001b[38;5;241;43m5\u001b[39;49m\u001b[43m)\u001b[49m\u001b[43m,\u001b[49m\u001b[43m \u001b[49m\n\u001b[1;32m      2\u001b[0m \u001b[43m                \u001b[49m\u001b[43mcolor\u001b[49m\u001b[38;5;241;43m=\u001b[39;49m\u001b[38;5;124;43m'\u001b[39;49m\u001b[38;5;124;43m#21BA72\u001b[39;49m\u001b[38;5;124;43m'\u001b[39;49m\u001b[43m,\u001b[49m\u001b[43m \u001b[49m\u001b[43malpha\u001b[49m\u001b[38;5;241;43m=\u001b[39;49m\u001b[38;5;241;43m0.5\u001b[39;49m\u001b[43m,\u001b[49m\u001b[43m \u001b[49m\u001b[43mbins\u001b[49m\u001b[38;5;241;43m=\u001b[39;49m\u001b[38;5;241;43m20\u001b[39;49m\u001b[43m \u001b[49m\u001b[43m)\u001b[49m\n",
      "File \u001b[0;32m~/opt/anaconda3/lib/python3.9/site-packages/pandas/plotting/_core.py:1346\u001b[0m, in \u001b[0;36mPlotAccessor.hist\u001b[0;34m(self, by, bins, **kwargs)\u001b[0m\n\u001b[1;32m   1286\u001b[0m \u001b[38;5;28;01mdef\u001b[39;00m \u001b[38;5;21mhist\u001b[39m(\u001b[38;5;28mself\u001b[39m, by\u001b[38;5;241m=\u001b[39m\u001b[38;5;28;01mNone\u001b[39;00m, bins\u001b[38;5;241m=\u001b[39m\u001b[38;5;241m10\u001b[39m, \u001b[38;5;241m*\u001b[39m\u001b[38;5;241m*\u001b[39mkwargs):\n\u001b[1;32m   1287\u001b[0m     \u001b[38;5;124;03m\"\"\"\u001b[39;00m\n\u001b[1;32m   1288\u001b[0m \u001b[38;5;124;03m    Draw one histogram of the DataFrame's columns.\u001b[39;00m\n\u001b[1;32m   1289\u001b[0m \n\u001b[0;32m   (...)\u001b[0m\n\u001b[1;32m   1344\u001b[0m \u001b[38;5;124;03m        >>> ax = df.plot.hist(column=[\"age\"], by=\"gender\", figsize=(10, 8))\u001b[39;00m\n\u001b[1;32m   1345\u001b[0m \u001b[38;5;124;03m    \"\"\"\u001b[39;00m\n\u001b[0;32m-> 1346\u001b[0m     \u001b[38;5;28;01mreturn\u001b[39;00m \u001b[38;5;28;43mself\u001b[39;49m\u001b[43m(\u001b[49m\u001b[43mkind\u001b[49m\u001b[38;5;241;43m=\u001b[39;49m\u001b[38;5;124;43m\"\u001b[39;49m\u001b[38;5;124;43mhist\u001b[39;49m\u001b[38;5;124;43m\"\u001b[39;49m\u001b[43m,\u001b[49m\u001b[43m \u001b[49m\u001b[43mby\u001b[49m\u001b[38;5;241;43m=\u001b[39;49m\u001b[43mby\u001b[49m\u001b[43m,\u001b[49m\u001b[43m \u001b[49m\u001b[43mbins\u001b[49m\u001b[38;5;241;43m=\u001b[39;49m\u001b[43mbins\u001b[49m\u001b[43m,\u001b[49m\u001b[43m \u001b[49m\u001b[38;5;241;43m*\u001b[39;49m\u001b[38;5;241;43m*\u001b[39;49m\u001b[43mkwargs\u001b[49m\u001b[43m)\u001b[49m\n",
      "File \u001b[0;32m~/opt/anaconda3/lib/python3.9/site-packages/pandas/plotting/_core.py:972\u001b[0m, in \u001b[0;36mPlotAccessor.__call__\u001b[0;34m(self, *args, **kwargs)\u001b[0m\n\u001b[1;32m    969\u001b[0m             label_name \u001b[38;5;241m=\u001b[39m label_kw \u001b[38;5;129;01mor\u001b[39;00m data\u001b[38;5;241m.\u001b[39mcolumns\n\u001b[1;32m    970\u001b[0m             data\u001b[38;5;241m.\u001b[39mcolumns \u001b[38;5;241m=\u001b[39m label_name\n\u001b[0;32m--> 972\u001b[0m \u001b[38;5;28;01mreturn\u001b[39;00m \u001b[43mplot_backend\u001b[49m\u001b[38;5;241;43m.\u001b[39;49m\u001b[43mplot\u001b[49m\u001b[43m(\u001b[49m\u001b[43mdata\u001b[49m\u001b[43m,\u001b[49m\u001b[43m \u001b[49m\u001b[43mkind\u001b[49m\u001b[38;5;241;43m=\u001b[39;49m\u001b[43mkind\u001b[49m\u001b[43m,\u001b[49m\u001b[43m \u001b[49m\u001b[38;5;241;43m*\u001b[39;49m\u001b[38;5;241;43m*\u001b[39;49m\u001b[43mkwargs\u001b[49m\u001b[43m)\u001b[49m\n",
      "File \u001b[0;32m~/opt/anaconda3/lib/python3.9/site-packages/pandas/plotting/_matplotlib/__init__.py:71\u001b[0m, in \u001b[0;36mplot\u001b[0;34m(data, kind, **kwargs)\u001b[0m\n\u001b[1;32m     69\u001b[0m         kwargs[\u001b[38;5;124m\"\u001b[39m\u001b[38;5;124max\u001b[39m\u001b[38;5;124m\"\u001b[39m] \u001b[38;5;241m=\u001b[39m \u001b[38;5;28mgetattr\u001b[39m(ax, \u001b[38;5;124m\"\u001b[39m\u001b[38;5;124mleft_ax\u001b[39m\u001b[38;5;124m\"\u001b[39m, ax)\n\u001b[1;32m     70\u001b[0m plot_obj \u001b[38;5;241m=\u001b[39m PLOT_CLASSES[kind](data, \u001b[38;5;241m*\u001b[39m\u001b[38;5;241m*\u001b[39mkwargs)\n\u001b[0;32m---> 71\u001b[0m \u001b[43mplot_obj\u001b[49m\u001b[38;5;241;43m.\u001b[39;49m\u001b[43mgenerate\u001b[49m\u001b[43m(\u001b[49m\u001b[43m)\u001b[49m\n\u001b[1;32m     72\u001b[0m plot_obj\u001b[38;5;241m.\u001b[39mdraw()\n\u001b[1;32m     73\u001b[0m \u001b[38;5;28;01mreturn\u001b[39;00m plot_obj\u001b[38;5;241m.\u001b[39mresult\n",
      "File \u001b[0;32m~/opt/anaconda3/lib/python3.9/site-packages/pandas/plotting/_matplotlib/core.py:326\u001b[0m, in \u001b[0;36mMPLPlot.generate\u001b[0;34m(self)\u001b[0m\n\u001b[1;32m    325\u001b[0m \u001b[38;5;28;01mdef\u001b[39;00m \u001b[38;5;21mgenerate\u001b[39m(\u001b[38;5;28mself\u001b[39m):\n\u001b[0;32m--> 326\u001b[0m     \u001b[38;5;28;43mself\u001b[39;49m\u001b[38;5;241;43m.\u001b[39;49m\u001b[43m_args_adjust\u001b[49m\u001b[43m(\u001b[49m\u001b[43m)\u001b[49m\n\u001b[1;32m    327\u001b[0m     \u001b[38;5;28mself\u001b[39m\u001b[38;5;241m.\u001b[39m_compute_plot_data()\n\u001b[1;32m    328\u001b[0m     \u001b[38;5;28mself\u001b[39m\u001b[38;5;241m.\u001b[39m_setup_subplots()\n",
      "File \u001b[0;32m~/opt/anaconda3/lib/python3.9/site-packages/pandas/plotting/_matplotlib/hist.py:60\u001b[0m, in \u001b[0;36mHistPlot._args_adjust\u001b[0;34m(self)\u001b[0m\n\u001b[1;32m     58\u001b[0m         \u001b[38;5;28mself\u001b[39m\u001b[38;5;241m.\u001b[39mbins \u001b[38;5;241m=\u001b[39m [\u001b[38;5;28mself\u001b[39m\u001b[38;5;241m.\u001b[39m_calculate_bins(group) \u001b[38;5;28;01mfor\u001b[39;00m key, group \u001b[38;5;129;01min\u001b[39;00m grouped]\n\u001b[1;32m     59\u001b[0m     \u001b[38;5;28;01melse\u001b[39;00m:\n\u001b[0;32m---> 60\u001b[0m         \u001b[38;5;28mself\u001b[39m\u001b[38;5;241m.\u001b[39mbins \u001b[38;5;241m=\u001b[39m \u001b[38;5;28;43mself\u001b[39;49m\u001b[38;5;241;43m.\u001b[39;49m\u001b[43m_calculate_bins\u001b[49m\u001b[43m(\u001b[49m\u001b[38;5;28;43mself\u001b[39;49m\u001b[38;5;241;43m.\u001b[39;49m\u001b[43mdata\u001b[49m\u001b[43m)\u001b[49m\n\u001b[1;32m     62\u001b[0m \u001b[38;5;28;01mif\u001b[39;00m is_list_like(\u001b[38;5;28mself\u001b[39m\u001b[38;5;241m.\u001b[39mbottom):\n\u001b[1;32m     63\u001b[0m     \u001b[38;5;28mself\u001b[39m\u001b[38;5;241m.\u001b[39mbottom \u001b[38;5;241m=\u001b[39m np\u001b[38;5;241m.\u001b[39marray(\u001b[38;5;28mself\u001b[39m\u001b[38;5;241m.\u001b[39mbottom)\n",
      "File \u001b[0;32m~/opt/anaconda3/lib/python3.9/site-packages/pandas/plotting/_matplotlib/hist.py:71\u001b[0m, in \u001b[0;36mHistPlot._calculate_bins\u001b[0;34m(self, data)\u001b[0m\n\u001b[1;32m     68\u001b[0m values \u001b[38;5;241m=\u001b[39m np\u001b[38;5;241m.\u001b[39mravel(values)\n\u001b[1;32m     69\u001b[0m values \u001b[38;5;241m=\u001b[39m values[\u001b[38;5;241m~\u001b[39misna(values)]\n\u001b[0;32m---> 71\u001b[0m hist, bins \u001b[38;5;241m=\u001b[39m \u001b[43mnp\u001b[49m\u001b[38;5;241;43m.\u001b[39;49m\u001b[43mhistogram\u001b[49m\u001b[43m(\u001b[49m\n\u001b[1;32m     72\u001b[0m \u001b[43m    \u001b[49m\u001b[43mvalues\u001b[49m\u001b[43m,\u001b[49m\u001b[43m \u001b[49m\u001b[43mbins\u001b[49m\u001b[38;5;241;43m=\u001b[39;49m\u001b[38;5;28;43mself\u001b[39;49m\u001b[38;5;241;43m.\u001b[39;49m\u001b[43mbins\u001b[49m\u001b[43m,\u001b[49m\u001b[43m \u001b[49m\u001b[38;5;28;43mrange\u001b[39;49m\u001b[38;5;241;43m=\u001b[39;49m\u001b[38;5;28;43mself\u001b[39;49m\u001b[38;5;241;43m.\u001b[39;49m\u001b[43mkwds\u001b[49m\u001b[38;5;241;43m.\u001b[39;49m\u001b[43mget\u001b[49m\u001b[43m(\u001b[49m\u001b[38;5;124;43m\"\u001b[39;49m\u001b[38;5;124;43mrange\u001b[39;49m\u001b[38;5;124;43m\"\u001b[39;49m\u001b[43m,\u001b[49m\u001b[43m \u001b[49m\u001b[38;5;28;43;01mNone\u001b[39;49;00m\u001b[43m)\u001b[49m\n\u001b[1;32m     73\u001b[0m \u001b[43m\u001b[49m\u001b[43m)\u001b[49m\n\u001b[1;32m     74\u001b[0m \u001b[38;5;28;01mreturn\u001b[39;00m bins\n",
      "File \u001b[0;32m<__array_function__ internals>:5\u001b[0m, in \u001b[0;36mhistogram\u001b[0;34m(*args, **kwargs)\u001b[0m\n",
      "File \u001b[0;32m~/opt/anaconda3/lib/python3.9/site-packages/numpy/lib/histograms.py:793\u001b[0m, in \u001b[0;36mhistogram\u001b[0;34m(a, bins, range, normed, weights, density)\u001b[0m\n\u001b[1;32m    681\u001b[0m \u001b[38;5;124mr\u001b[39m\u001b[38;5;124;03m\"\"\"\u001b[39;00m\n\u001b[1;32m    682\u001b[0m \u001b[38;5;124;03mCompute the histogram of a dataset.\u001b[39;00m\n\u001b[1;32m    683\u001b[0m \n\u001b[0;32m   (...)\u001b[0m\n\u001b[1;32m    789\u001b[0m \n\u001b[1;32m    790\u001b[0m \u001b[38;5;124;03m\"\"\"\u001b[39;00m\n\u001b[1;32m    791\u001b[0m a, weights \u001b[38;5;241m=\u001b[39m _ravel_and_check_weights(a, weights)\n\u001b[0;32m--> 793\u001b[0m bin_edges, uniform_bins \u001b[38;5;241m=\u001b[39m \u001b[43m_get_bin_edges\u001b[49m\u001b[43m(\u001b[49m\u001b[43ma\u001b[49m\u001b[43m,\u001b[49m\u001b[43m \u001b[49m\u001b[43mbins\u001b[49m\u001b[43m,\u001b[49m\u001b[43m \u001b[49m\u001b[38;5;28;43mrange\u001b[39;49m\u001b[43m,\u001b[49m\u001b[43m \u001b[49m\u001b[43mweights\u001b[49m\u001b[43m)\u001b[49m\n\u001b[1;32m    795\u001b[0m \u001b[38;5;66;03m# Histogram is an integer or a float array depending on the weights.\u001b[39;00m\n\u001b[1;32m    796\u001b[0m \u001b[38;5;28;01mif\u001b[39;00m weights \u001b[38;5;129;01mis\u001b[39;00m \u001b[38;5;28;01mNone\u001b[39;00m:\n",
      "File \u001b[0;32m~/opt/anaconda3/lib/python3.9/site-packages/numpy/lib/histograms.py:426\u001b[0m, in \u001b[0;36m_get_bin_edges\u001b[0;34m(a, bins, range, weights)\u001b[0m\n\u001b[1;32m    423\u001b[0m     \u001b[38;5;28;01mif\u001b[39;00m n_equal_bins \u001b[38;5;241m<\u001b[39m \u001b[38;5;241m1\u001b[39m:\n\u001b[1;32m    424\u001b[0m         \u001b[38;5;28;01mraise\u001b[39;00m \u001b[38;5;167;01mValueError\u001b[39;00m(\u001b[38;5;124m'\u001b[39m\u001b[38;5;124m`bins` must be positive, when an integer\u001b[39m\u001b[38;5;124m'\u001b[39m)\n\u001b[0;32m--> 426\u001b[0m     first_edge, last_edge \u001b[38;5;241m=\u001b[39m \u001b[43m_get_outer_edges\u001b[49m\u001b[43m(\u001b[49m\u001b[43ma\u001b[49m\u001b[43m,\u001b[49m\u001b[43m \u001b[49m\u001b[38;5;28;43mrange\u001b[39;49m\u001b[43m)\u001b[49m\n\u001b[1;32m    428\u001b[0m \u001b[38;5;28;01melif\u001b[39;00m np\u001b[38;5;241m.\u001b[39mndim(bins) \u001b[38;5;241m==\u001b[39m \u001b[38;5;241m1\u001b[39m:\n\u001b[1;32m    429\u001b[0m     bin_edges \u001b[38;5;241m=\u001b[39m np\u001b[38;5;241m.\u001b[39masarray(bins)\n",
      "File \u001b[0;32m~/opt/anaconda3/lib/python3.9/site-packages/numpy/lib/histograms.py:323\u001b[0m, in \u001b[0;36m_get_outer_edges\u001b[0;34m(a, range)\u001b[0m\n\u001b[1;32m    321\u001b[0m     first_edge, last_edge \u001b[38;5;241m=\u001b[39m a\u001b[38;5;241m.\u001b[39mmin(), a\u001b[38;5;241m.\u001b[39mmax()\n\u001b[1;32m    322\u001b[0m     \u001b[38;5;28;01mif\u001b[39;00m \u001b[38;5;129;01mnot\u001b[39;00m (np\u001b[38;5;241m.\u001b[39misfinite(first_edge) \u001b[38;5;129;01mand\u001b[39;00m np\u001b[38;5;241m.\u001b[39misfinite(last_edge)):\n\u001b[0;32m--> 323\u001b[0m         \u001b[38;5;28;01mraise\u001b[39;00m \u001b[38;5;167;01mValueError\u001b[39;00m(\n\u001b[1;32m    324\u001b[0m             \u001b[38;5;124m\"\u001b[39m\u001b[38;5;124mautodetected range of [\u001b[39m\u001b[38;5;132;01m{}\u001b[39;00m\u001b[38;5;124m, \u001b[39m\u001b[38;5;132;01m{}\u001b[39;00m\u001b[38;5;124m] is not finite\u001b[39m\u001b[38;5;124m\"\u001b[39m\u001b[38;5;241m.\u001b[39mformat(first_edge, last_edge))\n\u001b[1;32m    326\u001b[0m \u001b[38;5;66;03m# expand empty range to avoid divide by zero\u001b[39;00m\n\u001b[1;32m    327\u001b[0m \u001b[38;5;28;01mif\u001b[39;00m first_edge \u001b[38;5;241m==\u001b[39m last_edge:\n",
      "\u001b[0;31mValueError\u001b[0m: autodetected range of [-inf, inf] is not finite"
     ]
    }
   ],
   "source": [
    "data[\"petal.width\"].plot.hist( figsize=(10,5), \n",
    "                color='#21BA72', alpha=0.5, bins=20 );\n",
    "# Ой! Что-то пойшло не так!"
   ]
  },
  {
   "cell_type": "markdown",
   "metadata": {},
   "source": [
    "## Заменяем inf и -inf на NaN"
   ]
  },
  {
   "cell_type": "code",
   "execution_count": null,
   "metadata": {},
   "outputs": [],
   "source": [
    "data.replace([np.inf, -np.inf], np.nan, inplace=True)\n",
    "data.iloc[14:20]"
   ]
  },
  {
   "cell_type": "markdown",
   "metadata": {},
   "source": [
    "### а дальше дело техники..."
   ]
  },
  {
   "cell_type": "markdown",
   "metadata": {},
   "source": [
    "# Устранение пропусков в линиях/рядах"
   ]
  },
  {
   "cell_type": "code",
   "execution_count": 40,
   "metadata": {},
   "outputs": [
    {
     "data": {
      "image/png": "[encoded data removed]",
      "text/plain": [
       "<Figure size 720x360 with 1 Axes>"
      ]
     },
     "metadata": {
      "needs_background": "light"
     },
     "output_type": "display_data"
    },
    {
     "data": {
      "image/png": "[encoded data removed]",
      "text/plain": [
       "<Figure size 720x360 with 1 Axes>"
      ]
     },
     "metadata": {
      "needs_background": "light"
     },
     "output_type": "display_data"
    }
   ],
   "source": [
    "sbercolors = ['#21A038','#0087CD','#00D900', '#FAED00',  '#42E3B4','#21BA72'] \n",
    "image_params = dict(figsize=(10,5), \n",
    "                color=sbercolors)\n",
    "samples = np.random.randn(1000, 5)\n",
    "\n",
    "df = pd.DataFrame(samples, \n",
    "                   index=pd.date_range(\"1/1/2015\", periods=1000),\n",
    "                   columns=list(\"ABCDE\"))\n",
    "df = df.cumsum()\n",
    "df.plot(**image_params);    \n",
    "before = df.iloc[400:420].copy()        \n",
    "df.iloc[390:450] = None\n",
    "\n",
    "df.plot(**image_params);\n",
    "  "
   ]
  },
  {
   "cell_type": "code",
   "execution_count": 41,
   "metadata": {},
   "outputs": [
    {
     "data": {
      "image/png": "[encoded data removed]",
      "text/plain": [
       "<Figure size 720x360 with 1 Axes>"
      ]
     },
     "metadata": {
      "needs_background": "light"
     },
     "output_type": "display_data"
    }
   ],
   "source": [
    "to_fill = {\"A\": df[\"A\"].interpolate(method='linear'),\n",
    "           \"B\": df[\"B\"].interpolate(method='time'),\n",
    "           \"C\": df[\"C\"].interpolate(method='pad'),\n",
    "           \"D\": df[\"D\"].interpolate(method='nearest'),\n",
    "           \"E\": df[\"E\"].interpolate(method='akima'),}\n",
    "df.fillna(value=to_fill, inplace=True)\n",
    "df.plot(**image_params);\n"
   ]
  },
  {
   "cell_type": "code",
   "execution_count": 42,
   "metadata": {},
   "outputs": [
    {
     "data": {
      "text/html": [
       "<div>\n",
       "<style scoped>\n",
       "    .dataframe tbody tr th:only-of-type {\n",
       "        vertical-align: middle;\n",
       "    }\n",
       "\n",
       "    .dataframe tbody tr th {\n",
       "        vertical-align: top;\n",
       "    }\n",
       "\n",
       "    .dataframe thead tr th {\n",
       "        text-align: left;\n",
       "    }\n",
       "</style>\n",
       "<table border=\"1\" class=\"dataframe\">\n",
       "  <thead>\n",
       "    <tr>\n",
       "      <th>subject</th>\n",
       "      <th colspan=\"5\" halign=\"left\">Before</th>\n",
       "      <th colspan=\"5\" halign=\"left\">Recycled</th>\n",
       "    </tr>\n",
       "    <tr>\n",
       "      <th>type</th>\n",
       "      <th>A</th>\n",
       "      <th>B</th>\n",
       "      <th>C</th>\n",
       "      <th>D</th>\n",
       "      <th>E</th>\n",
       "      <th>A</th>\n",
       "      <th>B</th>\n",
       "      <th>C</th>\n",
       "      <th>D</th>\n",
       "      <th>E</th>\n",
       "    </tr>\n",
       "  </thead>\n",
       "  <tbody>\n",
       "    <tr>\n",
       "      <th>2016-02-05</th>\n",
       "      <td>22.722130</td>\n",
       "      <td>10.698341</td>\n",
       "      <td>16.970239</td>\n",
       "      <td>-8.399571</td>\n",
       "      <td>5.395405</td>\n",
       "      <td>22.087584</td>\n",
       "      <td>12.523742</td>\n",
       "      <td>13.196145</td>\n",
       "      <td>-4.58854</td>\n",
       "      <td>5.603987</td>\n",
       "    </tr>\n",
       "    <tr>\n",
       "      <th>2016-02-06</th>\n",
       "      <td>22.622392</td>\n",
       "      <td>9.549900</td>\n",
       "      <td>19.688943</td>\n",
       "      <td>-7.450786</td>\n",
       "      <td>6.278459</td>\n",
       "      <td>22.118478</td>\n",
       "      <td>12.735726</td>\n",
       "      <td>13.196145</td>\n",
       "      <td>-4.58854</td>\n",
       "      <td>5.422346</td>\n",
       "    </tr>\n",
       "    <tr>\n",
       "      <th>2016-02-07</th>\n",
       "      <td>22.212587</td>\n",
       "      <td>9.779597</td>\n",
       "      <td>19.613897</td>\n",
       "      <td>-7.408380</td>\n",
       "      <td>4.560532</td>\n",
       "      <td>22.149373</td>\n",
       "      <td>12.947710</td>\n",
       "      <td>13.196145</td>\n",
       "      <td>-4.58854</td>\n",
       "      <td>5.241058</td>\n",
       "    </tr>\n",
       "    <tr>\n",
       "      <th>2016-02-08</th>\n",
       "      <td>22.287575</td>\n",
       "      <td>9.849082</td>\n",
       "      <td>19.287903</td>\n",
       "      <td>-7.249251</td>\n",
       "      <td>4.269108</td>\n",
       "      <td>22.180267</td>\n",
       "      <td>13.159693</td>\n",
       "      <td>13.196145</td>\n",
       "      <td>-4.58854</td>\n",
       "      <td>5.060133</td>\n",
       "    </tr>\n",
       "    <tr>\n",
       "      <th>2016-02-09</th>\n",
       "      <td>21.291171</td>\n",
       "      <td>8.617546</td>\n",
       "      <td>19.558851</td>\n",
       "      <td>-8.464259</td>\n",
       "      <td>2.374512</td>\n",
       "      <td>22.211162</td>\n",
       "      <td>13.371677</td>\n",
       "      <td>13.196145</td>\n",
       "      <td>-4.58854</td>\n",
       "      <td>4.879580</td>\n",
       "    </tr>\n",
       "    <tr>\n",
       "      <th>2016-02-10</th>\n",
       "      <td>24.007369</td>\n",
       "      <td>8.665669</td>\n",
       "      <td>20.879460</td>\n",
       "      <td>-7.804680</td>\n",
       "      <td>1.968720</td>\n",
       "      <td>22.242056</td>\n",
       "      <td>13.583661</td>\n",
       "      <td>13.196145</td>\n",
       "      <td>-4.58854</td>\n",
       "      <td>4.699407</td>\n",
       "    </tr>\n",
       "    <tr>\n",
       "      <th>2016-02-11</th>\n",
       "      <td>23.498333</td>\n",
       "      <td>7.780160</td>\n",
       "      <td>20.074645</td>\n",
       "      <td>-7.668808</td>\n",
       "      <td>3.109098</td>\n",
       "      <td>22.272951</td>\n",
       "      <td>13.795645</td>\n",
       "      <td>13.196145</td>\n",
       "      <td>-4.58854</td>\n",
       "      <td>4.519624</td>\n",
       "    </tr>\n",
       "    <tr>\n",
       "      <th>2016-02-12</th>\n",
       "      <td>23.192093</td>\n",
       "      <td>9.026806</td>\n",
       "      <td>20.972230</td>\n",
       "      <td>-8.169094</td>\n",
       "      <td>2.414171</td>\n",
       "      <td>22.303845</td>\n",
       "      <td>14.007629</td>\n",
       "      <td>13.196145</td>\n",
       "      <td>-4.58854</td>\n",
       "      <td>4.340239</td>\n",
       "    </tr>\n",
       "    <tr>\n",
       "      <th>2016-02-13</th>\n",
       "      <td>23.273865</td>\n",
       "      <td>7.791931</td>\n",
       "      <td>21.443556</td>\n",
       "      <td>-8.696143</td>\n",
       "      <td>1.263614</td>\n",
       "      <td>22.334740</td>\n",
       "      <td>14.219613</td>\n",
       "      <td>13.196145</td>\n",
       "      <td>-4.58854</td>\n",
       "      <td>4.161262</td>\n",
       "    </tr>\n",
       "    <tr>\n",
       "      <th>2016-02-14</th>\n",
       "      <td>21.378275</td>\n",
       "      <td>7.541464</td>\n",
       "      <td>21.229234</td>\n",
       "      <td>-7.946468</td>\n",
       "      <td>1.126603</td>\n",
       "      <td>22.365634</td>\n",
       "      <td>14.431597</td>\n",
       "      <td>13.196145</td>\n",
       "      <td>-4.58854</td>\n",
       "      <td>3.982702</td>\n",
       "    </tr>\n",
       "    <tr>\n",
       "      <th>2016-02-15</th>\n",
       "      <td>20.269350</td>\n",
       "      <td>8.359360</td>\n",
       "      <td>21.060675</td>\n",
       "      <td>-9.338694</td>\n",
       "      <td>0.568844</td>\n",
       "      <td>22.396529</td>\n",
       "      <td>14.643581</td>\n",
       "      <td>13.196145</td>\n",
       "      <td>-4.58854</td>\n",
       "      <td>3.804566</td>\n",
       "    </tr>\n",
       "    <tr>\n",
       "      <th>2016-02-16</th>\n",
       "      <td>20.122102</td>\n",
       "      <td>8.566441</td>\n",
       "      <td>21.054664</td>\n",
       "      <td>-9.969826</td>\n",
       "      <td>-0.414865</td>\n",
       "      <td>22.427423</td>\n",
       "      <td>14.855564</td>\n",
       "      <td>13.196145</td>\n",
       "      <td>-4.58854</td>\n",
       "      <td>3.626865</td>\n",
       "    </tr>\n",
       "    <tr>\n",
       "      <th>2016-02-17</th>\n",
       "      <td>21.221940</td>\n",
       "      <td>7.714359</td>\n",
       "      <td>20.153137</td>\n",
       "      <td>-11.901354</td>\n",
       "      <td>0.367015</td>\n",
       "      <td>22.458318</td>\n",
       "      <td>15.067548</td>\n",
       "      <td>13.196145</td>\n",
       "      <td>-4.58854</td>\n",
       "      <td>3.449607</td>\n",
       "    </tr>\n",
       "    <tr>\n",
       "      <th>2016-02-18</th>\n",
       "      <td>21.219269</td>\n",
       "      <td>7.784479</td>\n",
       "      <td>20.871215</td>\n",
       "      <td>-11.428642</td>\n",
       "      <td>-1.310025</td>\n",
       "      <td>22.489212</td>\n",
       "      <td>15.279532</td>\n",
       "      <td>13.196145</td>\n",
       "      <td>-4.58854</td>\n",
       "      <td>3.272802</td>\n",
       "    </tr>\n",
       "    <tr>\n",
       "      <th>2016-02-19</th>\n",
       "      <td>21.692076</td>\n",
       "      <td>7.010181</td>\n",
       "      <td>21.346504</td>\n",
       "      <td>-11.123471</td>\n",
       "      <td>-1.427950</td>\n",
       "      <td>22.520107</td>\n",
       "      <td>15.491516</td>\n",
       "      <td>13.196145</td>\n",
       "      <td>-4.58854</td>\n",
       "      <td>3.096457</td>\n",
       "    </tr>\n",
       "    <tr>\n",
       "      <th>2016-02-20</th>\n",
       "      <td>21.743253</td>\n",
       "      <td>7.626499</td>\n",
       "      <td>20.005118</td>\n",
       "      <td>-9.885640</td>\n",
       "      <td>-2.538790</td>\n",
       "      <td>22.551001</td>\n",
       "      <td>15.703500</td>\n",
       "      <td>13.196145</td>\n",
       "      <td>-4.58854</td>\n",
       "      <td>2.920583</td>\n",
       "    </tr>\n",
       "    <tr>\n",
       "      <th>2016-02-21</th>\n",
       "      <td>21.912962</td>\n",
       "      <td>6.418540</td>\n",
       "      <td>18.691072</td>\n",
       "      <td>-9.366647</td>\n",
       "      <td>-0.988636</td>\n",
       "      <td>22.581896</td>\n",
       "      <td>15.915484</td>\n",
       "      <td>13.196145</td>\n",
       "      <td>-4.58854</td>\n",
       "      <td>2.745188</td>\n",
       "    </tr>\n",
       "    <tr>\n",
       "      <th>2016-02-22</th>\n",
       "      <td>21.763144</td>\n",
       "      <td>6.635789</td>\n",
       "      <td>16.883471</td>\n",
       "      <td>-10.494845</td>\n",
       "      <td>-1.723561</td>\n",
       "      <td>22.612790</td>\n",
       "      <td>16.127468</td>\n",
       "      <td>13.196145</td>\n",
       "      <td>-4.58854</td>\n",
       "      <td>2.570281</td>\n",
       "    </tr>\n",
       "    <tr>\n",
       "      <th>2016-02-23</th>\n",
       "      <td>21.721834</td>\n",
       "      <td>6.948549</td>\n",
       "      <td>18.146124</td>\n",
       "      <td>-10.712778</td>\n",
       "      <td>-0.538014</td>\n",
       "      <td>22.643685</td>\n",
       "      <td>16.339452</td>\n",
       "      <td>13.196145</td>\n",
       "      <td>-4.58854</td>\n",
       "      <td>2.395871</td>\n",
       "    </tr>\n",
       "    <tr>\n",
       "      <th>2016-02-24</th>\n",
       "      <td>22.052422</td>\n",
       "      <td>6.513044</td>\n",
       "      <td>19.278165</td>\n",
       "      <td>-10.648578</td>\n",
       "      <td>1.281293</td>\n",
       "      <td>22.674579</td>\n",
       "      <td>16.551435</td>\n",
       "      <td>13.196145</td>\n",
       "      <td>-4.58854</td>\n",
       "      <td>2.221967</td>\n",
       "    </tr>\n",
       "  </tbody>\n",
       "</table>\n",
       "</div>"
      ],
      "text/plain": [
       "subject        Before                                              Recycled  \\\n",
       "type                A          B          C          D         E          A   \n",
       "2016-02-05  22.722130  10.698341  16.970239  -8.399571  5.395405  22.087584   \n",
       "2016-02-06  22.622392   9.549900  19.688943  -7.450786  6.278459  22.118478   \n",
       "2016-02-07  22.212587   9.779597  19.613897  -7.408380  4.560532  22.149373   \n",
       "2016-02-08  22.287575   9.849082  19.287903  -7.249251  4.269108  22.180267   \n",
       "2016-02-09  21.291171   8.617546  19.558851  -8.464259  2.374512  22.211162   \n",
       "2016-02-10  24.007369   8.665669  20.879460  -7.804680  1.968720  22.242056   \n",
       "2016-02-11  23.498333   7.780160  20.074645  -7.668808  3.109098  22.272951   \n",
       "2016-02-12  23.192093   9.026806  20.972230  -8.169094  2.414171  22.303845   \n",
       "2016-02-13  23.273865   7.791931  21.443556  -8.696143  1.263614  22.334740   \n",
       "2016-02-14  21.378275   7.541464  21.229234  -7.946468  1.126603  22.365634   \n",
       "2016-02-15  20.269350   8.359360  21.060675  -9.338694  0.568844  22.396529   \n",
       "2016-02-16  20.122102   8.566441  21.054664  -9.969826 -0.414865  22.427423   \n",
       "2016-02-17  21.221940   7.714359  20.153137 -11.901354  0.367015  22.458318   \n",
       "2016-02-18  21.219269   7.784479  20.871215 -11.428642 -1.310025  22.489212   \n",
       "2016-02-19  21.692076   7.010181  21.346504 -11.123471 -1.427950  22.520107   \n",
       "2016-02-20  21.743253   7.626499  20.005118  -9.885640 -2.538790  22.551001   \n",
       "2016-02-21  21.912962   6.418540  18.691072  -9.366647 -0.988636  22.581896   \n",
       "2016-02-22  21.763144   6.635789  16.883471 -10.494845 -1.723561  22.612790   \n",
       "2016-02-23  21.721834   6.948549  18.146124 -10.712778 -0.538014  22.643685   \n",
       "2016-02-24  22.052422   6.513044  19.278165 -10.648578  1.281293  22.674579   \n",
       "\n",
       "subject                                              \n",
       "type                B          C        D         E  \n",
       "2016-02-05  12.523742  13.196145 -4.58854  5.603987  \n",
       "2016-02-06  12.735726  13.196145 -4.58854  5.422346  \n",
       "2016-02-07  12.947710  13.196145 -4.58854  5.241058  \n",
       "2016-02-08  13.159693  13.196145 -4.58854  5.060133  \n",
       "2016-02-09  13.371677  13.196145 -4.58854  4.879580  \n",
       "2016-02-10  13.583661  13.196145 -4.58854  4.699407  \n",
       "2016-02-11  13.795645  13.196145 -4.58854  4.519624  \n",
       "2016-02-12  14.007629  13.196145 -4.58854  4.340239  \n",
       "2016-02-13  14.219613  13.196145 -4.58854  4.161262  \n",
       "2016-02-14  14.431597  13.196145 -4.58854  3.982702  \n",
       "2016-02-15  14.643581  13.196145 -4.58854  3.804566  \n",
       "2016-02-16  14.855564  13.196145 -4.58854  3.626865  \n",
       "2016-02-17  15.067548  13.196145 -4.58854  3.449607  \n",
       "2016-02-18  15.279532  13.196145 -4.58854  3.272802  \n",
       "2016-02-19  15.491516  13.196145 -4.58854  3.096457  \n",
       "2016-02-20  15.703500  13.196145 -4.58854  2.920583  \n",
       "2016-02-21  15.915484  13.196145 -4.58854  2.745188  \n",
       "2016-02-22  16.127468  13.196145 -4.58854  2.570281  \n",
       "2016-02-23  16.339452  13.196145 -4.58854  2.395871  \n",
       "2016-02-24  16.551435  13.196145 -4.58854  2.221967  "
      ]
     },
     "metadata": {},
     "output_type": "display_data"
    }
   ],
   "source": [
    "to_check = pd.concat((before,df.iloc[400:420]), axis=1)\n",
    "to_check.columns = pd.MultiIndex.from_product([['Before', 'Recycled'], df.columns,],\n",
    "                                     names=['subject', 'type'])\n",
    "\n",
    "display(to_check) "
   ]
  },
  {
   "cell_type": "markdown",
   "metadata": {},
   "source": [
    "#### Проверим точность восстановления по критерию $\\chi^2$"
   ]
  },
  {
   "cell_type": "code",
   "execution_count": 71,
   "metadata": {},
   "outputs": [
    {
     "data": {
      "text/plain": [
       "'A: 0.8828484800985036'"
      ]
     },
     "metadata": {},
     "output_type": "display_data"
    },
    {
     "data": {
      "text/plain": [
       "'B: 0.2294652597104649'"
      ]
     },
     "metadata": {},
     "output_type": "display_data"
    },
    {
     "data": {
      "text/plain": [
       "'C: 0.25862733880506544'"
      ]
     },
     "metadata": {},
     "output_type": "display_data"
    },
    {
     "data": {
      "text/plain": [
       "'D: 0.24237917029490458'"
      ]
     },
     "metadata": {},
     "output_type": "display_data"
    },
    {
     "data": {
      "text/plain": [
       "'E: 0.4727338471848526'"
      ]
     },
     "metadata": {},
     "output_type": "display_data"
    }
   ],
   "source": [
    "for litera in \"ABCDE\":\n",
    "    stat, p_value = chisquare([to_check[\"Before\", litera].abs(), \n",
    "                               to_check[\"Recycled\",litera].abs()])\n",
    "    display(f\"{litera}: {np.mean(p_value)}\") "
   ]
  },
  {
   "cell_type": "markdown",
   "metadata": {},
   "source": [
    "#### или просто посчитаем погрешность"
   ]
  },
  {
   "cell_type": "code",
   "execution_count": 43,
   "metadata": {},
   "outputs": [
    {
     "data": {
      "text/html": [
       "<style type=\"text/css\">\n",
       "#T_16d85_row0_col0 {\n",
       "  background-color: #42E3B4;\n",
       "}\n",
       "#T_16d85_row1_col0 {\n",
       "  background-color: #0087CD;\n",
       "}\n",
       "#T_16d85_row2_col0 {\n",
       "  background-color: #FAED00;\n",
       "}\n",
       "</style>\n",
       "<table id=\"T_16d85\">\n",
       "  <thead>\n",
       "    <tr>\n",
       "      <th class=\"blank level0\" >&nbsp;</th>\n",
       "      <th id=\"T_16d85_level0_col0\" class=\"col_heading level0 col0\" >Colors</th>\n",
       "    </tr>\n",
       "  </thead>\n",
       "  <tbody>\n",
       "    <tr>\n",
       "      <th id=\"T_16d85_level0_row0\" class=\"row_heading level0 row0\" >0</th>\n",
       "      <td id=\"T_16d85_row0_col0\" class=\"data row0 col0\" >MAX</td>\n",
       "    </tr>\n",
       "    <tr>\n",
       "      <th id=\"T_16d85_level0_row1\" class=\"row_heading level0 row1\" >1</th>\n",
       "      <td id=\"T_16d85_row1_col0\" class=\"data row1 col0\" >MIN</td>\n",
       "    </tr>\n",
       "    <tr>\n",
       "      <th id=\"T_16d85_level0_row2\" class=\"row_heading level0 row2\" >2</th>\n",
       "      <td id=\"T_16d85_row2_col0\" class=\"data row2 col0\" >AVERAGE</td>\n",
       "    </tr>\n",
       "  </tbody>\n",
       "</table>\n"
      ],
      "text/plain": [
       "<pandas.io.formats.style.Styler at 0x7fb0b93c1fd0>"
      ]
     },
     "metadata": {},
     "output_type": "display_data"
    },
    {
     "data": {
      "text/html": [
       "<style type=\"text/css\">\n",
       "#T_de56a_row0_col1, #T_de56a_row1_col4, #T_de56a_row3_col3, #T_de56a_row5_col0, #T_de56a_row8_col2, #T_de56a_row8_col7, #T_de56a_row11_col5, #T_de56a_row12_col8, #T_de56a_row15_col9, #T_de56a_row19_col6 {\n",
       "  background-color: #42E3B4;\n",
       "}\n",
       "#T_de56a_row0_col6, #T_de56a_row0_col9, #T_de56a_row2_col5, #T_de56a_row11_col0, #T_de56a_row12_col3, #T_de56a_row15_col4, #T_de56a_row17_col2, #T_de56a_row19_col1 {\n",
       "  background-color: #0087CD;\n",
       "}\n",
       "#T_de56a_row20_col0, #T_de56a_row20_col1, #T_de56a_row20_col2, #T_de56a_row20_col3, #T_de56a_row20_col4, #T_de56a_row20_col5, #T_de56a_row20_col6, #T_de56a_row20_col9 {\n",
       "  background-color: #FAED00;\n",
       "}\n",
       "#T_de56a_row20_col7, #T_de56a_row20_col8 {\n",
       "  background-color: #FAED00;\n",
       "  background-color: #0087CD;\n",
       "}\n",
       "</style>\n",
       "<table id=\"T_de56a\">\n",
       "  <thead>\n",
       "    <tr>\n",
       "      <th class=\"index_name level0\" >subject</th>\n",
       "      <th id=\"T_de56a_level0_col0\" class=\"col_heading level0 col0\" colspan=\"5\">ABS</th>\n",
       "      <th id=\"T_de56a_level0_col5\" class=\"col_heading level0 col5\" colspan=\"5\">SQR</th>\n",
       "    </tr>\n",
       "    <tr>\n",
       "      <th class=\"index_name level1\" >type</th>\n",
       "      <th id=\"T_de56a_level1_col0\" class=\"col_heading level1 col0\" >A</th>\n",
       "      <th id=\"T_de56a_level1_col1\" class=\"col_heading level1 col1\" >B</th>\n",
       "      <th id=\"T_de56a_level1_col2\" class=\"col_heading level1 col2\" >C</th>\n",
       "      <th id=\"T_de56a_level1_col3\" class=\"col_heading level1 col3\" >D</th>\n",
       "      <th id=\"T_de56a_level1_col4\" class=\"col_heading level1 col4\" >E</th>\n",
       "      <th id=\"T_de56a_level1_col5\" class=\"col_heading level1 col5\" >A</th>\n",
       "      <th id=\"T_de56a_level1_col6\" class=\"col_heading level1 col6\" >B</th>\n",
       "      <th id=\"T_de56a_level1_col7\" class=\"col_heading level1 col7\" >C</th>\n",
       "      <th id=\"T_de56a_level1_col8\" class=\"col_heading level1 col8\" >D</th>\n",
       "      <th id=\"T_de56a_level1_col9\" class=\"col_heading level1 col9\" >E</th>\n",
       "    </tr>\n",
       "  </thead>\n",
       "  <tbody>\n",
       "    <tr>\n",
       "      <th id=\"T_de56a_level0_row0\" class=\"row_heading level0 row0\" >2016-02-05 00:00:00</th>\n",
       "      <td id=\"T_de56a_row0_col0\" class=\"data row0 col0\" >0.634546</td>\n",
       "      <td id=\"T_de56a_row0_col1\" class=\"data row0 col1\" >-1.825400</td>\n",
       "      <td id=\"T_de56a_row0_col2\" class=\"data row0 col2\" >3.774094</td>\n",
       "      <td id=\"T_de56a_row0_col3\" class=\"data row0 col3\" >-3.811031</td>\n",
       "      <td id=\"T_de56a_row0_col4\" class=\"data row0 col4\" >-0.208582</td>\n",
       "      <td id=\"T_de56a_row0_col5\" class=\"data row0 col5\" >0.402649</td>\n",
       "      <td id=\"T_de56a_row0_col6\" class=\"data row0 col6\" >3.332087</td>\n",
       "      <td id=\"T_de56a_row0_col7\" class=\"data row0 col7\" >14.243783</td>\n",
       "      <td id=\"T_de56a_row0_col8\" class=\"data row0 col8\" >14.523956</td>\n",
       "      <td id=\"T_de56a_row0_col9\" class=\"data row0 col9\" >0.043506</td>\n",
       "    </tr>\n",
       "    <tr>\n",
       "      <th id=\"T_de56a_level0_row1\" class=\"row_heading level0 row1\" >2016-02-06 00:00:00</th>\n",
       "      <td id=\"T_de56a_row1_col0\" class=\"data row1 col0\" >0.503913</td>\n",
       "      <td id=\"T_de56a_row1_col1\" class=\"data row1 col1\" >-3.185826</td>\n",
       "      <td id=\"T_de56a_row1_col2\" class=\"data row1 col2\" >6.492798</td>\n",
       "      <td id=\"T_de56a_row1_col3\" class=\"data row1 col3\" >-2.862245</td>\n",
       "      <td id=\"T_de56a_row1_col4\" class=\"data row1 col4\" >0.856113</td>\n",
       "      <td id=\"T_de56a_row1_col5\" class=\"data row1 col5\" >0.253929</td>\n",
       "      <td id=\"T_de56a_row1_col6\" class=\"data row1 col6\" >10.149486</td>\n",
       "      <td id=\"T_de56a_row1_col7\" class=\"data row1 col7\" >42.156422</td>\n",
       "      <td id=\"T_de56a_row1_col8\" class=\"data row1 col8\" >8.192448</td>\n",
       "      <td id=\"T_de56a_row1_col9\" class=\"data row1 col9\" >0.732929</td>\n",
       "    </tr>\n",
       "    <tr>\n",
       "      <th id=\"T_de56a_level0_row2\" class=\"row_heading level0 row2\" >2016-02-07 00:00:00</th>\n",
       "      <td id=\"T_de56a_row2_col0\" class=\"data row2 col0\" >0.063214</td>\n",
       "      <td id=\"T_de56a_row2_col1\" class=\"data row2 col1\" >-3.168112</td>\n",
       "      <td id=\"T_de56a_row2_col2\" class=\"data row2 col2\" >6.417752</td>\n",
       "      <td id=\"T_de56a_row2_col3\" class=\"data row2 col3\" >-2.819839</td>\n",
       "      <td id=\"T_de56a_row2_col4\" class=\"data row2 col4\" >-0.680526</td>\n",
       "      <td id=\"T_de56a_row2_col5\" class=\"data row2 col5\" >0.003996</td>\n",
       "      <td id=\"T_de56a_row2_col6\" class=\"data row2 col6\" >10.036937</td>\n",
       "      <td id=\"T_de56a_row2_col7\" class=\"data row2 col7\" >41.187537</td>\n",
       "      <td id=\"T_de56a_row2_col8\" class=\"data row2 col8\" >7.951494</td>\n",
       "      <td id=\"T_de56a_row2_col9\" class=\"data row2 col9\" >0.463115</td>\n",
       "    </tr>\n",
       "    <tr>\n",
       "      <th id=\"T_de56a_level0_row3\" class=\"row_heading level0 row3\" >2016-02-08 00:00:00</th>\n",
       "      <td id=\"T_de56a_row3_col0\" class=\"data row3 col0\" >0.107307</td>\n",
       "      <td id=\"T_de56a_row3_col1\" class=\"data row3 col1\" >-3.310612</td>\n",
       "      <td id=\"T_de56a_row3_col2\" class=\"data row3 col2\" >6.091758</td>\n",
       "      <td id=\"T_de56a_row3_col3\" class=\"data row3 col3\" >-2.660711</td>\n",
       "      <td id=\"T_de56a_row3_col4\" class=\"data row3 col4\" >-0.791025</td>\n",
       "      <td id=\"T_de56a_row3_col5\" class=\"data row3 col5\" >0.011515</td>\n",
       "      <td id=\"T_de56a_row3_col6\" class=\"data row3 col6\" >10.960150</td>\n",
       "      <td id=\"T_de56a_row3_col7\" class=\"data row3 col7\" >37.109518</td>\n",
       "      <td id=\"T_de56a_row3_col8\" class=\"data row3 col8\" >7.079382</td>\n",
       "      <td id=\"T_de56a_row3_col9\" class=\"data row3 col9\" >0.625721</td>\n",
       "    </tr>\n",
       "    <tr>\n",
       "      <th id=\"T_de56a_level0_row4\" class=\"row_heading level0 row4\" >2016-02-09 00:00:00</th>\n",
       "      <td id=\"T_de56a_row4_col0\" class=\"data row4 col0\" >-0.919991</td>\n",
       "      <td id=\"T_de56a_row4_col1\" class=\"data row4 col1\" >-4.754131</td>\n",
       "      <td id=\"T_de56a_row4_col2\" class=\"data row4 col2\" >6.362705</td>\n",
       "      <td id=\"T_de56a_row4_col3\" class=\"data row4 col3\" >-3.875719</td>\n",
       "      <td id=\"T_de56a_row4_col4\" class=\"data row4 col4\" >-2.505068</td>\n",
       "      <td id=\"T_de56a_row4_col5\" class=\"data row4 col5\" >0.846383</td>\n",
       "      <td id=\"T_de56a_row4_col6\" class=\"data row4 col6\" >22.601762</td>\n",
       "      <td id=\"T_de56a_row4_col7\" class=\"data row4 col7\" >40.484021</td>\n",
       "      <td id=\"T_de56a_row4_col8\" class=\"data row4 col8\" >15.021196</td>\n",
       "      <td id=\"T_de56a_row4_col9\" class=\"data row4 col9\" >6.275364</td>\n",
       "    </tr>\n",
       "    <tr>\n",
       "      <th id=\"T_de56a_level0_row5\" class=\"row_heading level0 row5\" >2016-02-10 00:00:00</th>\n",
       "      <td id=\"T_de56a_row5_col0\" class=\"data row5 col0\" >1.765313</td>\n",
       "      <td id=\"T_de56a_row5_col1\" class=\"data row5 col1\" >-4.917992</td>\n",
       "      <td id=\"T_de56a_row5_col2\" class=\"data row5 col2\" >7.683315</td>\n",
       "      <td id=\"T_de56a_row5_col3\" class=\"data row5 col3\" >-3.216140</td>\n",
       "      <td id=\"T_de56a_row5_col4\" class=\"data row5 col4\" >-2.730687</td>\n",
       "      <td id=\"T_de56a_row5_col5\" class=\"data row5 col5\" >3.116329</td>\n",
       "      <td id=\"T_de56a_row5_col6\" class=\"data row5 col6\" >24.186646</td>\n",
       "      <td id=\"T_de56a_row5_col7\" class=\"data row5 col7\" >59.033330</td>\n",
       "      <td id=\"T_de56a_row5_col8\" class=\"data row5 col8\" >10.343554</td>\n",
       "      <td id=\"T_de56a_row5_col9\" class=\"data row5 col9\" >7.456650</td>\n",
       "    </tr>\n",
       "    <tr>\n",
       "      <th id=\"T_de56a_level0_row6\" class=\"row_heading level0 row6\" >2016-02-11 00:00:00</th>\n",
       "      <td id=\"T_de56a_row6_col0\" class=\"data row6 col0\" >1.225382</td>\n",
       "      <td id=\"T_de56a_row6_col1\" class=\"data row6 col1\" >-6.015486</td>\n",
       "      <td id=\"T_de56a_row6_col2\" class=\"data row6 col2\" >6.878500</td>\n",
       "      <td id=\"T_de56a_row6_col3\" class=\"data row6 col3\" >-3.080267</td>\n",
       "      <td id=\"T_de56a_row6_col4\" class=\"data row6 col4\" >-1.410526</td>\n",
       "      <td id=\"T_de56a_row6_col5\" class=\"data row6 col5\" >1.501562</td>\n",
       "      <td id=\"T_de56a_row6_col6\" class=\"data row6 col6\" >36.186067</td>\n",
       "      <td id=\"T_de56a_row6_col7\" class=\"data row6 col7\" >47.313759</td>\n",
       "      <td id=\"T_de56a_row6_col8\" class=\"data row6 col8\" >9.488048</td>\n",
       "      <td id=\"T_de56a_row6_col9\" class=\"data row6 col9\" >1.989584</td>\n",
       "    </tr>\n",
       "    <tr>\n",
       "      <th id=\"T_de56a_level0_row7\" class=\"row_heading level0 row7\" >2016-02-12 00:00:00</th>\n",
       "      <td id=\"T_de56a_row7_col0\" class=\"data row7 col0\" >0.888248</td>\n",
       "      <td id=\"T_de56a_row7_col1\" class=\"data row7 col1\" >-4.980823</td>\n",
       "      <td id=\"T_de56a_row7_col2\" class=\"data row7 col2\" >7.776085</td>\n",
       "      <td id=\"T_de56a_row7_col3\" class=\"data row7 col3\" >-3.580554</td>\n",
       "      <td id=\"T_de56a_row7_col4\" class=\"data row7 col4\" >-1.926068</td>\n",
       "      <td id=\"T_de56a_row7_col5\" class=\"data row7 col5\" >0.788985</td>\n",
       "      <td id=\"T_de56a_row7_col6\" class=\"data row7 col6\" >24.808599</td>\n",
       "      <td id=\"T_de56a_row7_col7\" class=\"data row7 col7\" >60.467493</td>\n",
       "      <td id=\"T_de56a_row7_col8\" class=\"data row7 col8\" >12.820365</td>\n",
       "      <td id=\"T_de56a_row7_col9\" class=\"data row7 col9\" >3.709739</td>\n",
       "    </tr>\n",
       "    <tr>\n",
       "      <th id=\"T_de56a_level0_row8\" class=\"row_heading level0 row8\" >2016-02-13 00:00:00</th>\n",
       "      <td id=\"T_de56a_row8_col0\" class=\"data row8 col0\" >0.939125</td>\n",
       "      <td id=\"T_de56a_row8_col1\" class=\"data row8 col1\" >-6.427682</td>\n",
       "      <td id=\"T_de56a_row8_col2\" class=\"data row8 col2\" >8.247410</td>\n",
       "      <td id=\"T_de56a_row8_col3\" class=\"data row8 col3\" >-4.107603</td>\n",
       "      <td id=\"T_de56a_row8_col4\" class=\"data row8 col4\" >-2.897648</td>\n",
       "      <td id=\"T_de56a_row8_col5\" class=\"data row8 col5\" >0.881957</td>\n",
       "      <td id=\"T_de56a_row8_col6\" class=\"data row8 col6\" >41.315100</td>\n",
       "      <td id=\"T_de56a_row8_col7\" class=\"data row8 col7\" >68.019778</td>\n",
       "      <td id=\"T_de56a_row8_col8\" class=\"data row8 col8\" >16.872402</td>\n",
       "      <td id=\"T_de56a_row8_col9\" class=\"data row8 col9\" >8.396364</td>\n",
       "    </tr>\n",
       "    <tr>\n",
       "      <th id=\"T_de56a_level0_row9\" class=\"row_heading level0 row9\" >2016-02-14 00:00:00</th>\n",
       "      <td id=\"T_de56a_row9_col0\" class=\"data row9 col0\" >-0.987360</td>\n",
       "      <td id=\"T_de56a_row9_col1\" class=\"data row9 col1\" >-6.890133</td>\n",
       "      <td id=\"T_de56a_row9_col2\" class=\"data row9 col2\" >8.033089</td>\n",
       "      <td id=\"T_de56a_row9_col3\" class=\"data row9 col3\" >-3.357928</td>\n",
       "      <td id=\"T_de56a_row9_col4\" class=\"data row9 col4\" >-2.856098</td>\n",
       "      <td id=\"T_de56a_row9_col5\" class=\"data row9 col5\" >0.974879</td>\n",
       "      <td id=\"T_de56a_row9_col6\" class=\"data row9 col6\" >47.473928</td>\n",
       "      <td id=\"T_de56a_row9_col7\" class=\"data row9 col7\" >64.530514</td>\n",
       "      <td id=\"T_de56a_row9_col8\" class=\"data row9 col8\" >11.275681</td>\n",
       "      <td id=\"T_de56a_row9_col9\" class=\"data row9 col9\" >8.157297</td>\n",
       "    </tr>\n",
       "    <tr>\n",
       "      <th id=\"T_de56a_level0_row10\" class=\"row_heading level0 row10\" >2016-02-15 00:00:00</th>\n",
       "      <td id=\"T_de56a_row10_col0\" class=\"data row10 col0\" >-2.127179</td>\n",
       "      <td id=\"T_de56a_row10_col1\" class=\"data row10 col1\" >-6.284220</td>\n",
       "      <td id=\"T_de56a_row10_col2\" class=\"data row10 col2\" >7.864529</td>\n",
       "      <td id=\"T_de56a_row10_col3\" class=\"data row10 col3\" >-4.750154</td>\n",
       "      <td id=\"T_de56a_row10_col4\" class=\"data row10 col4\" >-3.235723</td>\n",
       "      <td id=\"T_de56a_row10_col5\" class=\"data row10 col5\" >4.524890</td>\n",
       "      <td id=\"T_de56a_row10_col6\" class=\"data row10 col6\" >39.491423</td>\n",
       "      <td id=\"T_de56a_row10_col7\" class=\"data row10 col7\" >61.850823</td>\n",
       "      <td id=\"T_de56a_row10_col8\" class=\"data row10 col8\" >22.563962</td>\n",
       "      <td id=\"T_de56a_row10_col9\" class=\"data row10 col9\" >10.469901</td>\n",
       "    </tr>\n",
       "    <tr>\n",
       "      <th id=\"T_de56a_level0_row11\" class=\"row_heading level0 row11\" >2016-02-16 00:00:00</th>\n",
       "      <td id=\"T_de56a_row11_col0\" class=\"data row11 col0\" >-2.305321</td>\n",
       "      <td id=\"T_de56a_row11_col1\" class=\"data row11 col1\" >-6.289123</td>\n",
       "      <td id=\"T_de56a_row11_col2\" class=\"data row11 col2\" >7.858519</td>\n",
       "      <td id=\"T_de56a_row11_col3\" class=\"data row11 col3\" >-5.381285</td>\n",
       "      <td id=\"T_de56a_row11_col4\" class=\"data row11 col4\" >-4.041730</td>\n",
       "      <td id=\"T_de56a_row11_col5\" class=\"data row11 col5\" >5.314506</td>\n",
       "      <td id=\"T_de56a_row11_col6\" class=\"data row11 col6\" >39.553068</td>\n",
       "      <td id=\"T_de56a_row11_col7\" class=\"data row11 col7\" >61.756314</td>\n",
       "      <td id=\"T_de56a_row11_col8\" class=\"data row11 col8\" >28.958232</td>\n",
       "      <td id=\"T_de56a_row11_col9\" class=\"data row11 col9\" >16.335581</td>\n",
       "    </tr>\n",
       "    <tr>\n",
       "      <th id=\"T_de56a_level0_row12\" class=\"row_heading level0 row12\" >2016-02-17 00:00:00</th>\n",
       "      <td id=\"T_de56a_row12_col0\" class=\"data row12 col0\" >-1.236378</td>\n",
       "      <td id=\"T_de56a_row12_col1\" class=\"data row12 col1\" >-7.353189</td>\n",
       "      <td id=\"T_de56a_row12_col2\" class=\"data row12 col2\" >6.956992</td>\n",
       "      <td id=\"T_de56a_row12_col3\" class=\"data row12 col3\" >-7.312814</td>\n",
       "      <td id=\"T_de56a_row12_col4\" class=\"data row12 col4\" >-3.082592</td>\n",
       "      <td id=\"T_de56a_row12_col5\" class=\"data row12 col5\" >1.528630</td>\n",
       "      <td id=\"T_de56a_row12_col6\" class=\"data row12 col6\" >54.069392</td>\n",
       "      <td id=\"T_de56a_row12_col7\" class=\"data row12 col7\" >48.399735</td>\n",
       "      <td id=\"T_de56a_row12_col8\" class=\"data row12 col8\" >53.477251</td>\n",
       "      <td id=\"T_de56a_row12_col9\" class=\"data row12 col9\" >9.502374</td>\n",
       "    </tr>\n",
       "    <tr>\n",
       "      <th id=\"T_de56a_level0_row13\" class=\"row_heading level0 row13\" >2016-02-18 00:00:00</th>\n",
       "      <td id=\"T_de56a_row13_col0\" class=\"data row13 col0\" >-1.269943</td>\n",
       "      <td id=\"T_de56a_row13_col1\" class=\"data row13 col1\" >-7.495054</td>\n",
       "      <td id=\"T_de56a_row13_col2\" class=\"data row13 col2\" >7.675070</td>\n",
       "      <td id=\"T_de56a_row13_col3\" class=\"data row13 col3\" >-6.840101</td>\n",
       "      <td id=\"T_de56a_row13_col4\" class=\"data row13 col4\" >-4.582826</td>\n",
       "      <td id=\"T_de56a_row13_col5\" class=\"data row13 col5\" >1.612756</td>\n",
       "      <td id=\"T_de56a_row13_col6\" class=\"data row13 col6\" >56.175829</td>\n",
       "      <td id=\"T_de56a_row13_col7\" class=\"data row13 col7\" >58.906698</td>\n",
       "      <td id=\"T_de56a_row13_col8\" class=\"data row13 col8\" >46.786987</td>\n",
       "      <td id=\"T_de56a_row13_col9\" class=\"data row13 col9\" >21.002298</td>\n",
       "    </tr>\n",
       "    <tr>\n",
       "      <th id=\"T_de56a_level0_row14\" class=\"row_heading level0 row14\" >2016-02-19 00:00:00</th>\n",
       "      <td id=\"T_de56a_row14_col0\" class=\"data row14 col0\" >-0.828030</td>\n",
       "      <td id=\"T_de56a_row14_col1\" class=\"data row14 col1\" >-8.481335</td>\n",
       "      <td id=\"T_de56a_row14_col2\" class=\"data row14 col2\" >8.150359</td>\n",
       "      <td id=\"T_de56a_row14_col3\" class=\"data row14 col3\" >-6.534931</td>\n",
       "      <td id=\"T_de56a_row14_col4\" class=\"data row14 col4\" >-4.524408</td>\n",
       "      <td id=\"T_de56a_row14_col5\" class=\"data row14 col5\" >0.685634</td>\n",
       "      <td id=\"T_de56a_row14_col6\" class=\"data row14 col6\" >71.933041</td>\n",
       "      <td id=\"T_de56a_row14_col7\" class=\"data row14 col7\" >66.428348</td>\n",
       "      <td id=\"T_de56a_row14_col8\" class=\"data row14 col8\" >42.705317</td>\n",
       "      <td id=\"T_de56a_row14_col9\" class=\"data row14 col9\" >20.470266</td>\n",
       "    </tr>\n",
       "    <tr>\n",
       "      <th id=\"T_de56a_level0_row15\" class=\"row_heading level0 row15\" >2016-02-20 00:00:00</th>\n",
       "      <td id=\"T_de56a_row15_col0\" class=\"data row15 col0\" >-0.807748</td>\n",
       "      <td id=\"T_de56a_row15_col1\" class=\"data row15 col1\" >-8.077001</td>\n",
       "      <td id=\"T_de56a_row15_col2\" class=\"data row15 col2\" >6.808973</td>\n",
       "      <td id=\"T_de56a_row15_col3\" class=\"data row15 col3\" >-5.297099</td>\n",
       "      <td id=\"T_de56a_row15_col4\" class=\"data row15 col4\" >-5.459374</td>\n",
       "      <td id=\"T_de56a_row15_col5\" class=\"data row15 col5\" >0.652458</td>\n",
       "      <td id=\"T_de56a_row15_col6\" class=\"data row15 col6\" >65.237941</td>\n",
       "      <td id=\"T_de56a_row15_col7\" class=\"data row15 col7\" >46.362116</td>\n",
       "      <td id=\"T_de56a_row15_col8\" class=\"data row15 col8\" >28.059260</td>\n",
       "      <td id=\"T_de56a_row15_col9\" class=\"data row15 col9\" >29.804760</td>\n",
       "    </tr>\n",
       "    <tr>\n",
       "      <th id=\"T_de56a_level0_row16\" class=\"row_heading level0 row16\" >2016-02-21 00:00:00</th>\n",
       "      <td id=\"T_de56a_row16_col0\" class=\"data row16 col0\" >-0.668934</td>\n",
       "      <td id=\"T_de56a_row16_col1\" class=\"data row16 col1\" >-9.496944</td>\n",
       "      <td id=\"T_de56a_row16_col2\" class=\"data row16 col2\" >5.494927</td>\n",
       "      <td id=\"T_de56a_row16_col3\" class=\"data row16 col3\" >-4.778107</td>\n",
       "      <td id=\"T_de56a_row16_col4\" class=\"data row16 col4\" >-3.733825</td>\n",
       "      <td id=\"T_de56a_row16_col5\" class=\"data row16 col5\" >0.447472</td>\n",
       "      <td id=\"T_de56a_row16_col6\" class=\"data row16 col6\" >90.191941</td>\n",
       "      <td id=\"T_de56a_row16_col7\" class=\"data row16 col7\" >30.194221</td>\n",
       "      <td id=\"T_de56a_row16_col8\" class=\"data row16 col8\" >22.830304</td>\n",
       "      <td id=\"T_de56a_row16_col9\" class=\"data row16 col9\" >13.941446</td>\n",
       "    </tr>\n",
       "    <tr>\n",
       "      <th id=\"T_de56a_level0_row17\" class=\"row_heading level0 row17\" >2016-02-22 00:00:00</th>\n",
       "      <td id=\"T_de56a_row17_col0\" class=\"data row17 col0\" >-0.849646</td>\n",
       "      <td id=\"T_de56a_row17_col1\" class=\"data row17 col1\" >-9.491679</td>\n",
       "      <td id=\"T_de56a_row17_col2\" class=\"data row17 col2\" >3.687326</td>\n",
       "      <td id=\"T_de56a_row17_col3\" class=\"data row17 col3\" >-5.906305</td>\n",
       "      <td id=\"T_de56a_row17_col4\" class=\"data row17 col4\" >-4.293842</td>\n",
       "      <td id=\"T_de56a_row17_col5\" class=\"data row17 col5\" >0.721898</td>\n",
       "      <td id=\"T_de56a_row17_col6\" class=\"data row17 col6\" >90.091968</td>\n",
       "      <td id=\"T_de56a_row17_col7\" class=\"data row17 col7\" >13.596373</td>\n",
       "      <td id=\"T_de56a_row17_col8\" class=\"data row17 col8\" >34.884439</td>\n",
       "      <td id=\"T_de56a_row17_col9\" class=\"data row17 col9\" >18.437081</td>\n",
       "    </tr>\n",
       "    <tr>\n",
       "      <th id=\"T_de56a_level0_row18\" class=\"row_heading level0 row18\" >2016-02-23 00:00:00</th>\n",
       "      <td id=\"T_de56a_row18_col0\" class=\"data row18 col0\" >-0.921851</td>\n",
       "      <td id=\"T_de56a_row18_col1\" class=\"data row18 col1\" >-9.390902</td>\n",
       "      <td id=\"T_de56a_row18_col2\" class=\"data row18 col2\" >4.949979</td>\n",
       "      <td id=\"T_de56a_row18_col3\" class=\"data row18 col3\" >-6.124238</td>\n",
       "      <td id=\"T_de56a_row18_col4\" class=\"data row18 col4\" >-2.933885</td>\n",
       "      <td id=\"T_de56a_row18_col5\" class=\"data row18 col5\" >0.849809</td>\n",
       "      <td id=\"T_de56a_row18_col6\" class=\"data row18 col6\" >88.189047</td>\n",
       "      <td id=\"T_de56a_row18_col7\" class=\"data row18 col7\" >24.502291</td>\n",
       "      <td id=\"T_de56a_row18_col8\" class=\"data row18 col8\" >37.506289</td>\n",
       "      <td id=\"T_de56a_row18_col9\" class=\"data row18 col9\" >8.607679</td>\n",
       "    </tr>\n",
       "    <tr>\n",
       "      <th id=\"T_de56a_level0_row19\" class=\"row_heading level0 row19\" >2016-02-24 00:00:00</th>\n",
       "      <td id=\"T_de56a_row19_col0\" class=\"data row19 col0\" >-0.622157</td>\n",
       "      <td id=\"T_de56a_row19_col1\" class=\"data row19 col1\" >-10.038391</td>\n",
       "      <td id=\"T_de56a_row19_col2\" class=\"data row19 col2\" >6.082020</td>\n",
       "      <td id=\"T_de56a_row19_col3\" class=\"data row19 col3\" >-6.060038</td>\n",
       "      <td id=\"T_de56a_row19_col4\" class=\"data row19 col4\" >-0.940674</td>\n",
       "      <td id=\"T_de56a_row19_col5\" class=\"data row19 col5\" >0.387079</td>\n",
       "      <td id=\"T_de56a_row19_col6\" class=\"data row19 col6\" >100.769303</td>\n",
       "      <td id=\"T_de56a_row19_col7\" class=\"data row19 col7\" >36.990967</td>\n",
       "      <td id=\"T_de56a_row19_col8\" class=\"data row19 col8\" >36.724061</td>\n",
       "      <td id=\"T_de56a_row19_col9\" class=\"data row19 col9\" >0.884868</td>\n",
       "    </tr>\n",
       "    <tr>\n",
       "      <th id=\"T_de56a_level0_row20\" class=\"row_heading level0 row20\" >-1</th>\n",
       "      <td id=\"T_de56a_row20_col0\" class=\"data row20 col0\" >-0.370874</td>\n",
       "      <td id=\"T_de56a_row20_col1\" class=\"data row20 col1\" >-6.393702</td>\n",
       "      <td id=\"T_de56a_row20_col2\" class=\"data row20 col2\" >6.664310</td>\n",
       "      <td id=\"T_de56a_row20_col3\" class=\"data row20 col3\" >-4.617855</td>\n",
       "      <td id=\"T_de56a_row20_col4\" class=\"data row20 col4\" >-2.598950</td>\n",
       "      <td id=\"T_de56a_row20_col5\" class=\"data row20 col5\" >1.158659</td>\n",
       "      <td id=\"T_de56a_row20_col6\" class=\"data row20 col6\" >6.984018</td>\n",
       "      <td id=\"T_de56a_row20_col7\" class=\"data row20 col7\" >6.971876</td>\n",
       "      <td id=\"T_de56a_row20_col8\" class=\"data row20 col8\" >4.963364</td>\n",
       "      <td id=\"T_de56a_row20_col9\" class=\"data row20 col9\" >3.139783</td>\n",
       "    </tr>\n",
       "  </tbody>\n",
       "</table>\n"
      ],
      "text/plain": [
       "<pandas.io.formats.style.Styler at 0x7fb0b93c1fa0>"
      ]
     },
     "execution_count": 43,
     "metadata": {},
     "output_type": "execute_result"
    }
   ],
   "source": [
    "# set colors for min, max. average values\n",
    "color_set = pd.DataFrame({\"Colors\":(\"MAX\", \"MIN\", \"AVERAGE\")})\n",
    "\n",
    "def highlight_fill(s):\n",
    "    colors =  ['background-color: #42E3B4',\n",
    "            'background-color: #0087CD',\n",
    "             'background-color: #FAED00']\n",
    "    return [colors[0] if i==0 else  colors[1] if i==1 else colors[2] for i in range(len(s))]\n",
    "\n",
    "\n",
    "color_set = color_set.style.apply(highlight_fill)\n",
    "display(color_set)\n",
    "\n",
    "# count accurancy values\n",
    "\n",
    "accurancy = pd.concat( (before-df.iloc[400:420],\n",
    "                       pow((before-df.iloc[400:420]),2)), axis=1) \n",
    "accurancy.columns = pd.MultiIndex.from_product([['ABS', 'SQR'], df.columns,],\n",
    "                                     names=['subject', 'type'])\n",
    "# adding a row\n",
    "accurancy.loc[-1] = [accurancy[a_s].mean() for a_s in accurancy.columns[:5].tolist()] +\\\n",
    "                    [np.sqrt(accurancy[a_s].sum()/(len(accurancy)-1)) for a_s in accurancy.columns[5:].tolist()]  \n",
    "\n",
    "def highlight_diff_max(s):\n",
    "    if max(abs(s))==max(s): \n",
    "        idx = s.tolist().index(max(abs(s)))\n",
    "    elif max(abs(s))!=max(s):\n",
    "        idx = s.tolist().index(max(s))\n",
    "    return ['background-color: #42E3B4' if i==idx else '' for i in range(len(s))]\n",
    "\n",
    "def highlight_diff_min(s):\n",
    "    if min(abs(s))==min(s): \n",
    "        idx = s.tolist().index(min(abs(s)))\n",
    "    elif min(abs(s))!=min(s):\n",
    "        idx = s.tolist().index(min(s))\n",
    "    return ['background-color: #0087CD' if i==idx else '' for i in range(len(s))]\n",
    "\n",
    "def highlight_last_row(s):\n",
    "    return ['background-color: #FAED00' if i==len(s)-1 else '' for i in range(len(s))]\n",
    "\n",
    "accurancy = accurancy.style.apply(highlight_last_row).apply(highlight_diff_max).apply(highlight_diff_min)\n",
    "accurancy\n"
   ]
  },
  {
   "cell_type": "markdown",
   "metadata": {},
   "source": [
    "### Красиво сохраняем..."
   ]
  },
  {
   "cell_type": "code",
   "execution_count": 95,
   "metadata": {},
   "outputs": [
    {
     "data": {
      "text/plain": [
       "pandas.io.formats.style.Styler"
      ]
     },
     "execution_count": 95,
     "metadata": {},
     "output_type": "execute_result"
    }
   ],
   "source": [
    "type(accurancy)"
   ]
  },
  {
   "cell_type": "code",
   "execution_count": 96,
   "metadata": {},
   "outputs": [],
   "source": [
    "accurancy.to_excel(\"accurancy.xlsx\") # xlsx only !!!!!!!!"
   ]
  },
  {
   "cell_type": "code",
   "execution_count": null,
   "metadata": {},
   "outputs": [],
   "source": []
  }
 ],
 "metadata": {
  "kernelspec": {
   "display_name": "Python 3 (ipykernel)",
   "language": "python",
   "name": "python3"
  },
  "language_info": {
   "codemirror_mode": {
    "name": "ipython",
    "version": 3
   },
   "file_extension": ".py",
   "mimetype": "text/x-python",
   "name": "python",
   "nbconvert_exporter": "python",
   "pygments_lexer": "ipython3",
   "version": "3.9.12"
  }
 },
 "nbformat": 4,
 "nbformat_minor": 4
}
