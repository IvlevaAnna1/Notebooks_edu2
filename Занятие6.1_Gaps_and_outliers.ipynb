{
 "cells": [
  {
   "cell_type": "markdown",
   "metadata": {},
   "source": [
    "# Обработка пропусков и выбросов в процессе первичного анализа статистики\n",
    "\n",
    "### Disclaimer: \n",
    "_Представленные ниже примеры предназначены исключительно для демонстрации подходов к устранению аномалий в данных. Выбор подхода в \"боевых условиях\" должен осуществляеться в соответсвии с решаемыми задачами и с учетом особенностей формирования данных в исследуемом процессе_"
   ]
  },
  {
   "cell_type": "code",
   "execution_count": 1,
   "metadata": {},
   "outputs": [],
   "source": [
    "import pandas as pd\n",
    "import numpy as np\n",
    "import matplotlib.pyplot as plt\n",
    "import warnings\n",
    "warnings.filterwarnings('ignore')"
   ]
  },
  {
   "cell_type": "markdown",
   "metadata": {},
   "source": [
    "## Загрузка датасета"
   ]
  },
  {
   "cell_type": "code",
   "execution_count": 2,
   "metadata": {},
   "outputs": [
    {
     "data": {
      "text/html": [
       "<div>\n",
       "<style scoped>\n",
       "    .dataframe tbody tr th:only-of-type {\n",
       "        vertical-align: middle;\n",
       "    }\n",
       "\n",
       "    .dataframe tbody tr th {\n",
       "        vertical-align: top;\n",
       "    }\n",
       "\n",
       "    .dataframe thead th {\n",
       "        text-align: right;\n",
       "    }\n",
       "</style>\n",
       "<table border=\"1\" class=\"dataframe\">\n",
       "  <thead>\n",
       "    <tr style=\"text-align: right;\">\n",
       "      <th></th>\n",
       "      <th>sepal.length</th>\n",
       "      <th>sepal.width</th>\n",
       "      <th>petal.length</th>\n",
       "      <th>petal.width</th>\n",
       "      <th>variety</th>\n",
       "    </tr>\n",
       "  </thead>\n",
       "  <tbody>\n",
       "    <tr>\n",
       "      <th>143</th>\n",
       "      <td>6.8</td>\n",
       "      <td>3.2</td>\n",
       "      <td>5.9</td>\n",
       "      <td>2.3</td>\n",
       "      <td>Virginica</td>\n",
       "    </tr>\n",
       "    <tr>\n",
       "      <th>144</th>\n",
       "      <td>6.7</td>\n",
       "      <td>3.3</td>\n",
       "      <td>5.7</td>\n",
       "      <td>2.5</td>\n",
       "      <td>Virginica</td>\n",
       "    </tr>\n",
       "    <tr>\n",
       "      <th>145</th>\n",
       "      <td>6.7</td>\n",
       "      <td>3.0</td>\n",
       "      <td>5.2</td>\n",
       "      <td>2.3</td>\n",
       "      <td>Virginica</td>\n",
       "    </tr>\n",
       "    <tr>\n",
       "      <th>146</th>\n",
       "      <td>6.3</td>\n",
       "      <td>2.5</td>\n",
       "      <td>5.0</td>\n",
       "      <td>1.9</td>\n",
       "      <td>Virginica</td>\n",
       "    </tr>\n",
       "    <tr>\n",
       "      <th>147</th>\n",
       "      <td>6.5</td>\n",
       "      <td>3.0</td>\n",
       "      <td>5.2</td>\n",
       "      <td>2.0</td>\n",
       "      <td>Virginica</td>\n",
       "    </tr>\n",
       "    <tr>\n",
       "      <th>148</th>\n",
       "      <td>6.2</td>\n",
       "      <td>3.4</td>\n",
       "      <td>5.4</td>\n",
       "      <td>2.3</td>\n",
       "      <td>Virginica</td>\n",
       "    </tr>\n",
       "    <tr>\n",
       "      <th>149</th>\n",
       "      <td>5.9</td>\n",
       "      <td>3.0</td>\n",
       "      <td>5.1</td>\n",
       "      <td>1.8</td>\n",
       "      <td>Virginica</td>\n",
       "    </tr>\n",
       "  </tbody>\n",
       "</table>\n",
       "</div>"
      ],
      "text/plain": [
       "     sepal.length  sepal.width  petal.length  petal.width    variety\n",
       "143           6.8          3.2           5.9          2.3  Virginica\n",
       "144           6.7          3.3           5.7          2.5  Virginica\n",
       "145           6.7          3.0           5.2          2.3  Virginica\n",
       "146           6.3          2.5           5.0          1.9  Virginica\n",
       "147           6.5          3.0           5.2          2.0  Virginica\n",
       "148           6.2          3.4           5.4          2.3  Virginica\n",
       "149           5.9          3.0           5.1          1.8  Virginica"
      ]
     },
     "execution_count": 2,
     "metadata": {},
     "output_type": "execute_result"
    }
   ],
   "source": [
    "data = pd.read_csv(\"iris.csv\")\n",
    "data.tail(7)"
   ]
  },
  {
   "cell_type": "markdown",
   "metadata": {},
   "source": [
    "### Добавляем немного NaN"
   ]
  },
  {
   "cell_type": "code",
   "execution_count": 3,
   "metadata": {},
   "outputs": [
    {
     "data": {
      "text/html": [
       "<div>\n",
       "<style scoped>\n",
       "    .dataframe tbody tr th:only-of-type {\n",
       "        vertical-align: middle;\n",
       "    }\n",
       "\n",
       "    .dataframe tbody tr th {\n",
       "        vertical-align: top;\n",
       "    }\n",
       "\n",
       "    .dataframe thead th {\n",
       "        text-align: right;\n",
       "    }\n",
       "</style>\n",
       "<table border=\"1\" class=\"dataframe\">\n",
       "  <thead>\n",
       "    <tr style=\"text-align: right;\">\n",
       "      <th></th>\n",
       "      <th>sepal.length</th>\n",
       "      <th>sepal.width</th>\n",
       "      <th>petal.length</th>\n",
       "      <th>petal.width</th>\n",
       "      <th>variety</th>\n",
       "    </tr>\n",
       "  </thead>\n",
       "  <tbody>\n",
       "    <tr>\n",
       "      <th>143</th>\n",
       "      <td>6.8</td>\n",
       "      <td>3.2</td>\n",
       "      <td>5.9</td>\n",
       "      <td>2.3</td>\n",
       "      <td>Virginica</td>\n",
       "    </tr>\n",
       "    <tr>\n",
       "      <th>144</th>\n",
       "      <td>6.7</td>\n",
       "      <td>3.3</td>\n",
       "      <td>5.7</td>\n",
       "      <td>2.5</td>\n",
       "      <td>Virginica</td>\n",
       "    </tr>\n",
       "    <tr>\n",
       "      <th>145</th>\n",
       "      <td>6.7</td>\n",
       "      <td>3.0</td>\n",
       "      <td>5.2</td>\n",
       "      <td>NaN</td>\n",
       "      <td>Virginica</td>\n",
       "    </tr>\n",
       "    <tr>\n",
       "      <th>146</th>\n",
       "      <td>6.3</td>\n",
       "      <td>2.5</td>\n",
       "      <td>5.0</td>\n",
       "      <td>NaN</td>\n",
       "      <td>Virginica</td>\n",
       "    </tr>\n",
       "    <tr>\n",
       "      <th>147</th>\n",
       "      <td>6.5</td>\n",
       "      <td>3.0</td>\n",
       "      <td>5.2</td>\n",
       "      <td>NaN</td>\n",
       "      <td>Virginica</td>\n",
       "    </tr>\n",
       "    <tr>\n",
       "      <th>148</th>\n",
       "      <td>6.2</td>\n",
       "      <td>3.4</td>\n",
       "      <td>5.4</td>\n",
       "      <td>NaN</td>\n",
       "      <td>Virginica</td>\n",
       "    </tr>\n",
       "    <tr>\n",
       "      <th>149</th>\n",
       "      <td>5.9</td>\n",
       "      <td>3.0</td>\n",
       "      <td>5.1</td>\n",
       "      <td>1.8</td>\n",
       "      <td>Virginica</td>\n",
       "    </tr>\n",
       "  </tbody>\n",
       "</table>\n",
       "</div>"
      ],
      "text/plain": [
       "     sepal.length  sepal.width  petal.length  petal.width    variety\n",
       "143           6.8          3.2           5.9          2.3  Virginica\n",
       "144           6.7          3.3           5.7          2.5  Virginica\n",
       "145           6.7          3.0           5.2          NaN  Virginica\n",
       "146           6.3          2.5           5.0          NaN  Virginica\n",
       "147           6.5          3.0           5.2          NaN  Virginica\n",
       "148           6.2          3.4           5.4          NaN  Virginica\n",
       "149           5.9          3.0           5.1          1.8  Virginica"
      ]
     },
     "execution_count": 3,
     "metadata": {},
     "output_type": "execute_result"
    }
   ],
   "source": [
    "data[\"petal.width\"].iloc[145:149] = None\n",
    "data.tail(7)"
   ]
  },
  {
   "cell_type": "markdown",
   "metadata": {},
   "source": [
    "## Построение гистограммы \"petal.length\""
   ]
  },
  {
   "cell_type": "code",
   "execution_count": 4,
   "metadata": {},
   "outputs": [
    {
     "data": {
      "image/png": "[encoded data removed]",
      "text/plain": [
       "<Figure size 720x360 with 1 Axes>"
      ]
     },
     "metadata": {
      "needs_background": "light"
     },
     "output_type": "display_data"
    }
   ],
   "source": [
    "data[\"petal.length\"].plot.hist( figsize=(10,5), \n",
    "                color='#21BA72', alpha=0.5, bins=20 );"
   ]
  },
  {
   "cell_type": "markdown",
   "metadata": {},
   "source": [
    "### Есть выброс \"petal.length\" в диапазоне примерно 1..1.9\n",
    "\n",
    "### Зафиксируем исходные данные до заполнения NaN "
   ]
  },
  {
   "cell_type": "code",
   "execution_count": 5,
   "metadata": {},
   "outputs": [],
   "source": [
    "with_outliers = data[\"petal.length\"].head(20).copy()\n",
    "before_NaN = data[\"petal.width\"].iloc[25:42].copy()"
   ]
  },
  {
   "cell_type": "markdown",
   "metadata": {},
   "source": [
    "### Заменяем  выброс \"petal.length\" расчетными данными\n",
    "\n",
    "#### длина лепестка не может быть отрицательной!"
   ]
  },
  {
   "cell_type": "code",
   "execution_count": 6,
   "metadata": {},
   "outputs": [
    {
     "data": {
      "image/png": "[encoded data removed]",
      "text/plain": [
       "<Figure size 720x360 with 1 Axes>"
      ]
     },
     "metadata": {
      "needs_background": "light"
     },
     "output_type": "display_data"
    }
   ],
   "source": [
    "data[\"petal.length\"][data[\"petal.length\"]<=2.8] = np.clip(np.random.normal(loc= data[\"petal.length\"][data[\"petal.length\"]>=2.8].median(),\n",
    "                                                        scale=data[\"petal.length\"].var(), \n",
    "                                                        size=len(data[\"petal.length\"][data[\"petal.length\"]<=2.8])), \n",
    "                                                          data[\"petal.length\"].min(),\n",
    "                                                          data[\"petal.length\"].max())\n",
    "data[\"petal.length\"].plot.hist( figsize=(10,5), \n",
    "                color='#21BA72', alpha=0.5, bins=20 );"
   ]
  },
  {
   "cell_type": "code",
   "execution_count": null,
   "metadata": {},
   "outputs": [],
   "source": [
    "### снова выбросы :-(\n",
    "### убираем выброс минимумов ..."
   ]
  },
  {
   "cell_type": "code",
   "execution_count": 7,
   "metadata": {},
   "outputs": [
    {
     "data": {
      "image/png": "[encoded data removed]",
      "text/plain": [
       "<Figure size 720x360 with 1 Axes>"
      ]
     },
     "metadata": {
      "needs_background": "light"
     },
     "output_type": "display_data"
    }
   ],
   "source": [
    "data[\"petal.length\"][data[\"petal.length\"]==data[\"petal.length\"].min()] = np.clip(np.random.normal(loc= data[\"petal.length\"].median(),\n",
    "                                                        scale=data[\"petal.length\"].var(), \n",
    "                                                        size=len(data[\"petal.length\"][data[\"petal.length\"]==data[\"petal.length\"].min()]) ), \n",
    "                                                          data[\"petal.length\"].min(),\n",
    "                                                          data[\"petal.length\"].max())\n",
    "\n",
    "\n",
    "\n",
    "data[\"petal.length\"].plot.hist( figsize=(10,5), \n",
    "                color='#21BA72', alpha=0.5, bins=20 );"
   ]
  },
  {
   "cell_type": "markdown",
   "metadata": {},
   "source": [
    "### ... и убираем выброс максимумов "
   ]
  },
  {
   "cell_type": "code",
   "execution_count": 8,
   "metadata": {},
   "outputs": [
    {
     "data": {
      "image/png": "[encoded data removed]",
      "text/plain": [
       "<Figure size 720x360 with 1 Axes>"
      ]
     },
     "metadata": {
      "needs_background": "light"
     },
     "output_type": "display_data"
    }
   ],
   "source": [
    "data[\"petal.length\"][data[\"petal.length\"]==data[\"petal.length\"].max()] = np.clip(np.random.normal(loc= data[\"petal.length\"].median(),\n",
    "                                                        scale=data[\"petal.length\"].var(), \n",
    "                                                        size=len(data[\"petal.length\"][data[\"petal.length\"]==data[\"petal.length\"].max()]) ), \n",
    "                                                          data[\"petal.length\"].min(),\n",
    "                                                          data[\"petal.length\"].max())\n",
    "data[\"petal.length\"].plot.hist( figsize=(10,5), \n",
    "                color='#21BA72', alpha=0.5, bins=20 );"
   ]
  },
  {
   "cell_type": "code",
   "execution_count": 9,
   "metadata": {},
   "outputs": [
    {
     "data": {
      "text/html": [
       "<div>\n",
       "<style scoped>\n",
       "    .dataframe tbody tr th:only-of-type {\n",
       "        vertical-align: middle;\n",
       "    }\n",
       "\n",
       "    .dataframe tbody tr th {\n",
       "        vertical-align: top;\n",
       "    }\n",
       "\n",
       "    .dataframe thead th {\n",
       "        text-align: right;\n",
       "    }\n",
       "</style>\n",
       "<table border=\"1\" class=\"dataframe\">\n",
       "  <thead>\n",
       "    <tr style=\"text-align: right;\">\n",
       "      <th></th>\n",
       "      <th>With_outliers</th>\n",
       "      <th>After_norm</th>\n",
       "    </tr>\n",
       "  </thead>\n",
       "  <tbody>\n",
       "    <tr>\n",
       "      <th>0</th>\n",
       "      <td>1.4</td>\n",
       "      <td>4.438368</td>\n",
       "    </tr>\n",
       "    <tr>\n",
       "      <th>1</th>\n",
       "      <td>1.4</td>\n",
       "      <td>2.457126</td>\n",
       "    </tr>\n",
       "    <tr>\n",
       "      <th>2</th>\n",
       "      <td>1.3</td>\n",
       "      <td>5.952519</td>\n",
       "    </tr>\n",
       "    <tr>\n",
       "      <th>3</th>\n",
       "      <td>1.5</td>\n",
       "      <td>6.091513</td>\n",
       "    </tr>\n",
       "    <tr>\n",
       "      <th>4</th>\n",
       "      <td>1.4</td>\n",
       "      <td>2.775278</td>\n",
       "    </tr>\n",
       "    <tr>\n",
       "      <th>5</th>\n",
       "      <td>1.7</td>\n",
       "      <td>2.882705</td>\n",
       "    </tr>\n",
       "    <tr>\n",
       "      <th>6</th>\n",
       "      <td>1.4</td>\n",
       "      <td>2.931848</td>\n",
       "    </tr>\n",
       "    <tr>\n",
       "      <th>7</th>\n",
       "      <td>1.5</td>\n",
       "      <td>3.032698</td>\n",
       "    </tr>\n",
       "    <tr>\n",
       "      <th>8</th>\n",
       "      <td>1.4</td>\n",
       "      <td>4.814700</td>\n",
       "    </tr>\n",
       "    <tr>\n",
       "      <th>9</th>\n",
       "      <td>1.5</td>\n",
       "      <td>4.832907</td>\n",
       "    </tr>\n",
       "    <tr>\n",
       "      <th>10</th>\n",
       "      <td>1.5</td>\n",
       "      <td>4.925712</td>\n",
       "    </tr>\n",
       "    <tr>\n",
       "      <th>11</th>\n",
       "      <td>1.6</td>\n",
       "      <td>5.199556</td>\n",
       "    </tr>\n",
       "    <tr>\n",
       "      <th>12</th>\n",
       "      <td>1.4</td>\n",
       "      <td>4.154576</td>\n",
       "    </tr>\n",
       "    <tr>\n",
       "      <th>13</th>\n",
       "      <td>1.1</td>\n",
       "      <td>4.506591</td>\n",
       "    </tr>\n",
       "    <tr>\n",
       "      <th>14</th>\n",
       "      <td>1.2</td>\n",
       "      <td>2.083479</td>\n",
       "    </tr>\n",
       "    <tr>\n",
       "      <th>15</th>\n",
       "      <td>1.5</td>\n",
       "      <td>3.324474</td>\n",
       "    </tr>\n",
       "    <tr>\n",
       "      <th>16</th>\n",
       "      <td>1.3</td>\n",
       "      <td>5.367584</td>\n",
       "    </tr>\n",
       "    <tr>\n",
       "      <th>17</th>\n",
       "      <td>1.4</td>\n",
       "      <td>4.600904</td>\n",
       "    </tr>\n",
       "    <tr>\n",
       "      <th>18</th>\n",
       "      <td>1.7</td>\n",
       "      <td>1.749077</td>\n",
       "    </tr>\n",
       "    <tr>\n",
       "      <th>19</th>\n",
       "      <td>1.5</td>\n",
       "      <td>5.764643</td>\n",
       "    </tr>\n",
       "  </tbody>\n",
       "</table>\n",
       "</div>"
      ],
      "text/plain": [
       "    With_outliers  After_norm\n",
       "0             1.4    4.438368\n",
       "1             1.4    2.457126\n",
       "2             1.3    5.952519\n",
       "3             1.5    6.091513\n",
       "4             1.4    2.775278\n",
       "5             1.7    2.882705\n",
       "6             1.4    2.931848\n",
       "7             1.5    3.032698\n",
       "8             1.4    4.814700\n",
       "9             1.5    4.832907\n",
       "10            1.5    4.925712\n",
       "11            1.6    5.199556\n",
       "12            1.4    4.154576\n",
       "13            1.1    4.506591\n",
       "14            1.2    2.083479\n",
       "15            1.5    3.324474\n",
       "16            1.3    5.367584\n",
       "17            1.4    4.600904\n",
       "18            1.7    1.749077\n",
       "19            1.5    5.764643"
      ]
     },
     "metadata": {},
     "output_type": "display_data"
    }
   ],
   "source": [
    "display(pd.DataFrame(list(zip(with_outliers, data[\"petal.length\"].head(20))),\n",
    "                   columns=[\"With_outliers\", \"After_norm\"]))"
   ]
  },
  {
   "cell_type": "markdown",
   "metadata": {},
   "source": [
    "###### Выброс исчез"
   ]
  },
  {
   "cell_type": "markdown",
   "metadata": {},
   "source": [
    "## Построение гистограмы для \"petal.width\""
   ]
  },
  {
   "cell_type": "code",
   "execution_count": 10,
   "metadata": {},
   "outputs": [
    {
     "data": {
      "image/png": "[encoded data removed]",
      "text/plain": [
       "<Figure size 720x360 with 1 Axes>"
      ]
     },
     "metadata": {
      "needs_background": "light"
     },
     "output_type": "display_data"
    }
   ],
   "source": [
    "data[\"petal.width\"].plot.hist( figsize=(10,5), \n",
    "                color='#21BA72', alpha=0.5, bins=20 );"
   ]
  },
  {
   "cell_type": "markdown",
   "metadata": {},
   "source": [
    "### убеждаемся в наличии NaN"
   ]
  },
  {
   "cell_type": "code",
   "execution_count": 11,
   "metadata": {},
   "outputs": [
    {
     "data": {
      "text/plain": [
       "145   NaN\n",
       "146   NaN\n",
       "147   NaN\n",
       "148   NaN\n",
       "Name: petal.width, dtype: float64"
      ]
     },
     "execution_count": 11,
     "metadata": {},
     "output_type": "execute_result"
    }
   ],
   "source": [
    "data[\"petal.width\"][data[\"petal.width\"].isnull()]"
   ]
  },
  {
   "cell_type": "markdown",
   "metadata": {},
   "source": [
    "### Заполняем пропуски"
   ]
  },
  {
   "cell_type": "code",
   "execution_count": 12,
   "metadata": {},
   "outputs": [
    {
     "data": {
      "image/png": "[encoded data removed]",
      "text/plain": [
       "<Figure size 720x360 with 1 Axes>"
      ]
     },
     "metadata": {
      "needs_background": "light"
     },
     "output_type": "display_data"
    }
   ],
   "source": [
    "# используем std()\n",
    "data[\"petal.width\"].fillna(data[\"petal.width\"].mean() \n",
    "                           + data[\"petal.width\"].std()*np.random.randint(low=-1, high=2, size=1)[0], # ограничиваем отклонение\n",
    "                          inplace=True)\n",
    "data[\"petal.width\"].plot.hist( figsize=(10,5), \n",
    "                color='#21BA72', alpha=0.5, bins=20 );"
   ]
  },
  {
   "cell_type": "code",
   "execution_count": 13,
   "metadata": {},
   "outputs": [
    {
     "data": {
      "text/plain": [
       "143    2.300000\n",
       "144    2.500000\n",
       "145    1.930193\n",
       "146    1.930193\n",
       "147    1.930193\n",
       "148    1.930193\n",
       "149    1.800000\n",
       "Name: petal.width, dtype: float64"
      ]
     },
     "execution_count": 13,
     "metadata": {},
     "output_type": "execute_result"
    }
   ],
   "source": [
    "data[\"petal.width\"].tail(7)"
   ]
  },
  {
   "cell_type": "markdown",
   "metadata": {},
   "source": [
    "### добавим еще пропусков (примерно 1/6)\n",
    "### и проверим результаты по критерию $\\chi^2$"
   ]
  },
  {
   "cell_type": "code",
   "execution_count": 14,
   "metadata": {},
   "outputs": [
    {
     "data": {
      "text/plain": [
       "array([21.,  5.,  5.,  1.,  1.,  0.,  0.,  7.,  3.,  5., 20., 11.,  3.,\n",
       "        2.,  7., 11.,  5.,  2.,  5.,  5.])"
      ]
     },
     "execution_count": 14,
     "metadata": {},
     "output_type": "execute_result"
    },
    {
     "data": {
      "image/png": "[encoded data removed]",
      "text/plain": [
       "<Figure size 720x360 with 1 Axes>"
      ]
     },
     "metadata": {
      "needs_background": "light"
     },
     "output_type": "display_data"
    }
   ],
   "source": [
    "data[\"petal.width\"].iloc[125:139] = None\n",
    "data[\"petal.width\"].iloc[25:42] = None\n",
    "data[\"petal.width\"].plot.hist( figsize=(10,5), \n",
    "                color='#21BA72', alpha=0.5, bins=20 );\n",
    "\n",
    "# фиксируем значения гистограммы (с разными BINS)\n",
    "b_before, n_before, _ = plt.hist(data[\"petal.width\"], bins=20, visible=False);\n",
    "b2 = 5\n",
    "b_before_2, n_before_2, _ = plt.hist(data[\"petal.width\"], bins=b2, visible=False);\n",
    "\n",
    "# значения столбиков гистограммы\n",
    "b_before"
   ]
  },
  {
   "cell_type": "code",
   "execution_count": 15,
   "metadata": {},
   "outputs": [
    {
     "data": {
      "text/plain": [
       "25   NaN\n",
       "26   NaN\n",
       "27   NaN\n",
       "28   NaN\n",
       "29   NaN\n",
       "30   NaN\n",
       "31   NaN\n",
       "32   NaN\n",
       "33   NaN\n",
       "34   NaN\n",
       "35   NaN\n",
       "36   NaN\n",
       "37   NaN\n",
       "38   NaN\n",
       "39   NaN\n",
       "40   NaN\n",
       "41   NaN\n",
       "Name: petal.width, dtype: float64"
      ]
     },
     "execution_count": 15,
     "metadata": {},
     "output_type": "execute_result"
    }
   ],
   "source": [
    "data[\"petal.width\"].iloc[25:42]"
   ]
  },
  {
   "cell_type": "markdown",
   "metadata": {},
   "source": [
    "### Подготовка корректирующих значений"
   ]
  },
  {
   "cell_type": "code",
   "execution_count": 16,
   "metadata": {},
   "outputs": [
    {
     "data": {
      "text/html": [
       "<div>\n",
       "<style scoped>\n",
       "    .dataframe tbody tr th:only-of-type {\n",
       "        vertical-align: middle;\n",
       "    }\n",
       "\n",
       "    .dataframe tbody tr th {\n",
       "        vertical-align: top;\n",
       "    }\n",
       "\n",
       "    .dataframe thead th {\n",
       "        text-align: right;\n",
       "    }\n",
       "</style>\n",
       "<table border=\"1\" class=\"dataframe\">\n",
       "  <thead>\n",
       "    <tr style=\"text-align: right;\">\n",
       "      <th></th>\n",
       "      <th>petal.width</th>\n",
       "    </tr>\n",
       "  </thead>\n",
       "  <tbody>\n",
       "    <tr>\n",
       "      <th>0</th>\n",
       "      <td>1.318792</td>\n",
       "    </tr>\n",
       "    <tr>\n",
       "      <th>1</th>\n",
       "      <td>0.607017</td>\n",
       "    </tr>\n",
       "    <tr>\n",
       "      <th>2</th>\n",
       "      <td>1.332192</td>\n",
       "    </tr>\n",
       "    <tr>\n",
       "      <th>3</th>\n",
       "      <td>1.158110</td>\n",
       "    </tr>\n",
       "    <tr>\n",
       "      <th>4</th>\n",
       "      <td>0.126433</td>\n",
       "    </tr>\n",
       "    <tr>\n",
       "      <th>...</th>\n",
       "      <td>...</td>\n",
       "    </tr>\n",
       "    <tr>\n",
       "      <th>145</th>\n",
       "      <td>0.913398</td>\n",
       "    </tr>\n",
       "    <tr>\n",
       "      <th>146</th>\n",
       "      <td>1.259281</td>\n",
       "    </tr>\n",
       "    <tr>\n",
       "      <th>147</th>\n",
       "      <td>1.365859</td>\n",
       "    </tr>\n",
       "    <tr>\n",
       "      <th>148</th>\n",
       "      <td>1.019666</td>\n",
       "    </tr>\n",
       "    <tr>\n",
       "      <th>149</th>\n",
       "      <td>0.744536</td>\n",
       "    </tr>\n",
       "  </tbody>\n",
       "</table>\n",
       "<p>150 rows × 1 columns</p>\n",
       "</div>"
      ],
      "text/plain": [
       "     petal.width\n",
       "0       1.318792\n",
       "1       0.607017\n",
       "2       1.332192\n",
       "3       1.158110\n",
       "4       0.126433\n",
       "..           ...\n",
       "145     0.913398\n",
       "146     1.259281\n",
       "147     1.365859\n",
       "148     1.019666\n",
       "149     0.744536\n",
       "\n",
       "[150 rows x 1 columns]"
      ]
     },
     "execution_count": 16,
     "metadata": {},
     "output_type": "execute_result"
    }
   ],
   "source": [
    "df_corr = pd.DataFrame(np.random.normal(loc=data[\"petal.width\"].mean(),\n",
    "                                scale=data[\"petal.width\"].var(), \n",
    "                                size=len(data[\"petal.width\"])),\n",
    "                      columns = [\"petal.width\"]) \n",
    "                                \n",
    "df_corr                      "
   ]
  },
  {
   "cell_type": "code",
   "execution_count": 17,
   "metadata": {},
   "outputs": [
    {
     "data": {
      "text/plain": [
       "petal.width    0.126433\n",
       "dtype: float64"
      ]
     },
     "execution_count": 17,
     "metadata": {},
     "output_type": "execute_result"
    }
   ],
   "source": [
    "df_corr.min() # больше нуля :-)"
   ]
  },
  {
   "cell_type": "markdown",
   "metadata": {},
   "source": [
    "### Заполняем пропуски"
   ]
  },
  {
   "cell_type": "code",
   "execution_count": 18,
   "metadata": {},
   "outputs": [
    {
     "data": {
      "text/html": [
       "<div>\n",
       "<style scoped>\n",
       "    .dataframe tbody tr th:only-of-type {\n",
       "        vertical-align: middle;\n",
       "    }\n",
       "\n",
       "    .dataframe tbody tr th {\n",
       "        vertical-align: top;\n",
       "    }\n",
       "\n",
       "    .dataframe thead th {\n",
       "        text-align: right;\n",
       "    }\n",
       "</style>\n",
       "<table border=\"1\" class=\"dataframe\">\n",
       "  <thead>\n",
       "    <tr style=\"text-align: right;\">\n",
       "      <th></th>\n",
       "      <th>before_set_NaN</th>\n",
       "      <th>After_filling</th>\n",
       "    </tr>\n",
       "  </thead>\n",
       "  <tbody>\n",
       "    <tr>\n",
       "      <th>0</th>\n",
       "      <td>0.2</td>\n",
       "      <td>1.822041</td>\n",
       "    </tr>\n",
       "    <tr>\n",
       "      <th>1</th>\n",
       "      <td>0.4</td>\n",
       "      <td>1.079725</td>\n",
       "    </tr>\n",
       "    <tr>\n",
       "      <th>2</th>\n",
       "      <td>0.2</td>\n",
       "      <td>1.428963</td>\n",
       "    </tr>\n",
       "    <tr>\n",
       "      <th>3</th>\n",
       "      <td>0.2</td>\n",
       "      <td>1.006637</td>\n",
       "    </tr>\n",
       "    <tr>\n",
       "      <th>4</th>\n",
       "      <td>0.2</td>\n",
       "      <td>1.100794</td>\n",
       "    </tr>\n",
       "    <tr>\n",
       "      <th>5</th>\n",
       "      <td>0.2</td>\n",
       "      <td>1.236513</td>\n",
       "    </tr>\n",
       "    <tr>\n",
       "      <th>6</th>\n",
       "      <td>0.4</td>\n",
       "      <td>2.011737</td>\n",
       "    </tr>\n",
       "    <tr>\n",
       "      <th>7</th>\n",
       "      <td>0.1</td>\n",
       "      <td>1.053222</td>\n",
       "    </tr>\n",
       "    <tr>\n",
       "      <th>8</th>\n",
       "      <td>0.2</td>\n",
       "      <td>1.688986</td>\n",
       "    </tr>\n",
       "    <tr>\n",
       "      <th>9</th>\n",
       "      <td>0.2</td>\n",
       "      <td>1.379600</td>\n",
       "    </tr>\n",
       "    <tr>\n",
       "      <th>10</th>\n",
       "      <td>0.2</td>\n",
       "      <td>0.262151</td>\n",
       "    </tr>\n",
       "    <tr>\n",
       "      <th>11</th>\n",
       "      <td>0.2</td>\n",
       "      <td>0.943957</td>\n",
       "    </tr>\n",
       "    <tr>\n",
       "      <th>12</th>\n",
       "      <td>0.1</td>\n",
       "      <td>1.342938</td>\n",
       "    </tr>\n",
       "    <tr>\n",
       "      <th>13</th>\n",
       "      <td>0.2</td>\n",
       "      <td>0.315387</td>\n",
       "    </tr>\n",
       "    <tr>\n",
       "      <th>14</th>\n",
       "      <td>0.2</td>\n",
       "      <td>0.757613</td>\n",
       "    </tr>\n",
       "    <tr>\n",
       "      <th>15</th>\n",
       "      <td>0.3</td>\n",
       "      <td>2.349748</td>\n",
       "    </tr>\n",
       "    <tr>\n",
       "      <th>16</th>\n",
       "      <td>0.3</td>\n",
       "      <td>1.251883</td>\n",
       "    </tr>\n",
       "  </tbody>\n",
       "</table>\n",
       "</div>"
      ],
      "text/plain": [
       "    before_set_NaN  After_filling\n",
       "0              0.2       1.822041\n",
       "1              0.4       1.079725\n",
       "2              0.2       1.428963\n",
       "3              0.2       1.006637\n",
       "4              0.2       1.100794\n",
       "5              0.2       1.236513\n",
       "6              0.4       2.011737\n",
       "7              0.1       1.053222\n",
       "8              0.2       1.688986\n",
       "9              0.2       1.379600\n",
       "10             0.2       0.262151\n",
       "11             0.2       0.943957\n",
       "12             0.1       1.342938\n",
       "13             0.2       0.315387\n",
       "14             0.2       0.757613\n",
       "15             0.3       2.349748\n",
       "16             0.3       1.251883"
      ]
     },
     "metadata": {},
     "output_type": "display_data"
    }
   ],
   "source": [
    "data.fillna(value=df_corr, inplace=True)\n",
    "display(pd.DataFrame(list(zip(before_NaN, data[\"petal.width\"].iloc[25:42])),\n",
    "                   columns=[\"before_set_NaN\", \"After_filling\"]))"
   ]
  },
  {
   "cell_type": "code",
   "execution_count": 19,
   "metadata": {},
   "outputs": [
    {
     "data": {
      "image/png": "[encoded data removed]",
      "text/plain": [
       "<Figure size 720x360 with 1 Axes>"
      ]
     },
     "metadata": {
      "needs_background": "light"
     },
     "output_type": "display_data"
    }
   ],
   "source": [
    "data[\"petal.width\"].plot.hist( figsize=(10,5), \n",
    "                color='#21BA72', alpha=0.5, bins=20, );\n",
    "# получаем параметры гистограммы c bins = 20\n",
    "b_after, n_after, _ = plt.hist(data[\"petal.width\"], bins=20, visible=False);\n",
    "# и bins = b2\n",
    "b_after_2, n_after_2, _ = plt.hist(data[\"petal.width\"], bins=b2, visible=False);"
   ]
  },
  {
   "cell_type": "markdown",
   "metadata": {},
   "source": [
    "### Почти похоже на исходный :-)\n",
    "\n",
    "#### ... но так ли это\n",
    "#### используем критерий $\\chi^2$"
   ]
  },
  {
   "cell_type": "code",
   "execution_count": 20,
   "metadata": {},
   "outputs": [
    {
     "data": {
      "text/plain": [
       "'1.6.3'"
      ]
     },
     "execution_count": 20,
     "metadata": {},
     "output_type": "execute_result"
    }
   ],
   "source": [
    "import scipy\n",
    "scipy.__version__"
   ]
  },
  {
   "cell_type": "code",
   "execution_count": 21,
   "metadata": {},
   "outputs": [
    {
     "name": "stdout",
     "output_type": "stream",
     "text": [
      "ДО\n",
      " [21.  5.  5.  1.  1.  0.  0.  7.  3.  5. 20. 11.  3.  2.  7. 11.  5.  2.\n",
      "  5.  5.] \n",
      "ПОСЛЕ\n",
      " [21.  7.  5.  1.  1.  1.  0. 10.  7. 10. 23. 15.  3.  5.  8. 14.  6.  2.\n",
      "  6.  5.]\n",
      "p_value = nan\n"
     ]
    }
   ],
   "source": [
    "# сравниваем методом хи-квадрат\n",
    "from scipy.stats import chisquare, chi2_contingency\n",
    "print (f\"ДО\\n {b_before} \\nПОСЛЕ\\n {b_after}\")\n",
    "_, p_value = chisquare(b_before, b_after, ddof=len(b_after)-1)\n",
    "\n",
    "print(f\"p_value = {p_value}\")"
   ]
  },
  {
   "cell_type": "markdown",
   "metadata": {},
   "source": [
    "#### меняем bins"
   ]
  },
  {
   "cell_type": "code",
   "execution_count": 22,
   "metadata": {},
   "outputs": [
    {
     "name": "stdout",
     "output_type": "stream",
     "text": [
      "ДО\n",
      " [32.  8. 39. 23. 17.] \n",
      "ПОСЛЕ\n",
      " [34. 12. 55. 30. 19.]\n",
      "p_value = nan\n"
     ]
    }
   ],
   "source": [
    "print (f\"ДО\\n {b_before_2} \\nПОСЛЕ\\n {b_after_2}\")\n",
    "#stat, p_value_2, dof, _= chi2_contingency([b_before_2, b_after_2])\n",
    "_, p_value_2 = chisquare(b_before_2, b_after_2, ddof=len(b_after_2)-1)\n",
    "\n",
    "print(f\"p_value = {p_value_2}\")"
   ]
  },
  {
   "cell_type": "markdown",
   "metadata": {},
   "source": [
    "#### _...нужен иной подход ?_\n",
    "\n",
    "\n",
    "### Снова генерируем пропуски, но в этот раз удаляем "
   ]
  },
  {
   "cell_type": "code",
   "execution_count": 23,
   "metadata": {},
   "outputs": [
    {
     "data": {
      "text/html": [
       "<div>\n",
       "<style scoped>\n",
       "    .dataframe tbody tr th:only-of-type {\n",
       "        vertical-align: middle;\n",
       "    }\n",
       "\n",
       "    .dataframe tbody tr th {\n",
       "        vertical-align: top;\n",
       "    }\n",
       "\n",
       "    .dataframe thead th {\n",
       "        text-align: right;\n",
       "    }\n",
       "</style>\n",
       "<table border=\"1\" class=\"dataframe\">\n",
       "  <thead>\n",
       "    <tr style=\"text-align: right;\">\n",
       "      <th></th>\n",
       "      <th>sepal.length</th>\n",
       "      <th>sepal.width</th>\n",
       "      <th>petal.length</th>\n",
       "      <th>petal.width</th>\n",
       "      <th>variety</th>\n",
       "    </tr>\n",
       "  </thead>\n",
       "  <tbody>\n",
       "    <tr>\n",
       "      <th>140</th>\n",
       "      <td>6.7</td>\n",
       "      <td>3.1</td>\n",
       "      <td>5.6</td>\n",
       "      <td>NaN</td>\n",
       "      <td>Virginica</td>\n",
       "    </tr>\n",
       "    <tr>\n",
       "      <th>141</th>\n",
       "      <td>6.9</td>\n",
       "      <td>3.1</td>\n",
       "      <td>5.1</td>\n",
       "      <td>NaN</td>\n",
       "      <td>Virginica</td>\n",
       "    </tr>\n",
       "    <tr>\n",
       "      <th>142</th>\n",
       "      <td>5.8</td>\n",
       "      <td>2.7</td>\n",
       "      <td>5.1</td>\n",
       "      <td>NaN</td>\n",
       "      <td>Virginica</td>\n",
       "    </tr>\n",
       "    <tr>\n",
       "      <th>143</th>\n",
       "      <td>6.8</td>\n",
       "      <td>3.2</td>\n",
       "      <td>5.9</td>\n",
       "      <td>NaN</td>\n",
       "      <td>Virginica</td>\n",
       "    </tr>\n",
       "    <tr>\n",
       "      <th>144</th>\n",
       "      <td>6.7</td>\n",
       "      <td>3.3</td>\n",
       "      <td>5.7</td>\n",
       "      <td>NaN</td>\n",
       "      <td>Virginica</td>\n",
       "    </tr>\n",
       "    <tr>\n",
       "      <th>145</th>\n",
       "      <td>6.7</td>\n",
       "      <td>3.0</td>\n",
       "      <td>5.2</td>\n",
       "      <td>NaN</td>\n",
       "      <td>Virginica</td>\n",
       "    </tr>\n",
       "    <tr>\n",
       "      <th>146</th>\n",
       "      <td>6.3</td>\n",
       "      <td>2.5</td>\n",
       "      <td>5.0</td>\n",
       "      <td>NaN</td>\n",
       "      <td>Virginica</td>\n",
       "    </tr>\n",
       "    <tr>\n",
       "      <th>147</th>\n",
       "      <td>6.5</td>\n",
       "      <td>3.0</td>\n",
       "      <td>5.2</td>\n",
       "      <td>1.930193</td>\n",
       "      <td>Virginica</td>\n",
       "    </tr>\n",
       "    <tr>\n",
       "      <th>148</th>\n",
       "      <td>6.2</td>\n",
       "      <td>3.4</td>\n",
       "      <td>5.4</td>\n",
       "      <td>1.930193</td>\n",
       "      <td>Virginica</td>\n",
       "    </tr>\n",
       "    <tr>\n",
       "      <th>149</th>\n",
       "      <td>5.9</td>\n",
       "      <td>3.0</td>\n",
       "      <td>5.1</td>\n",
       "      <td>1.800000</td>\n",
       "      <td>Virginica</td>\n",
       "    </tr>\n",
       "  </tbody>\n",
       "</table>\n",
       "</div>"
      ],
      "text/plain": [
       "     sepal.length  sepal.width  petal.length  petal.width    variety\n",
       "140           6.7          3.1           5.6          NaN  Virginica\n",
       "141           6.9          3.1           5.1          NaN  Virginica\n",
       "142           5.8          2.7           5.1          NaN  Virginica\n",
       "143           6.8          3.2           5.9          NaN  Virginica\n",
       "144           6.7          3.3           5.7          NaN  Virginica\n",
       "145           6.7          3.0           5.2          NaN  Virginica\n",
       "146           6.3          2.5           5.0          NaN  Virginica\n",
       "147           6.5          3.0           5.2     1.930193  Virginica\n",
       "148           6.2          3.4           5.4     1.930193  Virginica\n",
       "149           5.9          3.0           5.1     1.800000  Virginica"
      ]
     },
     "execution_count": 23,
     "metadata": {},
     "output_type": "execute_result"
    }
   ],
   "source": [
    "data[\"petal.width\"].iloc[125:147] = None\n",
    "data.tail(10)"
   ]
  },
  {
   "cell_type": "code",
   "execution_count": 24,
   "metadata": {},
   "outputs": [
    {
     "data": {
      "text/html": [
       "<div>\n",
       "<style scoped>\n",
       "    .dataframe tbody tr th:only-of-type {\n",
       "        vertical-align: middle;\n",
       "    }\n",
       "\n",
       "    .dataframe tbody tr th {\n",
       "        vertical-align: top;\n",
       "    }\n",
       "\n",
       "    .dataframe thead th {\n",
       "        text-align: right;\n",
       "    }\n",
       "</style>\n",
       "<table border=\"1\" class=\"dataframe\">\n",
       "  <thead>\n",
       "    <tr style=\"text-align: right;\">\n",
       "      <th></th>\n",
       "      <th>sepal.length</th>\n",
       "      <th>sepal.width</th>\n",
       "      <th>petal.length</th>\n",
       "      <th>petal.width</th>\n",
       "      <th>variety</th>\n",
       "    </tr>\n",
       "  </thead>\n",
       "  <tbody>\n",
       "    <tr>\n",
       "      <th>118</th>\n",
       "      <td>7.7</td>\n",
       "      <td>2.6</td>\n",
       "      <td>3.38363</td>\n",
       "      <td>2.300000</td>\n",
       "      <td>Virginica</td>\n",
       "    </tr>\n",
       "    <tr>\n",
       "      <th>119</th>\n",
       "      <td>6.0</td>\n",
       "      <td>2.2</td>\n",
       "      <td>5.00000</td>\n",
       "      <td>1.500000</td>\n",
       "      <td>Virginica</td>\n",
       "    </tr>\n",
       "    <tr>\n",
       "      <th>120</th>\n",
       "      <td>6.9</td>\n",
       "      <td>3.2</td>\n",
       "      <td>5.70000</td>\n",
       "      <td>2.300000</td>\n",
       "      <td>Virginica</td>\n",
       "    </tr>\n",
       "    <tr>\n",
       "      <th>121</th>\n",
       "      <td>5.6</td>\n",
       "      <td>2.8</td>\n",
       "      <td>4.90000</td>\n",
       "      <td>2.000000</td>\n",
       "      <td>Virginica</td>\n",
       "    </tr>\n",
       "    <tr>\n",
       "      <th>122</th>\n",
       "      <td>7.7</td>\n",
       "      <td>2.8</td>\n",
       "      <td>6.70000</td>\n",
       "      <td>2.000000</td>\n",
       "      <td>Virginica</td>\n",
       "    </tr>\n",
       "    <tr>\n",
       "      <th>123</th>\n",
       "      <td>6.3</td>\n",
       "      <td>2.7</td>\n",
       "      <td>4.90000</td>\n",
       "      <td>1.800000</td>\n",
       "      <td>Virginica</td>\n",
       "    </tr>\n",
       "    <tr>\n",
       "      <th>124</th>\n",
       "      <td>6.7</td>\n",
       "      <td>3.3</td>\n",
       "      <td>5.70000</td>\n",
       "      <td>2.100000</td>\n",
       "      <td>Virginica</td>\n",
       "    </tr>\n",
       "    <tr>\n",
       "      <th>147</th>\n",
       "      <td>6.5</td>\n",
       "      <td>3.0</td>\n",
       "      <td>5.20000</td>\n",
       "      <td>1.930193</td>\n",
       "      <td>Virginica</td>\n",
       "    </tr>\n",
       "    <tr>\n",
       "      <th>148</th>\n",
       "      <td>6.2</td>\n",
       "      <td>3.4</td>\n",
       "      <td>5.40000</td>\n",
       "      <td>1.930193</td>\n",
       "      <td>Virginica</td>\n",
       "    </tr>\n",
       "    <tr>\n",
       "      <th>149</th>\n",
       "      <td>5.9</td>\n",
       "      <td>3.0</td>\n",
       "      <td>5.10000</td>\n",
       "      <td>1.800000</td>\n",
       "      <td>Virginica</td>\n",
       "    </tr>\n",
       "  </tbody>\n",
       "</table>\n",
       "</div>"
      ],
      "text/plain": [
       "     sepal.length  sepal.width  petal.length  petal.width    variety\n",
       "118           7.7          2.6       3.38363     2.300000  Virginica\n",
       "119           6.0          2.2       5.00000     1.500000  Virginica\n",
       "120           6.9          3.2       5.70000     2.300000  Virginica\n",
       "121           5.6          2.8       4.90000     2.000000  Virginica\n",
       "122           7.7          2.8       6.70000     2.000000  Virginica\n",
       "123           6.3          2.7       4.90000     1.800000  Virginica\n",
       "124           6.7          3.3       5.70000     2.100000  Virginica\n",
       "147           6.5          3.0       5.20000     1.930193  Virginica\n",
       "148           6.2          3.4       5.40000     1.930193  Virginica\n",
       "149           5.9          3.0       5.10000     1.800000  Virginica"
      ]
     },
     "execution_count": 24,
     "metadata": {},
     "output_type": "execute_result"
    }
   ],
   "source": [
    "data.dropna(inplace=True)\n",
    "data.tail(10)"
   ]
  },
  {
   "cell_type": "markdown",
   "metadata": {},
   "source": [
    "### \"Пропали\" все строки с пропусками\n",
    "\n",
    "## Заполняем смешанные пропуски\n",
    "#### ...но сначала их создадим ))"
   ]
  },
  {
   "cell_type": "code",
   "execution_count": 25,
   "metadata": {},
   "outputs": [
    {
     "data": {
      "text/html": [
       "<div>\n",
       "<style scoped>\n",
       "    .dataframe tbody tr th:only-of-type {\n",
       "        vertical-align: middle;\n",
       "    }\n",
       "\n",
       "    .dataframe tbody tr th {\n",
       "        vertical-align: top;\n",
       "    }\n",
       "\n",
       "    .dataframe thead th {\n",
       "        text-align: right;\n",
       "    }\n",
       "</style>\n",
       "<table border=\"1\" class=\"dataframe\">\n",
       "  <thead>\n",
       "    <tr style=\"text-align: right;\">\n",
       "      <th></th>\n",
       "      <th>sepal.length</th>\n",
       "      <th>sepal.width</th>\n",
       "      <th>petal.length</th>\n",
       "      <th>petal.width</th>\n",
       "      <th>variety</th>\n",
       "    </tr>\n",
       "  </thead>\n",
       "  <tbody>\n",
       "    <tr>\n",
       "      <th>0</th>\n",
       "      <td>5.1</td>\n",
       "      <td>3.5</td>\n",
       "      <td>4.438368</td>\n",
       "      <td>0.2</td>\n",
       "      <td>Setosa</td>\n",
       "    </tr>\n",
       "    <tr>\n",
       "      <th>1</th>\n",
       "      <td>4.9</td>\n",
       "      <td>3.0</td>\n",
       "      <td>2.457126</td>\n",
       "      <td>0.2</td>\n",
       "      <td>Setosa</td>\n",
       "    </tr>\n",
       "    <tr>\n",
       "      <th>2</th>\n",
       "      <td>4.7</td>\n",
       "      <td>3.2</td>\n",
       "      <td>5.952519</td>\n",
       "      <td>0.2</td>\n",
       "      <td>Setosa</td>\n",
       "    </tr>\n",
       "    <tr>\n",
       "      <th>3</th>\n",
       "      <td>4.6</td>\n",
       "      <td>3.1</td>\n",
       "      <td>6.091513</td>\n",
       "      <td>0.2</td>\n",
       "      <td>Setosa</td>\n",
       "    </tr>\n",
       "    <tr>\n",
       "      <th>4</th>\n",
       "      <td>5.0</td>\n",
       "      <td>3.6</td>\n",
       "      <td>2.775278</td>\n",
       "      <td>0.2</td>\n",
       "      <td>Setosa</td>\n",
       "    </tr>\n",
       "  </tbody>\n",
       "</table>\n",
       "</div>"
      ],
      "text/plain": [
       "   sepal.length  sepal.width  petal.length  petal.width variety\n",
       "0           5.1          3.5      4.438368          0.2  Setosa\n",
       "1           4.9          3.0      2.457126          0.2  Setosa\n",
       "2           4.7          3.2      5.952519          0.2  Setosa\n",
       "3           4.6          3.1      6.091513          0.2  Setosa\n",
       "4           5.0          3.6      2.775278          0.2  Setosa"
      ]
     },
     "metadata": {},
     "output_type": "display_data"
    },
    {
     "data": {
      "text/html": [
       "<div>\n",
       "<style scoped>\n",
       "    .dataframe tbody tr th:only-of-type {\n",
       "        vertical-align: middle;\n",
       "    }\n",
       "\n",
       "    .dataframe tbody tr th {\n",
       "        vertical-align: top;\n",
       "    }\n",
       "\n",
       "    .dataframe thead th {\n",
       "        text-align: right;\n",
       "    }\n",
       "</style>\n",
       "<table border=\"1\" class=\"dataframe\">\n",
       "  <thead>\n",
       "    <tr style=\"text-align: right;\">\n",
       "      <th></th>\n",
       "      <th>sepal.length</th>\n",
       "      <th>sepal.width</th>\n",
       "      <th>petal.length</th>\n",
       "      <th>petal.width</th>\n",
       "      <th>variety</th>\n",
       "    </tr>\n",
       "  </thead>\n",
       "  <tbody>\n",
       "    <tr>\n",
       "      <th>0</th>\n",
       "      <td>NaN</td>\n",
       "      <td>NaN</td>\n",
       "      <td>NaN</td>\n",
       "      <td>NaN</td>\n",
       "      <td>None</td>\n",
       "    </tr>\n",
       "    <tr>\n",
       "      <th>1</th>\n",
       "      <td>NaN</td>\n",
       "      <td>NaN</td>\n",
       "      <td>NaN</td>\n",
       "      <td>NaN</td>\n",
       "      <td>None</td>\n",
       "    </tr>\n",
       "    <tr>\n",
       "      <th>2</th>\n",
       "      <td>NaN</td>\n",
       "      <td>NaN</td>\n",
       "      <td>NaN</td>\n",
       "      <td>NaN</td>\n",
       "      <td>None</td>\n",
       "    </tr>\n",
       "    <tr>\n",
       "      <th>3</th>\n",
       "      <td>4.6</td>\n",
       "      <td>3.1</td>\n",
       "      <td>6.091513</td>\n",
       "      <td>0.2</td>\n",
       "      <td>Setosa</td>\n",
       "    </tr>\n",
       "    <tr>\n",
       "      <th>4</th>\n",
       "      <td>5.0</td>\n",
       "      <td>3.6</td>\n",
       "      <td>2.775278</td>\n",
       "      <td>0.2</td>\n",
       "      <td>Setosa</td>\n",
       "    </tr>\n",
       "  </tbody>\n",
       "</table>\n",
       "</div>"
      ],
      "text/plain": [
       "   sepal.length  sepal.width  petal.length  petal.width variety\n",
       "0           NaN          NaN           NaN          NaN    None\n",
       "1           NaN          NaN           NaN          NaN    None\n",
       "2           NaN          NaN           NaN          NaN    None\n",
       "3           4.6          3.1      6.091513          0.2  Setosa\n",
       "4           5.0          3.6      2.775278          0.2  Setosa"
      ]
     },
     "metadata": {},
     "output_type": "display_data"
    }
   ],
   "source": [
    "display(data.head())\n",
    "data.iloc[0:3] = None\n",
    "display(data.head())"
   ]
  },
  {
   "cell_type": "code",
   "execution_count": 26,
   "metadata": {},
   "outputs": [
    {
     "data": {
      "text/html": [
       "<div>\n",
       "<style scoped>\n",
       "    .dataframe tbody tr th:only-of-type {\n",
       "        vertical-align: middle;\n",
       "    }\n",
       "\n",
       "    .dataframe tbody tr th {\n",
       "        vertical-align: top;\n",
       "    }\n",
       "\n",
       "    .dataframe thead th {\n",
       "        text-align: right;\n",
       "    }\n",
       "</style>\n",
       "<table border=\"1\" class=\"dataframe\">\n",
       "  <thead>\n",
       "    <tr style=\"text-align: right;\">\n",
       "      <th></th>\n",
       "      <th>sepal.length</th>\n",
       "      <th>sepal.width</th>\n",
       "      <th>petal.length</th>\n",
       "      <th>petal.width</th>\n",
       "      <th>variety</th>\n",
       "    </tr>\n",
       "  </thead>\n",
       "  <tbody>\n",
       "    <tr>\n",
       "      <th>0</th>\n",
       "      <td>5.012766</td>\n",
       "      <td>3.440426</td>\n",
       "      <td>4.506591</td>\n",
       "      <td>0.3</td>\n",
       "      <td>Setosa</td>\n",
       "    </tr>\n",
       "    <tr>\n",
       "      <th>1</th>\n",
       "      <td>5.012766</td>\n",
       "      <td>3.440426</td>\n",
       "      <td>4.506591</td>\n",
       "      <td>0.3</td>\n",
       "      <td>Setosa</td>\n",
       "    </tr>\n",
       "    <tr>\n",
       "      <th>2</th>\n",
       "      <td>5.012766</td>\n",
       "      <td>3.440426</td>\n",
       "      <td>4.506591</td>\n",
       "      <td>0.3</td>\n",
       "      <td>Setosa</td>\n",
       "    </tr>\n",
       "    <tr>\n",
       "      <th>3</th>\n",
       "      <td>4.600000</td>\n",
       "      <td>3.100000</td>\n",
       "      <td>6.091513</td>\n",
       "      <td>0.2</td>\n",
       "      <td>Setosa</td>\n",
       "    </tr>\n",
       "    <tr>\n",
       "      <th>4</th>\n",
       "      <td>5.000000</td>\n",
       "      <td>3.600000</td>\n",
       "      <td>2.775278</td>\n",
       "      <td>0.2</td>\n",
       "      <td>Setosa</td>\n",
       "    </tr>\n",
       "  </tbody>\n",
       "</table>\n",
       "</div>"
      ],
      "text/plain": [
       "   sepal.length  sepal.width  petal.length  petal.width variety\n",
       "0      5.012766     3.440426      4.506591          0.3  Setosa\n",
       "1      5.012766     3.440426      4.506591          0.3  Setosa\n",
       "2      5.012766     3.440426      4.506591          0.3  Setosa\n",
       "3      4.600000     3.100000      6.091513          0.2  Setosa\n",
       "4      5.000000     3.600000      2.775278          0.2  Setosa"
      ]
     },
     "metadata": {},
     "output_type": "display_data"
    }
   ],
   "source": [
    "values = {\"sepal.length\": data[\"sepal.length\"][data[\"variety\"]==\"Setosa\"].mean(),\n",
    "          \"sepal.width\": data[\"sepal.width\"][data[\"variety\"]==\"Setosa\"].mean(), \n",
    "          \"petal.length\": data[\"petal.length\"][data[\"variety\"]==\"Setosa\"].median(), \n",
    "          \"petal.width\": data[\"petal.width\"][data[\"variety\"]==\"Setosa\"].median(),\n",
    "          \"variety\": \"Setosa\"}\n",
    "data.fillna(value=values, inplace=True)\n",
    "display(data.head())"
   ]
  },
  {
   "cell_type": "markdown",
   "metadata": {},
   "source": [
    "## Extra case. Infinity"
   ]
  },
  {
   "cell_type": "code",
   "execution_count": 27,
   "metadata": {},
   "outputs": [
    {
     "data": {
      "text/html": [
       "<div>\n",
       "<style scoped>\n",
       "    .dataframe tbody tr th:only-of-type {\n",
       "        vertical-align: middle;\n",
       "    }\n",
       "\n",
       "    .dataframe tbody tr th {\n",
       "        vertical-align: top;\n",
       "    }\n",
       "\n",
       "    .dataframe thead th {\n",
       "        text-align: right;\n",
       "    }\n",
       "</style>\n",
       "<table border=\"1\" class=\"dataframe\">\n",
       "  <thead>\n",
       "    <tr style=\"text-align: right;\">\n",
       "      <th></th>\n",
       "      <th>sepal.length</th>\n",
       "      <th>sepal.width</th>\n",
       "      <th>petal.length</th>\n",
       "      <th>petal.width</th>\n",
       "      <th>variety</th>\n",
       "    </tr>\n",
       "  </thead>\n",
       "  <tbody>\n",
       "    <tr>\n",
       "      <th>15</th>\n",
       "      <td>5.7</td>\n",
       "      <td>4.4</td>\n",
       "      <td>3.324474</td>\n",
       "      <td>inf</td>\n",
       "      <td>Setosa</td>\n",
       "    </tr>\n",
       "    <tr>\n",
       "      <th>16</th>\n",
       "      <td>5.4</td>\n",
       "      <td>3.9</td>\n",
       "      <td>5.367584</td>\n",
       "      <td>-inf</td>\n",
       "      <td>Setosa</td>\n",
       "    </tr>\n",
       "    <tr>\n",
       "      <th>17</th>\n",
       "      <td>5.1</td>\n",
       "      <td>3.5</td>\n",
       "      <td>4.600904</td>\n",
       "      <td>inf</td>\n",
       "      <td>Setosa</td>\n",
       "    </tr>\n",
       "    <tr>\n",
       "      <th>18</th>\n",
       "      <td>5.7</td>\n",
       "      <td>3.8</td>\n",
       "      <td>1.749077</td>\n",
       "      <td>-inf</td>\n",
       "      <td>Setosa</td>\n",
       "    </tr>\n",
       "  </tbody>\n",
       "</table>\n",
       "</div>"
      ],
      "text/plain": [
       "    sepal.length  sepal.width  petal.length  petal.width variety\n",
       "15           5.7          4.4      3.324474          inf  Setosa\n",
       "16           5.4          3.9      5.367584         -inf  Setosa\n",
       "17           5.1          3.5      4.600904          inf  Setosa\n",
       "18           5.7          3.8      1.749077         -inf  Setosa"
      ]
     },
     "execution_count": 27,
     "metadata": {},
     "output_type": "execute_result"
    }
   ],
   "source": [
    "data[\"petal.width\"].iloc[15:19] = np.array((np.inf, -np.inf, np.inf, np.log(0)))\n",
    "data.iloc[15:19]"
   ]
  },
  {
   "cell_type": "markdown",
   "metadata": {},
   "source": [
    "### Гистограмма не строится при наличии inf"
   ]
  },
  {
   "cell_type": "code",
   "execution_count": 28,
   "metadata": {},
   "outputs": [
    {
     "data": {
      "text/plain": [
       "count    128.000\n",
       "mean         NaN\n",
       "std          NaN\n",
       "min         -inf\n",
       "25%        0.575\n",
       "50%        1.300\n",
       "75%        1.725\n",
       "max          inf\n",
       "Name: petal.width, dtype: float64"
      ]
     },
     "execution_count": 28,
     "metadata": {},
     "output_type": "execute_result"
    }
   ],
   "source": [
    "data[\"petal.width\"].describe()"
   ]
  },
  {
   "cell_type": "code",
   "execution_count": 29,
   "metadata": {},
   "outputs": [
    {
     "ename": "ValueError",
     "evalue": "autodetected range of [-inf, inf] is not finite",
     "output_type": "error",
     "traceback": [
      "\u001b[0;31m---------------------------------------------------------------------------\u001b[0m",
      "\u001b[0;31mValueError\u001b[0m                                Traceback (most recent call last)",
      "Input \u001b[0;32mIn [29]\u001b[0m, in \u001b[0;36m<cell line: 1>\u001b[0;34m()\u001b[0m\n\u001b[0;32m----> 1\u001b[0m \u001b[43mdata\u001b[49m\u001b[43m[\u001b[49m\u001b[38;5;124;43m\"\u001b[39;49m\u001b[38;5;124;43mpetal.width\u001b[39;49m\u001b[38;5;124;43m\"\u001b[39;49m\u001b[43m]\u001b[49m\u001b[38;5;241;43m.\u001b[39;49m\u001b[43mplot\u001b[49m\u001b[38;5;241;43m.\u001b[39;49m\u001b[43mhist\u001b[49m\u001b[43m(\u001b[49m\u001b[43m \u001b[49m\u001b[43mfigsize\u001b[49m\u001b[38;5;241;43m=\u001b[39;49m\u001b[43m(\u001b[49m\u001b[38;5;241;43m10\u001b[39;49m\u001b[43m,\u001b[49m\u001b[38;5;241;43m5\u001b[39;49m\u001b[43m)\u001b[49m\u001b[43m,\u001b[49m\u001b[43m \u001b[49m\n\u001b[1;32m      2\u001b[0m \u001b[43m                \u001b[49m\u001b[43mcolor\u001b[49m\u001b[38;5;241;43m=\u001b[39;49m\u001b[38;5;124;43m'\u001b[39;49m\u001b[38;5;124;43m#21BA72\u001b[39;49m\u001b[38;5;124;43m'\u001b[39;49m\u001b[43m,\u001b[49m\u001b[43m \u001b[49m\u001b[43malpha\u001b[49m\u001b[38;5;241;43m=\u001b[39;49m\u001b[38;5;241;43m0.5\u001b[39;49m\u001b[43m,\u001b[49m\u001b[43m \u001b[49m\u001b[43mbins\u001b[49m\u001b[38;5;241;43m=\u001b[39;49m\u001b[38;5;241;43m20\u001b[39;49m\u001b[43m \u001b[49m\u001b[43m)\u001b[49m\n",
      "File \u001b[0;32m~/opt/anaconda3/lib/python3.9/site-packages/pandas/plotting/_core.py:1346\u001b[0m, in \u001b[0;36mPlotAccessor.hist\u001b[0;34m(self, by, bins, **kwargs)\u001b[0m\n\u001b[1;32m   1286\u001b[0m \u001b[38;5;28;01mdef\u001b[39;00m \u001b[38;5;21mhist\u001b[39m(\u001b[38;5;28mself\u001b[39m, by\u001b[38;5;241m=\u001b[39m\u001b[38;5;28;01mNone\u001b[39;00m, bins\u001b[38;5;241m=\u001b[39m\u001b[38;5;241m10\u001b[39m, \u001b[38;5;241m*\u001b[39m\u001b[38;5;241m*\u001b[39mkwargs):\n\u001b[1;32m   1287\u001b[0m     \u001b[38;5;124;03m\"\"\"\u001b[39;00m\n\u001b[1;32m   1288\u001b[0m \u001b[38;5;124;03m    Draw one histogram of the DataFrame's columns.\u001b[39;00m\n\u001b[1;32m   1289\u001b[0m \n\u001b[0;32m   (...)\u001b[0m\n\u001b[1;32m   1344\u001b[0m \u001b[38;5;124;03m        >>> ax = df.plot.hist(column=[\"age\"], by=\"gender\", figsize=(10, 8))\u001b[39;00m\n\u001b[1;32m   1345\u001b[0m \u001b[38;5;124;03m    \"\"\"\u001b[39;00m\n\u001b[0;32m-> 1346\u001b[0m     \u001b[38;5;28;01mreturn\u001b[39;00m \u001b[38;5;28;43mself\u001b[39;49m\u001b[43m(\u001b[49m\u001b[43mkind\u001b[49m\u001b[38;5;241;43m=\u001b[39;49m\u001b[38;5;124;43m\"\u001b[39;49m\u001b[38;5;124;43mhist\u001b[39;49m\u001b[38;5;124;43m\"\u001b[39;49m\u001b[43m,\u001b[49m\u001b[43m \u001b[49m\u001b[43mby\u001b[49m\u001b[38;5;241;43m=\u001b[39;49m\u001b[43mby\u001b[49m\u001b[43m,\u001b[49m\u001b[43m \u001b[49m\u001b[43mbins\u001b[49m\u001b[38;5;241;43m=\u001b[39;49m\u001b[43mbins\u001b[49m\u001b[43m,\u001b[49m\u001b[43m \u001b[49m\u001b[38;5;241;43m*\u001b[39;49m\u001b[38;5;241;43m*\u001b[39;49m\u001b[43mkwargs\u001b[49m\u001b[43m)\u001b[49m\n",
      "File \u001b[0;32m~/opt/anaconda3/lib/python3.9/site-packages/pandas/plotting/_core.py:972\u001b[0m, in \u001b[0;36mPlotAccessor.__call__\u001b[0;34m(self, *args, **kwargs)\u001b[0m\n\u001b[1;32m    969\u001b[0m             label_name \u001b[38;5;241m=\u001b[39m label_kw \u001b[38;5;129;01mor\u001b[39;00m data\u001b[38;5;241m.\u001b[39mcolumns\n\u001b[1;32m    970\u001b[0m             data\u001b[38;5;241m.\u001b[39mcolumns \u001b[38;5;241m=\u001b[39m label_name\n\u001b[0;32m--> 972\u001b[0m \u001b[38;5;28;01mreturn\u001b[39;00m \u001b[43mplot_backend\u001b[49m\u001b[38;5;241;43m.\u001b[39;49m\u001b[43mplot\u001b[49m\u001b[43m(\u001b[49m\u001b[43mdata\u001b[49m\u001b[43m,\u001b[49m\u001b[43m \u001b[49m\u001b[43mkind\u001b[49m\u001b[38;5;241;43m=\u001b[39;49m\u001b[43mkind\u001b[49m\u001b[43m,\u001b[49m\u001b[43m \u001b[49m\u001b[38;5;241;43m*\u001b[39;49m\u001b[38;5;241;43m*\u001b[39;49m\u001b[43mkwargs\u001b[49m\u001b[43m)\u001b[49m\n",
      "File \u001b[0;32m~/opt/anaconda3/lib/python3.9/site-packages/pandas/plotting/_matplotlib/__init__.py:71\u001b[0m, in \u001b[0;36mplot\u001b[0;34m(data, kind, **kwargs)\u001b[0m\n\u001b[1;32m     69\u001b[0m         kwargs[\u001b[38;5;124m\"\u001b[39m\u001b[38;5;124max\u001b[39m\u001b[38;5;124m\"\u001b[39m] \u001b[38;5;241m=\u001b[39m \u001b[38;5;28mgetattr\u001b[39m(ax, \u001b[38;5;124m\"\u001b[39m\u001b[38;5;124mleft_ax\u001b[39m\u001b[38;5;124m\"\u001b[39m, ax)\n\u001b[1;32m     70\u001b[0m plot_obj \u001b[38;5;241m=\u001b[39m PLOT_CLASSES[kind](data, \u001b[38;5;241m*\u001b[39m\u001b[38;5;241m*\u001b[39mkwargs)\n\u001b[0;32m---> 71\u001b[0m \u001b[43mplot_obj\u001b[49m\u001b[38;5;241;43m.\u001b[39;49m\u001b[43mgenerate\u001b[49m\u001b[43m(\u001b[49m\u001b[43m)\u001b[49m\n\u001b[1;32m     72\u001b[0m plot_obj\u001b[38;5;241m.\u001b[39mdraw()\n\u001b[1;32m     73\u001b[0m \u001b[38;5;28;01mreturn\u001b[39;00m plot_obj\u001b[38;5;241m.\u001b[39mresult\n",
      "File \u001b[0;32m~/opt/anaconda3/lib/python3.9/site-packages/pandas/plotting/_matplotlib/core.py:326\u001b[0m, in \u001b[0;36mMPLPlot.generate\u001b[0;34m(self)\u001b[0m\n\u001b[1;32m    325\u001b[0m \u001b[38;5;28;01mdef\u001b[39;00m \u001b[38;5;21mgenerate\u001b[39m(\u001b[38;5;28mself\u001b[39m):\n\u001b[0;32m--> 326\u001b[0m     \u001b[38;5;28;43mself\u001b[39;49m\u001b[38;5;241;43m.\u001b[39;49m\u001b[43m_args_adjust\u001b[49m\u001b[43m(\u001b[49m\u001b[43m)\u001b[49m\n\u001b[1;32m    327\u001b[0m     \u001b[38;5;28mself\u001b[39m\u001b[38;5;241m.\u001b[39m_compute_plot_data()\n\u001b[1;32m    328\u001b[0m     \u001b[38;5;28mself\u001b[39m\u001b[38;5;241m.\u001b[39m_setup_subplots()\n",
      "File \u001b[0;32m~/opt/anaconda3/lib/python3.9/site-packages/pandas/plotting/_matplotlib/hist.py:60\u001b[0m, in \u001b[0;36mHistPlot._args_adjust\u001b[0;34m(self)\u001b[0m\n\u001b[1;32m     58\u001b[0m         \u001b[38;5;28mself\u001b[39m\u001b[38;5;241m.\u001b[39mbins \u001b[38;5;241m=\u001b[39m [\u001b[38;5;28mself\u001b[39m\u001b[38;5;241m.\u001b[39m_calculate_bins(group) \u001b[38;5;28;01mfor\u001b[39;00m key, group \u001b[38;5;129;01min\u001b[39;00m grouped]\n\u001b[1;32m     59\u001b[0m     \u001b[38;5;28;01melse\u001b[39;00m:\n\u001b[0;32m---> 60\u001b[0m         \u001b[38;5;28mself\u001b[39m\u001b[38;5;241m.\u001b[39mbins \u001b[38;5;241m=\u001b[39m \u001b[38;5;28;43mself\u001b[39;49m\u001b[38;5;241;43m.\u001b[39;49m\u001b[43m_calculate_bins\u001b[49m\u001b[43m(\u001b[49m\u001b[38;5;28;43mself\u001b[39;49m\u001b[38;5;241;43m.\u001b[39;49m\u001b[43mdata\u001b[49m\u001b[43m)\u001b[49m\n\u001b[1;32m     62\u001b[0m \u001b[38;5;28;01mif\u001b[39;00m is_list_like(\u001b[38;5;28mself\u001b[39m\u001b[38;5;241m.\u001b[39mbottom):\n\u001b[1;32m     63\u001b[0m     \u001b[38;5;28mself\u001b[39m\u001b[38;5;241m.\u001b[39mbottom \u001b[38;5;241m=\u001b[39m np\u001b[38;5;241m.\u001b[39marray(\u001b[38;5;28mself\u001b[39m\u001b[38;5;241m.\u001b[39mbottom)\n",
      "File \u001b[0;32m~/opt/anaconda3/lib/python3.9/site-packages/pandas/plotting/_matplotlib/hist.py:71\u001b[0m, in \u001b[0;36mHistPlot._calculate_bins\u001b[0;34m(self, data)\u001b[0m\n\u001b[1;32m     68\u001b[0m values \u001b[38;5;241m=\u001b[39m np\u001b[38;5;241m.\u001b[39mravel(values)\n\u001b[1;32m     69\u001b[0m values \u001b[38;5;241m=\u001b[39m values[\u001b[38;5;241m~\u001b[39misna(values)]\n\u001b[0;32m---> 71\u001b[0m hist, bins \u001b[38;5;241m=\u001b[39m \u001b[43mnp\u001b[49m\u001b[38;5;241;43m.\u001b[39;49m\u001b[43mhistogram\u001b[49m\u001b[43m(\u001b[49m\n\u001b[1;32m     72\u001b[0m \u001b[43m    \u001b[49m\u001b[43mvalues\u001b[49m\u001b[43m,\u001b[49m\u001b[43m \u001b[49m\u001b[43mbins\u001b[49m\u001b[38;5;241;43m=\u001b[39;49m\u001b[38;5;28;43mself\u001b[39;49m\u001b[38;5;241;43m.\u001b[39;49m\u001b[43mbins\u001b[49m\u001b[43m,\u001b[49m\u001b[43m \u001b[49m\u001b[38;5;28;43mrange\u001b[39;49m\u001b[38;5;241;43m=\u001b[39;49m\u001b[38;5;28;43mself\u001b[39;49m\u001b[38;5;241;43m.\u001b[39;49m\u001b[43mkwds\u001b[49m\u001b[38;5;241;43m.\u001b[39;49m\u001b[43mget\u001b[49m\u001b[43m(\u001b[49m\u001b[38;5;124;43m\"\u001b[39;49m\u001b[38;5;124;43mrange\u001b[39;49m\u001b[38;5;124;43m\"\u001b[39;49m\u001b[43m,\u001b[49m\u001b[43m \u001b[49m\u001b[38;5;28;43;01mNone\u001b[39;49;00m\u001b[43m)\u001b[49m\n\u001b[1;32m     73\u001b[0m \u001b[43m\u001b[49m\u001b[43m)\u001b[49m\n\u001b[1;32m     74\u001b[0m \u001b[38;5;28;01mreturn\u001b[39;00m bins\n",
      "File \u001b[0;32m<__array_function__ internals>:5\u001b[0m, in \u001b[0;36mhistogram\u001b[0;34m(*args, **kwargs)\u001b[0m\n",
      "File \u001b[0;32m~/opt/anaconda3/lib/python3.9/site-packages/numpy/lib/histograms.py:793\u001b[0m, in \u001b[0;36mhistogram\u001b[0;34m(a, bins, range, normed, weights, density)\u001b[0m\n\u001b[1;32m    681\u001b[0m \u001b[38;5;124mr\u001b[39m\u001b[38;5;124;03m\"\"\"\u001b[39;00m\n\u001b[1;32m    682\u001b[0m \u001b[38;5;124;03mCompute the histogram of a dataset.\u001b[39;00m\n\u001b[1;32m    683\u001b[0m \n\u001b[0;32m   (...)\u001b[0m\n\u001b[1;32m    789\u001b[0m \n\u001b[1;32m    790\u001b[0m \u001b[38;5;124;03m\"\"\"\u001b[39;00m\n\u001b[1;32m    791\u001b[0m a, weights \u001b[38;5;241m=\u001b[39m _ravel_and_check_weights(a, weights)\n\u001b[0;32m--> 793\u001b[0m bin_edges, uniform_bins \u001b[38;5;241m=\u001b[39m \u001b[43m_get_bin_edges\u001b[49m\u001b[43m(\u001b[49m\u001b[43ma\u001b[49m\u001b[43m,\u001b[49m\u001b[43m \u001b[49m\u001b[43mbins\u001b[49m\u001b[43m,\u001b[49m\u001b[43m \u001b[49m\u001b[38;5;28;43mrange\u001b[39;49m\u001b[43m,\u001b[49m\u001b[43m \u001b[49m\u001b[43mweights\u001b[49m\u001b[43m)\u001b[49m\n\u001b[1;32m    795\u001b[0m \u001b[38;5;66;03m# Histogram is an integer or a float array depending on the weights.\u001b[39;00m\n\u001b[1;32m    796\u001b[0m \u001b[38;5;28;01mif\u001b[39;00m weights \u001b[38;5;129;01mis\u001b[39;00m \u001b[38;5;28;01mNone\u001b[39;00m:\n",
      "File \u001b[0;32m~/opt/anaconda3/lib/python3.9/site-packages/numpy/lib/histograms.py:426\u001b[0m, in \u001b[0;36m_get_bin_edges\u001b[0;34m(a, bins, range, weights)\u001b[0m\n\u001b[1;32m    423\u001b[0m     \u001b[38;5;28;01mif\u001b[39;00m n_equal_bins \u001b[38;5;241m<\u001b[39m \u001b[38;5;241m1\u001b[39m:\n\u001b[1;32m    424\u001b[0m         \u001b[38;5;28;01mraise\u001b[39;00m \u001b[38;5;167;01mValueError\u001b[39;00m(\u001b[38;5;124m'\u001b[39m\u001b[38;5;124m`bins` must be positive, when an integer\u001b[39m\u001b[38;5;124m'\u001b[39m)\n\u001b[0;32m--> 426\u001b[0m     first_edge, last_edge \u001b[38;5;241m=\u001b[39m \u001b[43m_get_outer_edges\u001b[49m\u001b[43m(\u001b[49m\u001b[43ma\u001b[49m\u001b[43m,\u001b[49m\u001b[43m \u001b[49m\u001b[38;5;28;43mrange\u001b[39;49m\u001b[43m)\u001b[49m\n\u001b[1;32m    428\u001b[0m \u001b[38;5;28;01melif\u001b[39;00m np\u001b[38;5;241m.\u001b[39mndim(bins) \u001b[38;5;241m==\u001b[39m \u001b[38;5;241m1\u001b[39m:\n\u001b[1;32m    429\u001b[0m     bin_edges \u001b[38;5;241m=\u001b[39m np\u001b[38;5;241m.\u001b[39masarray(bins)\n",
      "File \u001b[0;32m~/opt/anaconda3/lib/python3.9/site-packages/numpy/lib/histograms.py:323\u001b[0m, in \u001b[0;36m_get_outer_edges\u001b[0;34m(a, range)\u001b[0m\n\u001b[1;32m    321\u001b[0m     first_edge, last_edge \u001b[38;5;241m=\u001b[39m a\u001b[38;5;241m.\u001b[39mmin(), a\u001b[38;5;241m.\u001b[39mmax()\n\u001b[1;32m    322\u001b[0m     \u001b[38;5;28;01mif\u001b[39;00m \u001b[38;5;129;01mnot\u001b[39;00m (np\u001b[38;5;241m.\u001b[39misfinite(first_edge) \u001b[38;5;129;01mand\u001b[39;00m np\u001b[38;5;241m.\u001b[39misfinite(last_edge)):\n\u001b[0;32m--> 323\u001b[0m         \u001b[38;5;28;01mraise\u001b[39;00m \u001b[38;5;167;01mValueError\u001b[39;00m(\n\u001b[1;32m    324\u001b[0m             \u001b[38;5;124m\"\u001b[39m\u001b[38;5;124mautodetected range of [\u001b[39m\u001b[38;5;132;01m{}\u001b[39;00m\u001b[38;5;124m, \u001b[39m\u001b[38;5;132;01m{}\u001b[39;00m\u001b[38;5;124m] is not finite\u001b[39m\u001b[38;5;124m\"\u001b[39m\u001b[38;5;241m.\u001b[39mformat(first_edge, last_edge))\n\u001b[1;32m    326\u001b[0m \u001b[38;5;66;03m# expand empty range to avoid divide by zero\u001b[39;00m\n\u001b[1;32m    327\u001b[0m \u001b[38;5;28;01mif\u001b[39;00m first_edge \u001b[38;5;241m==\u001b[39m last_edge:\n",
      "\u001b[0;31mValueError\u001b[0m: autodetected range of [-inf, inf] is not finite"
     ]
    }
   ],
   "source": [
    "data[\"petal.width\"].plot.hist( figsize=(10,5), \n",
    "                color='#21BA72', alpha=0.5, bins=20 );\n",
    "# Ой! Что-то пойшло не так!"
   ]
  },
  {
   "cell_type": "markdown",
   "metadata": {},
   "source": [
    "## Заменяем inf и -inf на NaN"
   ]
  },
  {
   "cell_type": "code",
   "execution_count": 30,
   "metadata": {},
   "outputs": [
    {
     "data": {
      "text/html": [
       "<div>\n",
       "<style scoped>\n",
       "    .dataframe tbody tr th:only-of-type {\n",
       "        vertical-align: middle;\n",
       "    }\n",
       "\n",
       "    .dataframe tbody tr th {\n",
       "        vertical-align: top;\n",
       "    }\n",
       "\n",
       "    .dataframe thead th {\n",
       "        text-align: right;\n",
       "    }\n",
       "</style>\n",
       "<table border=\"1\" class=\"dataframe\">\n",
       "  <thead>\n",
       "    <tr style=\"text-align: right;\">\n",
       "      <th></th>\n",
       "      <th>sepal.length</th>\n",
       "      <th>sepal.width</th>\n",
       "      <th>petal.length</th>\n",
       "      <th>petal.width</th>\n",
       "      <th>variety</th>\n",
       "    </tr>\n",
       "  </thead>\n",
       "  <tbody>\n",
       "    <tr>\n",
       "      <th>14</th>\n",
       "      <td>5.8</td>\n",
       "      <td>4.0</td>\n",
       "      <td>2.083479</td>\n",
       "      <td>0.2</td>\n",
       "      <td>Setosa</td>\n",
       "    </tr>\n",
       "    <tr>\n",
       "      <th>15</th>\n",
       "      <td>5.7</td>\n",
       "      <td>4.4</td>\n",
       "      <td>3.324474</td>\n",
       "      <td>NaN</td>\n",
       "      <td>Setosa</td>\n",
       "    </tr>\n",
       "    <tr>\n",
       "      <th>16</th>\n",
       "      <td>5.4</td>\n",
       "      <td>3.9</td>\n",
       "      <td>5.367584</td>\n",
       "      <td>NaN</td>\n",
       "      <td>Setosa</td>\n",
       "    </tr>\n",
       "    <tr>\n",
       "      <th>17</th>\n",
       "      <td>5.1</td>\n",
       "      <td>3.5</td>\n",
       "      <td>4.600904</td>\n",
       "      <td>NaN</td>\n",
       "      <td>Setosa</td>\n",
       "    </tr>\n",
       "    <tr>\n",
       "      <th>18</th>\n",
       "      <td>5.7</td>\n",
       "      <td>3.8</td>\n",
       "      <td>1.749077</td>\n",
       "      <td>NaN</td>\n",
       "      <td>Setosa</td>\n",
       "    </tr>\n",
       "    <tr>\n",
       "      <th>19</th>\n",
       "      <td>5.1</td>\n",
       "      <td>3.8</td>\n",
       "      <td>5.764643</td>\n",
       "      <td>0.3</td>\n",
       "      <td>Setosa</td>\n",
       "    </tr>\n",
       "  </tbody>\n",
       "</table>\n",
       "</div>"
      ],
      "text/plain": [
       "    sepal.length  sepal.width  petal.length  petal.width variety\n",
       "14           5.8          4.0      2.083479          0.2  Setosa\n",
       "15           5.7          4.4      3.324474          NaN  Setosa\n",
       "16           5.4          3.9      5.367584          NaN  Setosa\n",
       "17           5.1          3.5      4.600904          NaN  Setosa\n",
       "18           5.7          3.8      1.749077          NaN  Setosa\n",
       "19           5.1          3.8      5.764643          0.3  Setosa"
      ]
     },
     "execution_count": 30,
     "metadata": {},
     "output_type": "execute_result"
    }
   ],
   "source": [
    "data.replace([np.inf, -np.inf], np.nan, inplace=True)\n",
    "data.iloc[14:20]"
   ]
  },
  {
   "cell_type": "markdown",
   "metadata": {},
   "source": [
    "### а дальше дело техники..."
   ]
  },
  {
   "cell_type": "markdown",
   "metadata": {},
   "source": [
    "# Устранение пропусков в линиях/рядах"
   ]
  },
  {
   "cell_type": "code",
   "execution_count": 31,
   "metadata": {},
   "outputs": [
    {
     "data": {
      "image/png": "[encoded data removed]",
      "text/plain": [
       "<Figure size 720x360 with 1 Axes>"
      ]
     },
     "metadata": {
      "needs_background": "light"
     },
     "output_type": "display_data"
    },
    {
     "data": {
      "image/png": "[encoded data removed]",
      "text/plain": [
       "<Figure size 720x360 with 1 Axes>"
      ]
     },
     "metadata": {
      "needs_background": "light"
     },
     "output_type": "display_data"
    }
   ],
   "source": [
    "sbercolors = ['#21A038','#0087CD','#00D900', '#FAED00',  '#42E3B4','#21BA72'] \n",
    "image_params = dict(figsize=(10,5), \n",
    "                color=sbercolors)\n",
    "samples = np.random.randn(1000, 5)\n",
    "\n",
    "df = pd.DataFrame(samples, \n",
    "                   index=pd.date_range(\"1/1/2015\", periods=1000),\n",
    "                   columns=list(\"ABCDE\"))\n",
    "df = df.cumsum()\n",
    "df.plot(**image_params);    \n",
    "before = df.iloc[400:420].copy()        \n",
    "df.iloc[390:450] = None\n",
    "\n",
    "df.plot(**image_params);\n",
    "  "
   ]
  },
  {
   "cell_type": "code",
   "execution_count": 32,
   "metadata": {},
   "outputs": [
    {
     "data": {
      "image/png": "[encoded data removed]",
      "text/plain": [
       "<Figure size 720x360 with 1 Axes>"
      ]
     },
     "metadata": {
      "needs_background": "light"
     },
     "output_type": "display_data"
    }
   ],
   "source": [
    "to_fill = {\"A\": df[\"A\"].interpolate(method='linear'),\n",
    "           \"B\": df[\"B\"].interpolate(method='time'),\n",
    "           \"C\": df[\"C\"].interpolate(method='pad'),\n",
    "           \"D\": df[\"D\"].interpolate(method='nearest'),\n",
    "           \"E\": df[\"E\"].interpolate(method='akima'),}\n",
    "df.fillna(value=to_fill, inplace=True)\n",
    "df.plot(**image_params);\n"
   ]
  },
  {
   "cell_type": "code",
   "execution_count": 33,
   "metadata": {},
   "outputs": [
    {
     "data": {
      "text/html": [
       "<div>\n",
       "<style scoped>\n",
       "    .dataframe tbody tr th:only-of-type {\n",
       "        vertical-align: middle;\n",
       "    }\n",
       "\n",
       "    .dataframe tbody tr th {\n",
       "        vertical-align: top;\n",
       "    }\n",
       "\n",
       "    .dataframe thead tr th {\n",
       "        text-align: left;\n",
       "    }\n",
       "</style>\n",
       "<table border=\"1\" class=\"dataframe\">\n",
       "  <thead>\n",
       "    <tr>\n",
       "      <th>subject</th>\n",
       "      <th colspan=\"5\" halign=\"left\">Before</th>\n",
       "      <th colspan=\"5\" halign=\"left\">Recycled</th>\n",
       "    </tr>\n",
       "    <tr>\n",
       "      <th>type</th>\n",
       "      <th>A</th>\n",
       "      <th>B</th>\n",
       "      <th>C</th>\n",
       "      <th>D</th>\n",
       "      <th>E</th>\n",
       "      <th>A</th>\n",
       "      <th>B</th>\n",
       "      <th>C</th>\n",
       "      <th>D</th>\n",
       "      <th>E</th>\n",
       "    </tr>\n",
       "  </thead>\n",
       "  <tbody>\n",
       "    <tr>\n",
       "      <th>2016-02-05</th>\n",
       "      <td>-19.651666</td>\n",
       "      <td>4.928745</td>\n",
       "      <td>9.105983</td>\n",
       "      <td>-25.548039</td>\n",
       "      <td>1.252605</td>\n",
       "      <td>-20.921577</td>\n",
       "      <td>7.348853</td>\n",
       "      <td>13.426222</td>\n",
       "      <td>-29.153303</td>\n",
       "      <td>-0.771239</td>\n",
       "    </tr>\n",
       "    <tr>\n",
       "      <th>2016-02-06</th>\n",
       "      <td>-18.451035</td>\n",
       "      <td>4.650275</td>\n",
       "      <td>8.900118</td>\n",
       "      <td>-23.725948</td>\n",
       "      <td>1.702784</td>\n",
       "      <td>-20.964336</td>\n",
       "      <td>7.548512</td>\n",
       "      <td>13.426222</td>\n",
       "      <td>-29.153303</td>\n",
       "      <td>-0.796495</td>\n",
       "    </tr>\n",
       "    <tr>\n",
       "      <th>2016-02-07</th>\n",
       "      <td>-18.426057</td>\n",
       "      <td>4.878691</td>\n",
       "      <td>9.637650</td>\n",
       "      <td>-23.228972</td>\n",
       "      <td>2.602156</td>\n",
       "      <td>-21.007095</td>\n",
       "      <td>7.748170</td>\n",
       "      <td>13.426222</td>\n",
       "      <td>-29.153303</td>\n",
       "      <td>-0.805814</td>\n",
       "    </tr>\n",
       "    <tr>\n",
       "      <th>2016-02-08</th>\n",
       "      <td>-18.503113</td>\n",
       "      <td>5.462301</td>\n",
       "      <td>6.101220</td>\n",
       "      <td>-22.515319</td>\n",
       "      <td>3.520087</td>\n",
       "      <td>-21.049854</td>\n",
       "      <td>7.947829</td>\n",
       "      <td>13.426222</td>\n",
       "      <td>-29.153303</td>\n",
       "      <td>-0.800062</td>\n",
       "    </tr>\n",
       "    <tr>\n",
       "      <th>2016-02-09</th>\n",
       "      <td>-18.040260</td>\n",
       "      <td>6.872964</td>\n",
       "      <td>6.233329</td>\n",
       "      <td>-23.141103</td>\n",
       "      <td>2.907203</td>\n",
       "      <td>-21.092613</td>\n",
       "      <td>8.147488</td>\n",
       "      <td>13.426222</td>\n",
       "      <td>-29.153303</td>\n",
       "      <td>-0.780107</td>\n",
       "    </tr>\n",
       "    <tr>\n",
       "      <th>2016-02-10</th>\n",
       "      <td>-18.331130</td>\n",
       "      <td>6.403464</td>\n",
       "      <td>4.531250</td>\n",
       "      <td>-23.896169</td>\n",
       "      <td>3.145539</td>\n",
       "      <td>-21.135372</td>\n",
       "      <td>8.347146</td>\n",
       "      <td>13.426222</td>\n",
       "      <td>-29.153303</td>\n",
       "      <td>-0.746817</td>\n",
       "    </tr>\n",
       "    <tr>\n",
       "      <th>2016-02-11</th>\n",
       "      <td>-18.309021</td>\n",
       "      <td>5.677185</td>\n",
       "      <td>5.230086</td>\n",
       "      <td>-22.880067</td>\n",
       "      <td>1.979935</td>\n",
       "      <td>-21.178131</td>\n",
       "      <td>8.546805</td>\n",
       "      <td>13.426222</td>\n",
       "      <td>-29.153303</td>\n",
       "      <td>-0.701059</td>\n",
       "    </tr>\n",
       "    <tr>\n",
       "      <th>2016-02-12</th>\n",
       "      <td>-17.944700</td>\n",
       "      <td>6.962909</td>\n",
       "      <td>5.901468</td>\n",
       "      <td>-23.913284</td>\n",
       "      <td>2.714906</td>\n",
       "      <td>-21.220890</td>\n",
       "      <td>8.746464</td>\n",
       "      <td>13.426222</td>\n",
       "      <td>-29.153303</td>\n",
       "      <td>-0.643700</td>\n",
       "    </tr>\n",
       "    <tr>\n",
       "      <th>2016-02-13</th>\n",
       "      <td>-18.846045</td>\n",
       "      <td>6.187935</td>\n",
       "      <td>4.835284</td>\n",
       "      <td>-24.309831</td>\n",
       "      <td>4.278964</td>\n",
       "      <td>-21.263649</td>\n",
       "      <td>8.946122</td>\n",
       "      <td>13.426222</td>\n",
       "      <td>-29.153303</td>\n",
       "      <td>-0.575609</td>\n",
       "    </tr>\n",
       "    <tr>\n",
       "      <th>2016-02-14</th>\n",
       "      <td>-17.431170</td>\n",
       "      <td>6.579217</td>\n",
       "      <td>4.611326</td>\n",
       "      <td>-24.701723</td>\n",
       "      <td>3.989787</td>\n",
       "      <td>-21.306408</td>\n",
       "      <td>9.145781</td>\n",
       "      <td>13.426222</td>\n",
       "      <td>-29.153303</td>\n",
       "      <td>-0.497652</td>\n",
       "    </tr>\n",
       "    <tr>\n",
       "      <th>2016-02-15</th>\n",
       "      <td>-17.715013</td>\n",
       "      <td>6.655617</td>\n",
       "      <td>3.248895</td>\n",
       "      <td>-25.888622</td>\n",
       "      <td>4.007674</td>\n",
       "      <td>-21.349167</td>\n",
       "      <td>9.345440</td>\n",
       "      <td>13.426222</td>\n",
       "      <td>-29.153303</td>\n",
       "      <td>-0.410697</td>\n",
       "    </tr>\n",
       "    <tr>\n",
       "      <th>2016-02-16</th>\n",
       "      <td>-17.904085</td>\n",
       "      <td>7.912373</td>\n",
       "      <td>-0.619603</td>\n",
       "      <td>-26.436664</td>\n",
       "      <td>4.763201</td>\n",
       "      <td>-21.391926</td>\n",
       "      <td>9.545098</td>\n",
       "      <td>13.426222</td>\n",
       "      <td>-29.153303</td>\n",
       "      <td>-0.315612</td>\n",
       "    </tr>\n",
       "    <tr>\n",
       "      <th>2016-02-17</th>\n",
       "      <td>-19.474534</td>\n",
       "      <td>8.617505</td>\n",
       "      <td>0.000671</td>\n",
       "      <td>-25.722671</td>\n",
       "      <td>3.888643</td>\n",
       "      <td>-21.434685</td>\n",
       "      <td>9.744757</td>\n",
       "      <td>13.426222</td>\n",
       "      <td>-29.153303</td>\n",
       "      <td>-0.213263</td>\n",
       "    </tr>\n",
       "    <tr>\n",
       "      <th>2016-02-18</th>\n",
       "      <td>-19.532052</td>\n",
       "      <td>8.558631</td>\n",
       "      <td>0.573472</td>\n",
       "      <td>-23.990603</td>\n",
       "      <td>5.013740</td>\n",
       "      <td>-21.477444</td>\n",
       "      <td>9.944415</td>\n",
       "      <td>13.426222</td>\n",
       "      <td>-29.153303</td>\n",
       "      <td>-0.104519</td>\n",
       "    </tr>\n",
       "    <tr>\n",
       "      <th>2016-02-19</th>\n",
       "      <td>-19.992067</td>\n",
       "      <td>9.460828</td>\n",
       "      <td>1.363784</td>\n",
       "      <td>-24.164111</td>\n",
       "      <td>5.731998</td>\n",
       "      <td>-21.520203</td>\n",
       "      <td>10.144074</td>\n",
       "      <td>13.426222</td>\n",
       "      <td>-29.153303</td>\n",
       "      <td>0.009753</td>\n",
       "    </tr>\n",
       "    <tr>\n",
       "      <th>2016-02-20</th>\n",
       "      <td>-19.959413</td>\n",
       "      <td>8.648675</td>\n",
       "      <td>2.546301</td>\n",
       "      <td>-24.645553</td>\n",
       "      <td>4.610353</td>\n",
       "      <td>-21.562962</td>\n",
       "      <td>10.343733</td>\n",
       "      <td>13.426222</td>\n",
       "      <td>-29.153303</td>\n",
       "      <td>0.128685</td>\n",
       "    </tr>\n",
       "    <tr>\n",
       "      <th>2016-02-21</th>\n",
       "      <td>-20.985335</td>\n",
       "      <td>9.924836</td>\n",
       "      <td>2.163158</td>\n",
       "      <td>-23.051611</td>\n",
       "      <td>3.874109</td>\n",
       "      <td>-21.605721</td>\n",
       "      <td>10.543391</td>\n",
       "      <td>13.426222</td>\n",
       "      <td>-29.153303</td>\n",
       "      <td>0.251411</td>\n",
       "    </tr>\n",
       "    <tr>\n",
       "      <th>2016-02-22</th>\n",
       "      <td>-19.992987</td>\n",
       "      <td>11.220890</td>\n",
       "      <td>2.520070</td>\n",
       "      <td>-23.310119</td>\n",
       "      <td>3.058331</td>\n",
       "      <td>-21.648480</td>\n",
       "      <td>10.743050</td>\n",
       "      <td>13.426222</td>\n",
       "      <td>-29.153303</td>\n",
       "      <td>0.377063</td>\n",
       "    </tr>\n",
       "    <tr>\n",
       "      <th>2016-02-23</th>\n",
       "      <td>-21.956431</td>\n",
       "      <td>12.302543</td>\n",
       "      <td>2.368855</td>\n",
       "      <td>-24.629350</td>\n",
       "      <td>2.867634</td>\n",
       "      <td>-21.691239</td>\n",
       "      <td>10.942709</td>\n",
       "      <td>13.426222</td>\n",
       "      <td>-29.153303</td>\n",
       "      <td>0.504773</td>\n",
       "    </tr>\n",
       "    <tr>\n",
       "      <th>2016-02-24</th>\n",
       "      <td>-22.568825</td>\n",
       "      <td>12.815947</td>\n",
       "      <td>2.345748</td>\n",
       "      <td>-26.663367</td>\n",
       "      <td>2.114058</td>\n",
       "      <td>-21.733998</td>\n",
       "      <td>11.142367</td>\n",
       "      <td>13.426222</td>\n",
       "      <td>-29.153303</td>\n",
       "      <td>0.633673</td>\n",
       "    </tr>\n",
       "  </tbody>\n",
       "</table>\n",
       "</div>"
      ],
      "text/plain": [
       "subject        Before                                             Recycled  \\\n",
       "type                A          B         C          D         E          A   \n",
       "2016-02-05 -19.651666   4.928745  9.105983 -25.548039  1.252605 -20.921577   \n",
       "2016-02-06 -18.451035   4.650275  8.900118 -23.725948  1.702784 -20.964336   \n",
       "2016-02-07 -18.426057   4.878691  9.637650 -23.228972  2.602156 -21.007095   \n",
       "2016-02-08 -18.503113   5.462301  6.101220 -22.515319  3.520087 -21.049854   \n",
       "2016-02-09 -18.040260   6.872964  6.233329 -23.141103  2.907203 -21.092613   \n",
       "2016-02-10 -18.331130   6.403464  4.531250 -23.896169  3.145539 -21.135372   \n",
       "2016-02-11 -18.309021   5.677185  5.230086 -22.880067  1.979935 -21.178131   \n",
       "2016-02-12 -17.944700   6.962909  5.901468 -23.913284  2.714906 -21.220890   \n",
       "2016-02-13 -18.846045   6.187935  4.835284 -24.309831  4.278964 -21.263649   \n",
       "2016-02-14 -17.431170   6.579217  4.611326 -24.701723  3.989787 -21.306408   \n",
       "2016-02-15 -17.715013   6.655617  3.248895 -25.888622  4.007674 -21.349167   \n",
       "2016-02-16 -17.904085   7.912373 -0.619603 -26.436664  4.763201 -21.391926   \n",
       "2016-02-17 -19.474534   8.617505  0.000671 -25.722671  3.888643 -21.434685   \n",
       "2016-02-18 -19.532052   8.558631  0.573472 -23.990603  5.013740 -21.477444   \n",
       "2016-02-19 -19.992067   9.460828  1.363784 -24.164111  5.731998 -21.520203   \n",
       "2016-02-20 -19.959413   8.648675  2.546301 -24.645553  4.610353 -21.562962   \n",
       "2016-02-21 -20.985335   9.924836  2.163158 -23.051611  3.874109 -21.605721   \n",
       "2016-02-22 -19.992987  11.220890  2.520070 -23.310119  3.058331 -21.648480   \n",
       "2016-02-23 -21.956431  12.302543  2.368855 -24.629350  2.867634 -21.691239   \n",
       "2016-02-24 -22.568825  12.815947  2.345748 -26.663367  2.114058 -21.733998   \n",
       "\n",
       "subject                                                \n",
       "type                B          C          D         E  \n",
       "2016-02-05   7.348853  13.426222 -29.153303 -0.771239  \n",
       "2016-02-06   7.548512  13.426222 -29.153303 -0.796495  \n",
       "2016-02-07   7.748170  13.426222 -29.153303 -0.805814  \n",
       "2016-02-08   7.947829  13.426222 -29.153303 -0.800062  \n",
       "2016-02-09   8.147488  13.426222 -29.153303 -0.780107  \n",
       "2016-02-10   8.347146  13.426222 -29.153303 -0.746817  \n",
       "2016-02-11   8.546805  13.426222 -29.153303 -0.701059  \n",
       "2016-02-12   8.746464  13.426222 -29.153303 -0.643700  \n",
       "2016-02-13   8.946122  13.426222 -29.153303 -0.575609  \n",
       "2016-02-14   9.145781  13.426222 -29.153303 -0.497652  \n",
       "2016-02-15   9.345440  13.426222 -29.153303 -0.410697  \n",
       "2016-02-16   9.545098  13.426222 -29.153303 -0.315612  \n",
       "2016-02-17   9.744757  13.426222 -29.153303 -0.213263  \n",
       "2016-02-18   9.944415  13.426222 -29.153303 -0.104519  \n",
       "2016-02-19  10.144074  13.426222 -29.153303  0.009753  \n",
       "2016-02-20  10.343733  13.426222 -29.153303  0.128685  \n",
       "2016-02-21  10.543391  13.426222 -29.153303  0.251411  \n",
       "2016-02-22  10.743050  13.426222 -29.153303  0.377063  \n",
       "2016-02-23  10.942709  13.426222 -29.153303  0.504773  \n",
       "2016-02-24  11.142367  13.426222 -29.153303  0.633673  "
      ]
     },
     "metadata": {},
     "output_type": "display_data"
    }
   ],
   "source": [
    "to_check = pd.concat((before,df.iloc[400:420]), axis=1)\n",
    "to_check.columns = pd.MultiIndex.from_product([['Before', 'Recycled'], df.columns,],\n",
    "                                     names=['subject', 'type'])\n",
    "\n",
    "display(to_check) "
   ]
  },
  {
   "cell_type": "markdown",
   "metadata": {},
   "source": [
    "#### Проверим точность восстановления по критерию $\\chi^2$"
   ]
  },
  {
   "cell_type": "code",
   "execution_count": 34,
   "metadata": {},
   "outputs": [
    {
     "data": {
      "text/plain": [
       "'A: 0.7264275882153401'"
      ]
     },
     "metadata": {},
     "output_type": "display_data"
    },
    {
     "data": {
      "text/plain": [
       "'B: 0.6447775320104071'"
      ]
     },
     "metadata": {},
     "output_type": "display_data"
    },
    {
     "data": {
      "text/plain": [
       "'C: 0.08198703909911856'"
      ]
     },
     "metadata": {},
     "output_type": "display_data"
    },
    {
     "data": {
      "text/plain": [
       "'D: 0.5129982406085043'"
      ]
     },
     "metadata": {},
     "output_type": "display_data"
    },
    {
     "data": {
      "text/plain": [
       "'E: 0.2142005672436243'"
      ]
     },
     "metadata": {},
     "output_type": "display_data"
    }
   ],
   "source": [
    "for litera in \"ABCDE\":\n",
    "    stat, p_value = chisquare([to_check[\"Before\", litera].abs(),  ## Только положительные заначения!!!\n",
    "                               to_check[\"Recycled\",litera].abs()])\n",
    "    display(f\"{litera}: {np.mean(p_value)}\") "
   ]
  },
  {
   "cell_type": "markdown",
   "metadata": {},
   "source": [
    "#### или просто посчитаем погрешность"
   ]
  },
  {
   "cell_type": "code",
   "execution_count": 35,
   "metadata": {},
   "outputs": [
    {
     "data": {
      "text/html": [
       "<style type=\"text/css\">\n",
       "#T_7c29b_row0_col0 {\n",
       "  background-color: #42E3B4;\n",
       "}\n",
       "#T_7c29b_row1_col0 {\n",
       "  background-color: #0087CD;\n",
       "}\n",
       "#T_7c29b_row2_col0 {\n",
       "  background-color: #FAED00;\n",
       "}\n",
       "</style>\n",
       "<table id=\"T_7c29b\">\n",
       "  <thead>\n",
       "    <tr>\n",
       "      <th class=\"blank level0\" >&nbsp;</th>\n",
       "      <th id=\"T_7c29b_level0_col0\" class=\"col_heading level0 col0\" >Colors</th>\n",
       "    </tr>\n",
       "  </thead>\n",
       "  <tbody>\n",
       "    <tr>\n",
       "      <th id=\"T_7c29b_level0_row0\" class=\"row_heading level0 row0\" >0</th>\n",
       "      <td id=\"T_7c29b_row0_col0\" class=\"data row0 col0\" >MAX</td>\n",
       "    </tr>\n",
       "    <tr>\n",
       "      <th id=\"T_7c29b_level0_row1\" class=\"row_heading level0 row1\" >1</th>\n",
       "      <td id=\"T_7c29b_row1_col0\" class=\"data row1 col0\" >MIN</td>\n",
       "    </tr>\n",
       "    <tr>\n",
       "      <th id=\"T_7c29b_level0_row2\" class=\"row_heading level0 row2\" >2</th>\n",
       "      <td id=\"T_7c29b_row2_col0\" class=\"data row2 col0\" >AVERAGE</td>\n",
       "    </tr>\n",
       "  </tbody>\n",
       "</table>\n"
      ],
      "text/plain": [
       "<pandas.io.formats.style.Styler at 0x7f7bd722f490>"
      ]
     },
     "metadata": {},
     "output_type": "display_data"
    },
    {
     "data": {
      "text/html": [
       "<style type=\"text/css\">\n",
       "#T_d11a4_row1_col1, #T_d11a4_row11_col2, #T_d11a4_row17_col6, #T_d11a4_row18_col5, #T_d11a4_row19_col0, #T_d11a4_row19_col3, #T_d11a4_row19_col4, #T_d11a4_row19_col9 {\n",
       "  background-color: #0087CD;\n",
       "}\n",
       "#T_d11a4_row1_col6, #T_d11a4_row2_col2, #T_d11a4_row3_col3, #T_d11a4_row3_col8, #T_d11a4_row9_col0, #T_d11a4_row9_col5, #T_d11a4_row11_col7, #T_d11a4_row14_col4, #T_d11a4_row14_col9, #T_d11a4_row19_col1 {\n",
       "  background-color: #42E3B4;\n",
       "}\n",
       "#T_d11a4_row20_col0, #T_d11a4_row20_col1, #T_d11a4_row20_col2, #T_d11a4_row20_col3, #T_d11a4_row20_col4, #T_d11a4_row20_col5, #T_d11a4_row20_col6, #T_d11a4_row20_col9 {\n",
       "  background-color: #FAED00;\n",
       "}\n",
       "#T_d11a4_row20_col7, #T_d11a4_row20_col8 {\n",
       "  background-color: #FAED00;\n",
       "  background-color: #0087CD;\n",
       "}\n",
       "</style>\n",
       "<table id=\"T_d11a4\">\n",
       "  <thead>\n",
       "    <tr>\n",
       "      <th class=\"index_name level0\" >subject</th>\n",
       "      <th id=\"T_d11a4_level0_col0\" class=\"col_heading level0 col0\" colspan=\"5\">ABS</th>\n",
       "      <th id=\"T_d11a4_level0_col5\" class=\"col_heading level0 col5\" colspan=\"5\">SQR</th>\n",
       "    </tr>\n",
       "    <tr>\n",
       "      <th class=\"index_name level1\" >type</th>\n",
       "      <th id=\"T_d11a4_level1_col0\" class=\"col_heading level1 col0\" >A</th>\n",
       "      <th id=\"T_d11a4_level1_col1\" class=\"col_heading level1 col1\" >B</th>\n",
       "      <th id=\"T_d11a4_level1_col2\" class=\"col_heading level1 col2\" >C</th>\n",
       "      <th id=\"T_d11a4_level1_col3\" class=\"col_heading level1 col3\" >D</th>\n",
       "      <th id=\"T_d11a4_level1_col4\" class=\"col_heading level1 col4\" >E</th>\n",
       "      <th id=\"T_d11a4_level1_col5\" class=\"col_heading level1 col5\" >A</th>\n",
       "      <th id=\"T_d11a4_level1_col6\" class=\"col_heading level1 col6\" >B</th>\n",
       "      <th id=\"T_d11a4_level1_col7\" class=\"col_heading level1 col7\" >C</th>\n",
       "      <th id=\"T_d11a4_level1_col8\" class=\"col_heading level1 col8\" >D</th>\n",
       "      <th id=\"T_d11a4_level1_col9\" class=\"col_heading level1 col9\" >E</th>\n",
       "    </tr>\n",
       "  </thead>\n",
       "  <tbody>\n",
       "    <tr>\n",
       "      <th id=\"T_d11a4_level0_row0\" class=\"row_heading level0 row0\" >2016-02-05 00:00:00</th>\n",
       "      <td id=\"T_d11a4_row0_col0\" class=\"data row0 col0\" >1.269911</td>\n",
       "      <td id=\"T_d11a4_row0_col1\" class=\"data row0 col1\" >-2.420108</td>\n",
       "      <td id=\"T_d11a4_row0_col2\" class=\"data row0 col2\" >-4.320238</td>\n",
       "      <td id=\"T_d11a4_row0_col3\" class=\"data row0 col3\" >3.605264</td>\n",
       "      <td id=\"T_d11a4_row0_col4\" class=\"data row0 col4\" >2.023844</td>\n",
       "      <td id=\"T_d11a4_row0_col5\" class=\"data row0 col5\" >1.612674</td>\n",
       "      <td id=\"T_d11a4_row0_col6\" class=\"data row0 col6\" >5.856923</td>\n",
       "      <td id=\"T_d11a4_row0_col7\" class=\"data row0 col7\" >18.664458</td>\n",
       "      <td id=\"T_d11a4_row0_col8\" class=\"data row0 col8\" >12.997926</td>\n",
       "      <td id=\"T_d11a4_row0_col9\" class=\"data row0 col9\" >4.095944</td>\n",
       "    </tr>\n",
       "    <tr>\n",
       "      <th id=\"T_d11a4_level0_row1\" class=\"row_heading level0 row1\" >2016-02-06 00:00:00</th>\n",
       "      <td id=\"T_d11a4_row1_col0\" class=\"data row1 col0\" >2.513301</td>\n",
       "      <td id=\"T_d11a4_row1_col1\" class=\"data row1 col1\" >-2.898237</td>\n",
       "      <td id=\"T_d11a4_row1_col2\" class=\"data row1 col2\" >-4.526104</td>\n",
       "      <td id=\"T_d11a4_row1_col3\" class=\"data row1 col3\" >5.427354</td>\n",
       "      <td id=\"T_d11a4_row1_col4\" class=\"data row1 col4\" >2.499279</td>\n",
       "      <td id=\"T_d11a4_row1_col5\" class=\"data row1 col5\" >6.316682</td>\n",
       "      <td id=\"T_d11a4_row1_col6\" class=\"data row1 col6\" >8.399777</td>\n",
       "      <td id=\"T_d11a4_row1_col7\" class=\"data row1 col7\" >20.485617</td>\n",
       "      <td id=\"T_d11a4_row1_col8\" class=\"data row1 col8\" >29.456176</td>\n",
       "      <td id=\"T_d11a4_row1_col9\" class=\"data row1 col9\" >6.246398</td>\n",
       "    </tr>\n",
       "    <tr>\n",
       "      <th id=\"T_d11a4_level0_row2\" class=\"row_heading level0 row2\" >2016-02-07 00:00:00</th>\n",
       "      <td id=\"T_d11a4_row2_col0\" class=\"data row2 col0\" >2.581038</td>\n",
       "      <td id=\"T_d11a4_row2_col1\" class=\"data row2 col1\" >-2.869480</td>\n",
       "      <td id=\"T_d11a4_row2_col2\" class=\"data row2 col2\" >-3.788572</td>\n",
       "      <td id=\"T_d11a4_row2_col3\" class=\"data row2 col3\" >5.924330</td>\n",
       "      <td id=\"T_d11a4_row2_col4\" class=\"data row2 col4\" >3.407970</td>\n",
       "      <td id=\"T_d11a4_row2_col5\" class=\"data row2 col5\" >6.661758</td>\n",
       "      <td id=\"T_d11a4_row2_col6\" class=\"data row2 col6\" >8.233913</td>\n",
       "      <td id=\"T_d11a4_row2_col7\" class=\"data row2 col7\" >14.353274</td>\n",
       "      <td id=\"T_d11a4_row2_col8\" class=\"data row2 col8\" >35.097690</td>\n",
       "      <td id=\"T_d11a4_row2_col9\" class=\"data row2 col9\" >11.614259</td>\n",
       "    </tr>\n",
       "    <tr>\n",
       "      <th id=\"T_d11a4_level0_row3\" class=\"row_heading level0 row3\" >2016-02-08 00:00:00</th>\n",
       "      <td id=\"T_d11a4_row3_col0\" class=\"data row3 col0\" >2.546741</td>\n",
       "      <td id=\"T_d11a4_row3_col1\" class=\"data row3 col1\" >-2.485528</td>\n",
       "      <td id=\"T_d11a4_row3_col2\" class=\"data row3 col2\" >-7.325002</td>\n",
       "      <td id=\"T_d11a4_row3_col3\" class=\"data row3 col3\" >6.637984</td>\n",
       "      <td id=\"T_d11a4_row3_col4\" class=\"data row3 col4\" >4.320148</td>\n",
       "      <td id=\"T_d11a4_row3_col5\" class=\"data row3 col5\" >6.485892</td>\n",
       "      <td id=\"T_d11a4_row3_col6\" class=\"data row3 col6\" >6.177851</td>\n",
       "      <td id=\"T_d11a4_row3_col7\" class=\"data row3 col7\" >53.655649</td>\n",
       "      <td id=\"T_d11a4_row3_col8\" class=\"data row3 col8\" >44.062831</td>\n",
       "      <td id=\"T_d11a4_row3_col9\" class=\"data row3 col9\" >18.663683</td>\n",
       "    </tr>\n",
       "    <tr>\n",
       "      <th id=\"T_d11a4_level0_row4\" class=\"row_heading level0 row4\" >2016-02-09 00:00:00</th>\n",
       "      <td id=\"T_d11a4_row4_col0\" class=\"data row4 col0\" >3.052353</td>\n",
       "      <td id=\"T_d11a4_row4_col1\" class=\"data row4 col1\" >-1.274524</td>\n",
       "      <td id=\"T_d11a4_row4_col2\" class=\"data row4 col2\" >-7.192892</td>\n",
       "      <td id=\"T_d11a4_row4_col3\" class=\"data row4 col3\" >6.012199</td>\n",
       "      <td id=\"T_d11a4_row4_col4\" class=\"data row4 col4\" >3.687310</td>\n",
       "      <td id=\"T_d11a4_row4_col5\" class=\"data row4 col5\" >9.316860</td>\n",
       "      <td id=\"T_d11a4_row4_col6\" class=\"data row4 col6\" >1.624412</td>\n",
       "      <td id=\"T_d11a4_row4_col7\" class=\"data row4 col7\" >51.737700</td>\n",
       "      <td id=\"T_d11a4_row4_col8\" class=\"data row4 col8\" >36.146542</td>\n",
       "      <td id=\"T_d11a4_row4_col9\" class=\"data row4 col9\" >13.596252</td>\n",
       "    </tr>\n",
       "    <tr>\n",
       "      <th id=\"T_d11a4_level0_row5\" class=\"row_heading level0 row5\" >2016-02-10 00:00:00</th>\n",
       "      <td id=\"T_d11a4_row5_col0\" class=\"data row5 col0\" >2.804243</td>\n",
       "      <td id=\"T_d11a4_row5_col1\" class=\"data row5 col1\" >-1.943682</td>\n",
       "      <td id=\"T_d11a4_row5_col2\" class=\"data row5 col2\" >-8.894972</td>\n",
       "      <td id=\"T_d11a4_row5_col3\" class=\"data row5 col3\" >5.257134</td>\n",
       "      <td id=\"T_d11a4_row5_col4\" class=\"data row5 col4\" >3.892355</td>\n",
       "      <td id=\"T_d11a4_row5_col5\" class=\"data row5 col5\" >7.863776</td>\n",
       "      <td id=\"T_d11a4_row5_col6\" class=\"data row5 col6\" >3.777900</td>\n",
       "      <td id=\"T_d11a4_row5_col7\" class=\"data row5 col7\" >79.120518</td>\n",
       "      <td id=\"T_d11a4_row5_col8\" class=\"data row5 col8\" >27.637455</td>\n",
       "      <td id=\"T_d11a4_row5_col9\" class=\"data row5 col9\" >15.150431</td>\n",
       "    </tr>\n",
       "    <tr>\n",
       "      <th id=\"T_d11a4_level0_row6\" class=\"row_heading level0 row6\" >2016-02-11 00:00:00</th>\n",
       "      <td id=\"T_d11a4_row6_col0\" class=\"data row6 col0\" >2.869110</td>\n",
       "      <td id=\"T_d11a4_row6_col1\" class=\"data row6 col1\" >-2.869620</td>\n",
       "      <td id=\"T_d11a4_row6_col2\" class=\"data row6 col2\" >-8.196136</td>\n",
       "      <td id=\"T_d11a4_row6_col3\" class=\"data row6 col3\" >6.273235</td>\n",
       "      <td id=\"T_d11a4_row6_col4\" class=\"data row6 col4\" >2.680994</td>\n",
       "      <td id=\"T_d11a4_row6_col5\" class=\"data row6 col5\" >8.231792</td>\n",
       "      <td id=\"T_d11a4_row6_col6\" class=\"data row6 col6\" >8.234720</td>\n",
       "      <td id=\"T_d11a4_row6_col7\" class=\"data row6 col7\" >67.176639</td>\n",
       "      <td id=\"T_d11a4_row6_col8\" class=\"data row6 col8\" >39.353479</td>\n",
       "      <td id=\"T_d11a4_row6_col9\" class=\"data row6 col9\" >7.187726</td>\n",
       "    </tr>\n",
       "    <tr>\n",
       "      <th id=\"T_d11a4_level0_row7\" class=\"row_heading level0 row7\" >2016-02-12 00:00:00</th>\n",
       "      <td id=\"T_d11a4_row7_col0\" class=\"data row7 col0\" >3.276190</td>\n",
       "      <td id=\"T_d11a4_row7_col1\" class=\"data row7 col1\" >-1.783555</td>\n",
       "      <td id=\"T_d11a4_row7_col2\" class=\"data row7 col2\" >-7.524754</td>\n",
       "      <td id=\"T_d11a4_row7_col3\" class=\"data row7 col3\" >5.240019</td>\n",
       "      <td id=\"T_d11a4_row7_col4\" class=\"data row7 col4\" >3.358606</td>\n",
       "      <td id=\"T_d11a4_row7_col5\" class=\"data row7 col5\" >10.733423</td>\n",
       "      <td id=\"T_d11a4_row7_col6\" class=\"data row7 col6\" >3.181068</td>\n",
       "      <td id=\"T_d11a4_row7_col7\" class=\"data row7 col7\" >56.621923</td>\n",
       "      <td id=\"T_d11a4_row7_col8\" class=\"data row7 col8\" >27.457799</td>\n",
       "      <td id=\"T_d11a4_row7_col9\" class=\"data row7 col9\" >11.280236</td>\n",
       "    </tr>\n",
       "    <tr>\n",
       "      <th id=\"T_d11a4_level0_row8\" class=\"row_heading level0 row8\" >2016-02-13 00:00:00</th>\n",
       "      <td id=\"T_d11a4_row8_col0\" class=\"data row8 col0\" >2.417604</td>\n",
       "      <td id=\"T_d11a4_row8_col1\" class=\"data row8 col1\" >-2.758188</td>\n",
       "      <td id=\"T_d11a4_row8_col2\" class=\"data row8 col2\" >-8.590937</td>\n",
       "      <td id=\"T_d11a4_row8_col3\" class=\"data row8 col3\" >4.843471</td>\n",
       "      <td id=\"T_d11a4_row8_col4\" class=\"data row8 col4\" >4.854573</td>\n",
       "      <td id=\"T_d11a4_row8_col5\" class=\"data row8 col5\" >5.844810</td>\n",
       "      <td id=\"T_d11a4_row8_col6\" class=\"data row8 col6\" >7.607599</td>\n",
       "      <td id=\"T_d11a4_row8_col7\" class=\"data row8 col7\" >73.804204</td>\n",
       "      <td id=\"T_d11a4_row8_col8\" class=\"data row8 col8\" >23.459216</td>\n",
       "      <td id=\"T_d11a4_row8_col9\" class=\"data row8 col9\" >23.566880</td>\n",
       "    </tr>\n",
       "    <tr>\n",
       "      <th id=\"T_d11a4_level0_row9\" class=\"row_heading level0 row9\" >2016-02-14 00:00:00</th>\n",
       "      <td id=\"T_d11a4_row9_col0\" class=\"data row9 col0\" >3.875238</td>\n",
       "      <td id=\"T_d11a4_row9_col1\" class=\"data row9 col1\" >-2.566564</td>\n",
       "      <td id=\"T_d11a4_row9_col2\" class=\"data row9 col2\" >-8.814896</td>\n",
       "      <td id=\"T_d11a4_row9_col3\" class=\"data row9 col3\" >4.451579</td>\n",
       "      <td id=\"T_d11a4_row9_col4\" class=\"data row9 col4\" >4.487439</td>\n",
       "      <td id=\"T_d11a4_row9_col5\" class=\"data row9 col5\" >15.017469</td>\n",
       "      <td id=\"T_d11a4_row9_col6\" class=\"data row9 col6\" >6.587251</td>\n",
       "      <td id=\"T_d11a4_row9_col7\" class=\"data row9 col7\" >77.702386</td>\n",
       "      <td id=\"T_d11a4_row9_col8\" class=\"data row9 col8\" >19.816559</td>\n",
       "      <td id=\"T_d11a4_row9_col9\" class=\"data row9 col9\" >20.137109</td>\n",
       "    </tr>\n",
       "    <tr>\n",
       "      <th id=\"T_d11a4_level0_row10\" class=\"row_heading level0 row10\" >2016-02-15 00:00:00</th>\n",
       "      <td id=\"T_d11a4_row10_col0\" class=\"data row10 col0\" >3.634155</td>\n",
       "      <td id=\"T_d11a4_row10_col1\" class=\"data row10 col1\" >-2.689822</td>\n",
       "      <td id=\"T_d11a4_row10_col2\" class=\"data row10 col2\" >-10.177327</td>\n",
       "      <td id=\"T_d11a4_row10_col3\" class=\"data row10 col3\" >3.264681</td>\n",
       "      <td id=\"T_d11a4_row10_col4\" class=\"data row10 col4\" >4.418371</td>\n",
       "      <td id=\"T_d11a4_row10_col5\" class=\"data row10 col5\" >13.207079</td>\n",
       "      <td id=\"T_d11a4_row10_col6\" class=\"data row10 col6\" >7.235143</td>\n",
       "      <td id=\"T_d11a4_row10_col7\" class=\"data row10 col7\" >103.577976</td>\n",
       "      <td id=\"T_d11a4_row10_col8\" class=\"data row10 col8\" >10.658142</td>\n",
       "      <td id=\"T_d11a4_row10_col9\" class=\"data row10 col9\" >19.522000</td>\n",
       "    </tr>\n",
       "    <tr>\n",
       "      <th id=\"T_d11a4_level0_row11\" class=\"row_heading level0 row11\" >2016-02-16 00:00:00</th>\n",
       "      <td id=\"T_d11a4_row11_col0\" class=\"data row11 col0\" >3.487841</td>\n",
       "      <td id=\"T_d11a4_row11_col1\" class=\"data row11 col1\" >-1.632725</td>\n",
       "      <td id=\"T_d11a4_row11_col2\" class=\"data row11 col2\" >-14.045824</td>\n",
       "      <td id=\"T_d11a4_row11_col3\" class=\"data row11 col3\" >2.716639</td>\n",
       "      <td id=\"T_d11a4_row11_col4\" class=\"data row11 col4\" >5.078813</td>\n",
       "      <td id=\"T_d11a4_row11_col5\" class=\"data row11 col5\" >12.165036</td>\n",
       "      <td id=\"T_d11a4_row11_col6\" class=\"data row11 col6\" >2.665792</td>\n",
       "      <td id=\"T_d11a4_row11_col7\" class=\"data row11 col7\" >197.285175</td>\n",
       "      <td id=\"T_d11a4_row11_col8\" class=\"data row11 col8\" >7.380125</td>\n",
       "      <td id=\"T_d11a4_row11_col9\" class=\"data row11 col9\" >25.794341</td>\n",
       "    </tr>\n",
       "    <tr>\n",
       "      <th id=\"T_d11a4_level0_row12\" class=\"row_heading level0 row12\" >2016-02-17 00:00:00</th>\n",
       "      <td id=\"T_d11a4_row12_col0\" class=\"data row12 col0\" >1.960151</td>\n",
       "      <td id=\"T_d11a4_row12_col1\" class=\"data row12 col1\" >-1.127251</td>\n",
       "      <td id=\"T_d11a4_row12_col2\" class=\"data row12 col2\" >-13.425551</td>\n",
       "      <td id=\"T_d11a4_row12_col3\" class=\"data row12 col3\" >3.430632</td>\n",
       "      <td id=\"T_d11a4_row12_col4\" class=\"data row12 col4\" >4.101906</td>\n",
       "      <td id=\"T_d11a4_row12_col5\" class=\"data row12 col5\" >3.842191</td>\n",
       "      <td id=\"T_d11a4_row12_col6\" class=\"data row12 col6\" >1.270696</td>\n",
       "      <td id=\"T_d11a4_row12_col7\" class=\"data row12 col7\" >180.245409</td>\n",
       "      <td id=\"T_d11a4_row12_col8\" class=\"data row12 col8\" >11.769234</td>\n",
       "      <td id=\"T_d11a4_row12_col9\" class=\"data row12 col9\" >16.825635</td>\n",
       "    </tr>\n",
       "    <tr>\n",
       "      <th id=\"T_d11a4_level0_row13\" class=\"row_heading level0 row13\" >2016-02-18 00:00:00</th>\n",
       "      <td id=\"T_d11a4_row13_col0\" class=\"data row13 col0\" >1.945392</td>\n",
       "      <td id=\"T_d11a4_row13_col1\" class=\"data row13 col1\" >-1.385785</td>\n",
       "      <td id=\"T_d11a4_row13_col2\" class=\"data row13 col2\" >-12.852749</td>\n",
       "      <td id=\"T_d11a4_row13_col3\" class=\"data row13 col3\" >5.162700</td>\n",
       "      <td id=\"T_d11a4_row13_col4\" class=\"data row13 col4\" >5.118260</td>\n",
       "      <td id=\"T_d11a4_row13_col5\" class=\"data row13 col5\" >3.784549</td>\n",
       "      <td id=\"T_d11a4_row13_col6\" class=\"data row13 col6\" >1.920399</td>\n",
       "      <td id=\"T_d11a4_row13_col7\" class=\"data row13 col7\" >165.193169</td>\n",
       "      <td id=\"T_d11a4_row13_col8\" class=\"data row13 col8\" >26.653467</td>\n",
       "      <td id=\"T_d11a4_row13_col9\" class=\"data row13 col9\" >26.196581</td>\n",
       "    </tr>\n",
       "    <tr>\n",
       "      <th id=\"T_d11a4_level0_row14\" class=\"row_heading level0 row14\" >2016-02-19 00:00:00</th>\n",
       "      <td id=\"T_d11a4_row14_col0\" class=\"data row14 col0\" >1.528136</td>\n",
       "      <td id=\"T_d11a4_row14_col1\" class=\"data row14 col1\" >-0.683246</td>\n",
       "      <td id=\"T_d11a4_row14_col2\" class=\"data row14 col2\" >-12.062437</td>\n",
       "      <td id=\"T_d11a4_row14_col3\" class=\"data row14 col3\" >4.989192</td>\n",
       "      <td id=\"T_d11a4_row14_col4\" class=\"data row14 col4\" >5.722246</td>\n",
       "      <td id=\"T_d11a4_row14_col5\" class=\"data row14 col5\" >2.335201</td>\n",
       "      <td id=\"T_d11a4_row14_col6\" class=\"data row14 col6\" >0.466826</td>\n",
       "      <td id=\"T_d11a4_row14_col7\" class=\"data row14 col7\" >145.502387</td>\n",
       "      <td id=\"T_d11a4_row14_col8\" class=\"data row14 col8\" >24.892037</td>\n",
       "      <td id=\"T_d11a4_row14_col9\" class=\"data row14 col9\" >32.744094</td>\n",
       "    </tr>\n",
       "    <tr>\n",
       "      <th id=\"T_d11a4_level0_row15\" class=\"row_heading level0 row15\" >2016-02-20 00:00:00</th>\n",
       "      <td id=\"T_d11a4_row15_col0\" class=\"data row15 col0\" >1.603549</td>\n",
       "      <td id=\"T_d11a4_row15_col1\" class=\"data row15 col1\" >-1.695058</td>\n",
       "      <td id=\"T_d11a4_row15_col2\" class=\"data row15 col2\" >-10.879921</td>\n",
       "      <td id=\"T_d11a4_row15_col3\" class=\"data row15 col3\" >4.507750</td>\n",
       "      <td id=\"T_d11a4_row15_col4\" class=\"data row15 col4\" >4.481668</td>\n",
       "      <td id=\"T_d11a4_row15_col5\" class=\"data row15 col5\" >2.571369</td>\n",
       "      <td id=\"T_d11a4_row15_col6\" class=\"data row15 col6\" >2.873222</td>\n",
       "      <td id=\"T_d11a4_row15_col7\" class=\"data row15 col7\" >118.372670</td>\n",
       "      <td id=\"T_d11a4_row15_col8\" class=\"data row15 col8\" >20.319809</td>\n",
       "      <td id=\"T_d11a4_row15_col9\" class=\"data row15 col9\" >20.085346</td>\n",
       "    </tr>\n",
       "    <tr>\n",
       "      <th id=\"T_d11a4_level0_row16\" class=\"row_heading level0 row16\" >2016-02-21 00:00:00</th>\n",
       "      <td id=\"T_d11a4_row16_col0\" class=\"data row16 col0\" >0.620386</td>\n",
       "      <td id=\"T_d11a4_row16_col1\" class=\"data row16 col1\" >-0.618555</td>\n",
       "      <td id=\"T_d11a4_row16_col2\" class=\"data row16 col2\" >-11.263064</td>\n",
       "      <td id=\"T_d11a4_row16_col3\" class=\"data row16 col3\" >6.101692</td>\n",
       "      <td id=\"T_d11a4_row16_col4\" class=\"data row16 col4\" >3.622698</td>\n",
       "      <td id=\"T_d11a4_row16_col5\" class=\"data row16 col5\" >0.384879</td>\n",
       "      <td id=\"T_d11a4_row16_col6\" class=\"data row16 col6\" >0.382610</td>\n",
       "      <td id=\"T_d11a4_row16_col7\" class=\"data row16 col7\" >126.856603</td>\n",
       "      <td id=\"T_d11a4_row16_col8\" class=\"data row16 col8\" >37.230642</td>\n",
       "      <td id=\"T_d11a4_row16_col9\" class=\"data row16 col9\" >13.123941</td>\n",
       "    </tr>\n",
       "    <tr>\n",
       "      <th id=\"T_d11a4_level0_row17\" class=\"row_heading level0 row17\" >2016-02-22 00:00:00</th>\n",
       "      <td id=\"T_d11a4_row17_col0\" class=\"data row17 col0\" >1.655493</td>\n",
       "      <td id=\"T_d11a4_row17_col1\" class=\"data row17 col1\" >0.477840</td>\n",
       "      <td id=\"T_d11a4_row17_col2\" class=\"data row17 col2\" >-10.906151</td>\n",
       "      <td id=\"T_d11a4_row17_col3\" class=\"data row17 col3\" >5.843184</td>\n",
       "      <td id=\"T_d11a4_row17_col4\" class=\"data row17 col4\" >2.681269</td>\n",
       "      <td id=\"T_d11a4_row17_col5\" class=\"data row17 col5\" >2.740657</td>\n",
       "      <td id=\"T_d11a4_row17_col6\" class=\"data row17 col6\" >0.228331</td>\n",
       "      <td id=\"T_d11a4_row17_col7\" class=\"data row17 col7\" >118.944134</td>\n",
       "      <td id=\"T_d11a4_row17_col8\" class=\"data row17 col8\" >34.142796</td>\n",
       "      <td id=\"T_d11a4_row17_col9\" class=\"data row17 col9\" >7.189201</td>\n",
       "    </tr>\n",
       "    <tr>\n",
       "      <th id=\"T_d11a4_level0_row18\" class=\"row_heading level0 row18\" >2016-02-23 00:00:00</th>\n",
       "      <td id=\"T_d11a4_row18_col0\" class=\"data row18 col0\" >-0.265192</td>\n",
       "      <td id=\"T_d11a4_row18_col1\" class=\"data row18 col1\" >1.359834</td>\n",
       "      <td id=\"T_d11a4_row18_col2\" class=\"data row18 col2\" >-11.057367</td>\n",
       "      <td id=\"T_d11a4_row18_col3\" class=\"data row18 col3\" >4.523953</td>\n",
       "      <td id=\"T_d11a4_row18_col4\" class=\"data row18 col4\" >2.362861</td>\n",
       "      <td id=\"T_d11a4_row18_col5\" class=\"data row18 col5\" >0.070327</td>\n",
       "      <td id=\"T_d11a4_row18_col6\" class=\"data row18 col6\" >1.849149</td>\n",
       "      <td id=\"T_d11a4_row18_col7\" class=\"data row18 col7\" >122.265361</td>\n",
       "      <td id=\"T_d11a4_row18_col8\" class=\"data row18 col8\" >20.466148</td>\n",
       "      <td id=\"T_d11a4_row18_col9\" class=\"data row18 col9\" >5.583112</td>\n",
       "    </tr>\n",
       "    <tr>\n",
       "      <th id=\"T_d11a4_level0_row19\" class=\"row_heading level0 row19\" >2016-02-24 00:00:00</th>\n",
       "      <td id=\"T_d11a4_row19_col0\" class=\"data row19 col0\" >-0.834827</td>\n",
       "      <td id=\"T_d11a4_row19_col1\" class=\"data row19 col1\" >1.673580</td>\n",
       "      <td id=\"T_d11a4_row19_col2\" class=\"data row19 col2\" >-11.080474</td>\n",
       "      <td id=\"T_d11a4_row19_col3\" class=\"data row19 col3\" >2.489935</td>\n",
       "      <td id=\"T_d11a4_row19_col4\" class=\"data row19 col4\" >1.480384</td>\n",
       "      <td id=\"T_d11a4_row19_col5\" class=\"data row19 col5\" >0.696936</td>\n",
       "      <td id=\"T_d11a4_row19_col6\" class=\"data row19 col6\" >2.800870</td>\n",
       "      <td id=\"T_d11a4_row19_col7\" class=\"data row19 col7\" >122.776901</td>\n",
       "      <td id=\"T_d11a4_row19_col8\" class=\"data row19 col8\" >6.199778</td>\n",
       "      <td id=\"T_d11a4_row19_col9\" class=\"data row19 col9\" >2.191538</td>\n",
       "    </tr>\n",
       "    <tr>\n",
       "      <th id=\"T_d11a4_level0_row20\" class=\"row_heading level0 row20\" >-1</th>\n",
       "      <td id=\"T_d11a4_row20_col0\" class=\"data row20 col0\" >2.127041</td>\n",
       "      <td id=\"T_d11a4_row20_col1\" class=\"data row20 col1\" >-1.509534</td>\n",
       "      <td id=\"T_d11a4_row20_col2\" class=\"data row20 col2\" >-9.346268</td>\n",
       "      <td id=\"T_d11a4_row20_col3\" class=\"data row20 col3\" >4.835146</td>\n",
       "      <td id=\"T_d11a4_row20_col4\" class=\"data row20 col4\" >3.714050</td>\n",
       "      <td id=\"T_d11a4_row20_col5\" class=\"data row20 col5\" >2.511902</td>\n",
       "      <td id=\"T_d11a4_row20_col6\" class=\"data row20 col6\" >2.069509</td>\n",
       "      <td id=\"T_d11a4_row20_col7\" class=\"data row20 col7\" >10.037672</td>\n",
       "      <td id=\"T_d11a4_row20_col8\" class=\"data row20 col8\" >5.105198</td>\n",
       "      <td id=\"T_d11a4_row20_col9\" class=\"data row20 col9\" >3.978857</td>\n",
       "    </tr>\n",
       "  </tbody>\n",
       "</table>\n"
      ],
      "text/plain": [
       "<pandas.io.formats.style.Styler at 0x7f7bd722f460>"
      ]
     },
     "execution_count": 35,
     "metadata": {},
     "output_type": "execute_result"
    }
   ],
   "source": [
    "# set colors for min, max. average values\n",
    "color_set = pd.DataFrame({\"Colors\":(\"MAX\", \"MIN\", \"AVERAGE\")})\n",
    "\n",
    "def highlight_fill(s):\n",
    "    colors =  ['background-color: #42E3B4',\n",
    "            'background-color: #0087CD',\n",
    "             'background-color: #FAED00']\n",
    "    return [colors[0] if i==0 else  colors[1] if i==1 else colors[2] for i in range(len(s))]\n",
    "\n",
    "\n",
    "color_set = color_set.style.apply(highlight_fill)\n",
    "display(color_set)\n",
    "\n",
    "# count accurancy values\n",
    "\n",
    "accurancy = pd.concat( (before-df.iloc[400:420],\n",
    "                       pow((before-df.iloc[400:420]),2)), axis=1) \n",
    "accurancy.columns = pd.MultiIndex.from_product([['ABS', 'SQR'], df.columns,],\n",
    "                                     names=['subject', 'type'])\n",
    "# adding a row\n",
    "accurancy.loc[-1] = [accurancy[a_s].mean() for a_s in accurancy.columns[:5].tolist()] +\\\n",
    "                    [np.sqrt(accurancy[a_s].sum()/(len(accurancy)-1)) for a_s in accurancy.columns[5:].tolist()]  \n",
    "\n",
    "def highlight_diff_max(s):\n",
    "    if max(abs(s))==max(s): \n",
    "        idx = s.tolist().index(max(abs(s)))\n",
    "    elif max(abs(s))!=max(s):\n",
    "        idx = s.tolist().index(max(s))\n",
    "    return ['background-color: #42E3B4' if i==idx else '' for i in range(len(s))]\n",
    "\n",
    "def highlight_diff_min(s):\n",
    "    if min(abs(s))==min(s): \n",
    "        idx = s.tolist().index(min(abs(s)))\n",
    "    elif min(abs(s))!=min(s):\n",
    "        idx = s.tolist().index(min(s))\n",
    "    return ['background-color: #0087CD' if i==idx else '' for i in range(len(s))]\n",
    "\n",
    "def highlight_last_row(s):\n",
    "    return ['background-color: #FAED00' if i==len(s)-1 else '' for i in range(len(s))]\n",
    "\n",
    "accurancy = accurancy.style.apply(highlight_last_row).apply(highlight_diff_max).apply(highlight_diff_min)\n",
    "accurancy\n"
   ]
  },
  {
   "cell_type": "markdown",
   "metadata": {},
   "source": [
    "### Красиво сохраняем..."
   ]
  },
  {
   "cell_type": "code",
   "execution_count": 36,
   "metadata": {},
   "outputs": [
    {
     "data": {
      "text/plain": [
       "pandas.io.formats.style.Styler"
      ]
     },
     "execution_count": 36,
     "metadata": {},
     "output_type": "execute_result"
    }
   ],
   "source": [
    "type(accurancy)"
   ]
  },
  {
   "cell_type": "code",
   "execution_count": 37,
   "metadata": {},
   "outputs": [],
   "source": [
    "accurancy.to_excel(\"accurancy.xlsx\") # xlsx only !!!!!!!!"
   ]
  },
  {
   "cell_type": "code",
   "execution_count": null,
   "metadata": {},
   "outputs": [],
   "source": []
  }
 ],
 "metadata": {
  "kernelspec": {
   "display_name": "Python 3 (ipykernel)",
   "language": "python",
   "name": "python3"
  },
  "language_info": {
   "codemirror_mode": {
    "name": "ipython",
    "version": 3
   },
   "file_extension": ".py",
   "mimetype": "text/x-python",
   "name": "python",
   "nbconvert_exporter": "python",
   "pygments_lexer": "ipython3",
   "version": "3.9.12"
  }
 },
 "nbformat": 4,
 "nbformat_minor": 4
}
