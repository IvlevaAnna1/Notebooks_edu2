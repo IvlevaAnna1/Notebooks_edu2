{
 "cells": [
  {
   "cell_type": "markdown",
   "metadata": {
    "id": "pLTUNG4IDm2R"
   },
   "source": [
    "# Занятие 12"
   ]
  },
  {
   "cell_type": "code",
   "execution_count": 1,
   "metadata": {
    "id": "-bcV0a2zDLtb"
   },
   "outputs": [],
   "source": [
    "import pandas as pd\n",
    "import numpy as np\n",
    "import matplotlib.pyplot as plt\n",
    "import scipy.stats as sts\n",
    "%matplotlib inline"
   ]
  },
  {
   "cell_type": "markdown",
   "metadata": {
    "id": "m6IF_67zDqCi"
   },
   "source": [
    "## Оценка распределений"
   ]
  },
  {
   "cell_type": "markdown",
   "metadata": {
    "id": "axbYHglJDtqG"
   },
   "source": [
    "### Дискретное"
   ]
  },
  {
   "cell_type": "code",
   "execution_count": 2,
   "metadata": {
    "colab": {
     "base_uri": "https://localhost:8080/"
    },
    "id": "-2fAgE4xDL7Z",
    "outputId": "45ee12ca-734c-41fa-9c79-f9f2ea38adb3"
   },
   "outputs": [
    {
     "data": {
      "text/plain": [
       "array([3, 3, 3, ..., 2, 2, 3])"
      ]
     },
     "execution_count": 2,
     "metadata": {},
     "output_type": "execute_result"
    }
   ],
   "source": [
    "N = 10000\n",
    "sample = np.random.choice([1,2,3,4,5,6], N)\n",
    "sample"
   ]
  },
  {
   "cell_type": "code",
   "execution_count": 3,
   "metadata": {
    "colab": {
     "base_uri": "https://localhost:8080/"
    },
    "id": "WimoFRQKD1sB",
    "outputId": "c506e3ca-002e-4731-b776-4e1ccf172b76"
   },
   "outputs": [
    {
     "name": "stdout",
     "output_type": "stream",
     "text": [
      "[1728 1664 1656 1612 1637 1703]\n",
      "[0.1728 0.1664 0.1656 0.1612 0.1637 0.1703]\n",
      "[1 2 3 4 5 6]\n",
      "1.0\n"
     ]
    }
   ],
   "source": [
    "# оценим функцию вероятности частотами\n",
    "unique_value, counts = np.unique(sample, return_counts=True)\n",
    "\n",
    "print(counts)\n",
    "print(counts / N)\n",
    "print(unique_value)\n",
    "print (np.sum(counts / N))"
   ]
  },
  {
   "cell_type": "code",
   "execution_count": 5,
   "metadata": {
    "colab": {
     "base_uri": "https://localhost:8080/"
    },
    "id": "RLyrVaq8jsQ7",
    "outputId": "94b52b5a-a239-4b2c-8001-b9e4b940e6eb"
   },
   "outputs": [
    {
     "name": "stdout",
     "output_type": "stream",
     "text": [
      "[1 2 3 4 5 6]\n",
      "10: [0.2 0.2 0.1 0.1 0.3 0.1] 0.9999999999999999\n",
      "[1 2 3 4 5 6]\n",
      "100: [0.23 0.18 0.2  0.12 0.11 0.16] 1.0\n",
      "[1 2 3 4 5 6]\n",
      "1000: [0.17  0.169 0.155 0.185 0.147 0.174] 1.0\n",
      "[1 2 3 4 5 6]\n",
      "10000: [0.1631 0.1628 0.1635 0.1661 0.176  0.1685] 0.9999999999999999\n",
      "[1 2 3 4 5 6]\n",
      "100000: [0.16559 0.16823 0.16647 0.16717 0.16698 0.16556] 1.0\n"
     ]
    }
   ],
   "source": [
    "for N in [10, 100, 1000, 10000, 100000]:\n",
    "    sample = np.random.choice([1,2,3,4,5,6], N)\n",
    "    unique_value, counts = np.unique(sample, return_counts=True)\n",
    "    print(unique_value)\n",
    "    print(\"{}: {} {}\".format(N, counts/N, np.sum(counts/N)))"
   ]
  },
  {
   "cell_type": "code",
   "execution_count": 6,
   "metadata": {
    "colab": {
     "base_uri": "https://localhost:8080/"
    },
    "id": "IDRfewmokN09",
    "outputId": "a2d050cf-ece8-4a75-e2ef-4885ba19938f"
   },
   "outputs": [
    {
     "data": {
      "text/plain": [
       "0.16666666666666666"
      ]
     },
     "execution_count": 6,
     "metadata": {},
     "output_type": "execute_result"
    }
   ],
   "source": [
    "1/6"
   ]
  },
  {
   "cell_type": "markdown",
   "metadata": {
    "id": "FTC7rHEYDvmz"
   },
   "source": [
    "### Непрерывное"
   ]
  },
  {
   "cell_type": "code",
   "execution_count": 21,
   "metadata": {
    "id": "k4pQRYwjDLnz"
   },
   "outputs": [],
   "source": [
    "# возьмём выборку из нормального распределения\n",
    "norm_rv = sts.norm(0, 1)\n",
    "sample = norm_rv.rvs(100)\n",
    "#sample"
   ]
  },
  {
   "cell_type": "code",
   "execution_count": 22,
   "metadata": {
    "colab": {
     "base_uri": "https://localhost:8080/",
     "height": 316
    },
    "id": "aF6nrO0lEbYB",
    "outputId": "bbc3d760-7b46-4074-ef0f-6ede2278a237"
   },
   "outputs": [
    {
     "data": {
      "text/plain": [
       "[<matplotlib.lines.Line2D at 0x7fc5663c8f90>]"
      ]
     },
     "execution_count": 22,
     "metadata": {},
     "output_type": "execute_result"
    },
    {
     "data": {
      "image/png": "[encoded data removed]",
      "text/plain": [
       "<Figure size 432x288 with 1 Axes>"
      ]
     },
     "metadata": {
      "needs_background": "light"
     },
     "output_type": "display_data"
    }
   ],
   "source": [
    "x = np.linspace(-4,4,100)\n",
    "cdf = norm_rv.cdf(x)\n",
    "plt.plot(x, cdf, label='Теоретическая функция распределения')\n",
    "\n",
    "# Воспользуемся библиотекой для оценки (спасибо питон!)\n",
    "from statsmodels.distributions.empirical_distribution import ECDF\n",
    "ecdf = ECDF(sample)\n",
    "plt.step(ecdf.x, ecdf.y, label='Оценка функции распределения')\n"
   ]
  },
  {
   "cell_type": "code",
   "execution_count": 18,
   "metadata": {
    "colab": {
     "base_uri": "https://localhost:8080/",
     "height": 282
    },
    "id": "OdIcVbG_E_1k",
    "outputId": "3187a035-9b4a-4080-95c0-b49a7fb77548"
   },
   "outputs": [
    {
     "name": "stdout",
     "output_type": "stream",
     "text": [
      "[ 3.  1.  7.  9. 12. 18. 20. 11. 14.  0.  2.  3.]\n"
     ]
    },
    {
     "data": {
      "image/png": "[encoded data removed]",
      "text/plain": [
       "<Figure size 432x288 with 1 Axes>"
      ]
     },
     "metadata": {
      "needs_background": "light"
     },
     "output_type": "display_data"
    }
   ],
   "source": [
    "# теперь посмотрим на функцию плотности\n",
    "b, n, _ = plt.hist(sample, )\n",
    "print(b)"
   ]
  },
  {
   "cell_type": "code",
   "execution_count": 19,
   "metadata": {
    "colab": {
     "base_uri": "https://localhost:8080/"
    },
    "id": "wlutQ9DTevwQ",
    "outputId": "9db02c3f-5b9f-4429-c408-a46491b2e6ad"
   },
   "outputs": [
    {
     "data": {
      "text/plain": [
       "13"
      ]
     },
     "execution_count": 19,
     "metadata": {},
     "output_type": "execute_result"
    }
   ],
   "source": [
    "len(n)"
   ]
  },
  {
   "cell_type": "code",
   "execution_count": 23,
   "metadata": {
    "colab": {
     "base_uri": "https://localhost:8080/",
     "height": 282
    },
    "id": "DYFrqDsqFQrO",
    "outputId": "78b1f110-235c-4af9-806e-b2ddbeea3184"
   },
   "outputs": [
    {
     "data": {
      "text/plain": [
       "<matplotlib.legend.Legend at 0x7fc56656c9d0>"
      ]
     },
     "execution_count": 23,
     "metadata": {},
     "output_type": "execute_result"
    },
    {
     "data": {
      "image/png": "[encoded data removed]",
      "text/plain": [
       "<Figure size 432x288 with 1 Axes>"
      ]
     },
     "metadata": {
      "needs_background": "light"
     },
     "output_type": "display_data"
    }
   ],
   "source": [
    "# ядерное сглаживание\n",
    "# можно сделать в pandas\n",
    "df = pd.DataFrame(sample, columns=['KDE'])\n",
    "ax = df.plot(kind='density')\n",
    "\n",
    "# строим теоретическую плотность\n",
    "x = np.linspace(-4,4,100)\n",
    "pdf = norm_rv.pdf(x)\n",
    "plt.plot(x, pdf, label='теоретическая плотность', alpha=0.5)\n",
    "plt.legend()"
   ]
  },
  {
   "cell_type": "markdown",
   "metadata": {
    "id": "VOFaXjx4PnqZ"
   },
   "source": [
    "### Предсказательный интервал\n",
    "Имеем $X \\sim N(\\mu, \\sigma^2)$. Согласно правилу [2-х сигм](https://ru.wikipedia.org/wiki/%D0%A1%D1%80%D0%B5%D0%B4%D0%BD%D0%B5%D0%BA%D0%B2%D0%B0%D0%B4%D1%80%D0%B0%D1%82%D0%B8%D1%87%D0%B5%D1%81%D0%BA%D0%BE%D0%B5_%D0%BE%D1%82%D0%BA%D0%BB%D0%BE%D0%BD%D0%B5%D0%BD%D0%B8%D0%B5#%D0%9F%D1%80%D0%B0%D0%B2%D0%B8%D0%BB%D0%BE_%D1%82%D1%80%D1%91%D1%85_%D1%81%D0%B8%D0%B3%D0%BC) имеем $$\\mathbf{P}(\\mu - 2 \\sigma \\leq X \\leq \\mu + 2 \\sigma) \\approx 0.95$$\n",
    "\n",
    "\n",
    "\n",
    "Если мы применим данное правило к стандартному нормальному распределению $X \\sim N(0,1)$, то получим\n",
    "$$\\mathbf{P}(0 - 2 \\cdot 1 \\leq X \\leq 0 + 2 \\cdot 1) \\approx 0.95$$\n",
    "\n",
    "Проиллюстрируем это визуально"
   ]
  },
  {
   "cell_type": "code",
   "execution_count": 24,
   "metadata": {
    "colab": {
     "base_uri": "https://localhost:8080/"
    },
    "id": "gmMy5mFYQJ13",
    "outputId": "1f7f1883-f94a-4d56-8173-8a029b4b675d"
   },
   "outputs": [
    {
     "data": {
      "text/plain": [
       "array([-8.71153251e-01,  5.08008659e-01,  1.04457140e+00, -8.46267731e-01,\n",
       "       -1.36215827e+00,  6.06681521e-02,  1.03971230e-02,  1.42659371e+00,\n",
       "        2.97285462e-01,  1.38562627e+00,  3.60877619e-03, -5.58728247e-01,\n",
       "       -1.47259688e+00,  1.22831380e-01,  1.37477136e+00,  4.87882222e-01,\n",
       "        1.16295298e+00,  1.22316465e+00,  1.11352025e+00,  1.58322386e+00,\n",
       "       -4.65976905e-01, -3.67630364e-01, -4.62554250e-01,  1.05395833e+00,\n",
       "        2.00341734e+00,  6.14825249e-01,  4.09119574e-01,  1.07060832e+00,\n",
       "        8.25495724e-01,  6.61985578e-01, -6.16665684e-01,  3.63448621e-01,\n",
       "       -2.03561810e-03, -1.00445242e-01,  1.27319813e-01,  1.24999582e+00,\n",
       "       -7.03208885e-01,  1.28551170e+00,  1.59027441e+00,  1.33859736e-01,\n",
       "        1.70347322e-01, -8.61145993e-01,  2.03024051e+00, -3.71259009e-01,\n",
       "        2.66507581e+00, -5.25879063e-01, -7.55443751e-01, -3.20170869e-01,\n",
       "        6.58752352e-01, -7.34381266e-01,  1.08938588e+00, -8.11492673e-01,\n",
       "        4.88438831e-02,  7.45778968e-01, -6.05889491e-01,  4.70075884e-01,\n",
       "        8.37327435e-01,  1.46569856e-01, -2.16468129e-02, -1.96142977e+00,\n",
       "        4.48964385e-01, -9.35548960e-01, -8.04918886e-01,  2.38711856e-01,\n",
       "       -8.88254862e-01,  3.61408171e-01,  1.49569756e-02,  2.22401450e-01,\n",
       "       -1.12146654e+00, -2.18691037e-01, -9.37508259e-01,  3.76083727e-01,\n",
       "        3.56816958e-01, -2.34026030e-01,  4.19777442e-01, -7.58682157e-02,\n",
       "       -8.80936227e-01, -3.68648531e-01, -4.70540179e-02, -1.58663795e+00,\n",
       "        1.48418632e+00,  8.30947669e-01,  1.23005086e+00, -1.29909852e+00,\n",
       "       -1.50516293e-02, -3.08334720e-01,  7.49375593e-02, -1.32536668e+00,\n",
       "       -9.79682153e-01, -1.33038078e+00, -1.07455819e+00,  8.77563422e-01,\n",
       "        1.07772282e-01,  7.67259119e-01, -2.54854302e-01,  6.04312843e-01,\n",
       "        5.50236437e-01, -3.47503888e-01, -2.97784918e-01, -1.62678324e-02])"
      ]
     },
     "execution_count": 24,
     "metadata": {},
     "output_type": "execute_result"
    }
   ],
   "source": [
    "# возьмём выборку из стандартного нормального распределения\n",
    "norm_rv = sts.norm(0, 1)\n",
    "sample = norm_rv.rvs(100)\n",
    "sample"
   ]
  },
  {
   "cell_type": "code",
   "execution_count": 25,
   "metadata": {
    "colab": {
     "base_uri": "https://localhost:8080/",
     "height": 282
    },
    "id": "9UHr_jUQQ5ym",
    "outputId": "1e3ec0c4-9b14-42ac-9727-b65e6d23c2a5"
   },
   "outputs": [
    {
     "data": {
      "text/plain": [
       "<matplotlib.collections.PolyCollection at 0x7fc56603e210>"
      ]
     },
     "execution_count": 25,
     "metadata": {},
     "output_type": "execute_result"
    },
    {
     "data": {
      "image/png": "[encoded data removed]",
      "text/plain": [
       "<Figure size 432x288 with 1 Axes>"
      ]
     },
     "metadata": {
      "needs_background": "light"
     },
     "output_type": "display_data"
    }
   ],
   "source": [
    "x = np.linspace(-5,5,10000)\n",
    "pdf = norm_rv.pdf(x)\n",
    "plt.plot(x, pdf, label='теоретическая плотность', alpha=0.5)\n",
    "to_fill = np.linspace(-1.96, 1.96, 100)\n",
    "plt.fill_between(to_fill, norm_rv.pdf(to_fill), alpha=0.5, color='green')"
   ]
  },
  {
   "cell_type": "code",
   "execution_count": 28,
   "metadata": {
    "colab": {
     "base_uri": "https://localhost:8080/"
    },
    "id": "9q0058LcsFKz",
    "outputId": "01127550-2619-4228-8225-b9c51dc361c6"
   },
   "outputs": [
    {
     "data": {
      "text/plain": [
       "0.058440944333451476"
      ]
     },
     "execution_count": 28,
     "metadata": {},
     "output_type": "execute_result"
    }
   ],
   "source": [
    "norm_rv.pdf(-1.96)"
   ]
  },
  {
   "cell_type": "markdown",
   "metadata": {
    "id": "FyryheNiUpkq"
   },
   "source": [
    "Оценка эта неточная, и не всегда нам нужно именно 0.95 вероятностной массы. \n",
    "\n",
    "В общем случае работают с квантилями"
   ]
  },
  {
   "cell_type": "code",
   "execution_count": 29,
   "metadata": {
    "colab": {
     "base_uri": "https://localhost:8080/"
    },
    "id": "6BVgAyBYVAba",
    "outputId": "6bf3c9df-1b9d-4ff1-fbd8-843e9bc8e238"
   },
   "outputs": [
    {
     "data": {
      "text/plain": [
       "0.0"
      ]
     },
     "execution_count": 29,
     "metadata": {},
     "output_type": "execute_result"
    }
   ],
   "source": [
    "norm_rv.ppf(0.5)"
   ]
  },
  {
   "cell_type": "code",
   "execution_count": 30,
   "metadata": {
    "colab": {
     "base_uri": "https://localhost:8080/",
     "height": 282
    },
    "id": "7lDzZnecU0AA",
    "outputId": "84be47d9-723a-49fc-cc4f-90877781eeb6"
   },
   "outputs": [
    {
     "data": {
      "text/plain": [
       "<matplotlib.collections.PolyCollection at 0x7fc565e65410>"
      ]
     },
     "execution_count": 30,
     "metadata": {},
     "output_type": "execute_result"
    },
    {
     "data": {
      "image/png": "[encoded data removed]",
      "text/plain": [
       "<Figure size 432x288 with 1 Axes>"
      ]
     },
     "metadata": {
      "needs_background": "light"
     },
     "output_type": "display_data"
    }
   ],
   "source": [
    "alpha = 0.05\n",
    "pdf = norm_rv.pdf(x)\n",
    "plt.plot(x, pdf, label='теоретическая плотность', alpha=0.5)\n",
    "q_a = norm_rv.ppf(alpha/2)\n",
    "q_b = norm_rv.ppf(1-alpha/2)\n",
    "to_fill = np.linspace(q_a, q_b, 100)\n",
    "plt.fill_between(to_fill, norm_rv.pdf(to_fill), alpha=0.5, color='green')"
   ]
  },
  {
   "cell_type": "markdown",
   "metadata": {
    "id": "e1ffy4vDV2TW"
   },
   "source": [
    "Теперь, если мы хотим найти такой интервал в котором с вероятностью 95% окажется реализация нашей случайной величины, нам лишь нужно найти соответствующие квантили $X_{\\frac{\\alpha}{2}}$ и $X_{1-\\frac{\\alpha}{2}}$."
   ]
  },
  {
   "cell_type": "markdown",
   "metadata": {
    "id": "cs5LfPUKW_8y"
   },
   "source": [
    "Такой интервал можем найти для произвольно распределенной случайной величины\n",
    "\n",
    "В частности, для нормально распределенной случайной величины\n",
    "$$\\mathbf{P}(\\mu - \\zeta_{1-\\frac{\\alpha}{2}} \\sigma \\leq X \\leq \\mu + \\zeta_{1-\\frac{\\alpha}{2}} \\sigma) = 1-\\alpha$$\n",
    "\n",
    "$\\zeta_{\\alpha}$ будем обозначать квантиль порядка $\\alpha$ стандартного нормального распределения (то-есть распределения $N(0,1)$). Тут мы воспользовались тем, что $\\zeta_{\\frac{\\alpha}{2}} = - \\zeta_{1-\\frac{\\alpha}{2}}$\n",
    "\n",
    "$ \\zeta_{0.975} \\approx 1.95996 \\approx 2$\n",
    "\n"
   ]
  },
  {
   "cell_type": "markdown",
   "metadata": {
    "id": "vAH-RrbsaHUU"
   },
   "source": [
    "**Предсказательный интервал оценивает диапазон значений**"
   ]
  },
  {
   "cell_type": "markdown",
   "metadata": {
    "id": "e1BULYLpPq5R"
   },
   "source": [
    "### Доверительный интервал\n",
    "Точечные оценки параметров это уже что-то, но также представляет интерес и то, в каком диапазоне изменяются оцениваемые параметры, например, средние значения.\n",
    "\n",
    "Отвечают на вопрос **в каком диапазоне скорее всего лежит оцениваемый параметр**\n",
    "\n"
   ]
  },
  {
   "cell_type": "markdown",
   "metadata": {
    "id": "OLQI3Rpqboj6"
   },
   "source": [
    "Например, снова возьмем выборку из нормального распределения $X^n = (X_1, \\dotso, X_n),\\ X \\sim \\mathbf{N}(\\mu, \\sigma^2)$\n",
    "\n",
    "Пусть нам известна дисперсия, т.е $\\sigma^2$. Тогда по [свойствам](http://www.machinelearning.ru/wiki/index.php?title=%D0%9D%D0%BE%D1%80%D0%BC%D0%B0%D0%BB%D1%8C%D0%BD%D0%BE%D0%B5_%D1%80%D0%B0%D1%81%D0%BF%D1%80%D0%B5%D0%B4%D0%B5%D0%BB%D0%B5%D0%BD%D0%B8%D0%B5) нормального распределения получаем $\\sum_{i=1}^{n} X_i \\sim \\mathbf{N}(n\\mu, n\\sigma^2) \\rightarrow \\frac{\\sum_{i=1}^{n} X_i}{n} = \\overline{X_n} \\sim \\mathbf{N}(\\mu, \\frac{\\sigma^2}{n})$\n",
    "\n",
    "По формуле для предсказательного интервала получаем $$\\mathbf{P}(\\mu - \\zeta_{1-\\frac{\\alpha}{2}} \\frac{\\sigma}{\\sqrt{n}} \\leq \\overline{X_n} \\leq \\mu + \\zeta_{1-\\frac{\\alpha}{2}} \\frac{\\sigma}{\\sqrt{n}}) = 1-\\alpha$$\n",
    "\n",
    "Теперь, переносим $\\overline{X_n}$ и $\\mu$ в неравенствах, и получаем доверительный интервал для $\\mu$\n",
    "\n",
    "$$\\mathbf{P}(\\overline{X_n} - \\zeta_{1-\\frac{\\alpha}{2}} \\frac{\\sigma}{\\sqrt{n}} \\leq \\mu \\leq \\overline{X_n} + \\zeta_{1-\\frac{\\alpha}{2}} \\frac{\\sigma}{\\sqrt{n}}) = 1-\\alpha$$"
   ]
  },
  {
   "cell_type": "code",
   "execution_count": 32,
   "metadata": {
    "colab": {
     "base_uri": "https://localhost:8080/"
    },
    "id": "5wbYENCRsZXM",
    "outputId": "45a4ced4-06f2-4dae-fdfa-71c9ac60c1df"
   },
   "outputs": [
    {
     "name": "stdout",
     "output_type": "stream",
     "text": [
      "Для N=10 ДИ 4.2963 ... 4.3738\n",
      "Для N=50 ДИ 4.8610 ... 4.8956\n",
      "Для N=100 ДИ 4.9277 ... 4.9522\n",
      "Для N=100000 ДИ 4.9996 ... 5.0003\n"
     ]
    }
   ],
   "source": [
    "# Задание, \n",
    "# 1) сгенерируйте 10, 50, 100 примеров из нормального распределения с произвольными мат ожиданием и дисперсией\n",
    "# 2) Постройте по формуле интервал с alpha = 0.05\n",
    "# ваш код тут\n",
    "mu = 5\n",
    "sigma = 7\n",
    "norm_rv = sts.norm(mu, sigma)\n",
    "N = [10, 50, 100, 100000]\n",
    "alpha = .05\n",
    "for n in N:\n",
    "    samples = np.linspace(-1, 11, n)\n",
    "    pdf = norm_rv.pdf(samples)\n",
    "    qa = norm_rv.pdf(alpha/2)\n",
    "    qb = norm_rv.pdf(1-alpha/2)\n",
    "    print (\"Для N=%.f ДИ %.4f ... %.4f\" % (n, samples[np.argmax(pdf)]-qa*np.sqrt(sigma/n), samples[np.argmax(pdf)]+qb*np.sqrt(sigma/n)))"
   ]
  },
  {
   "cell_type": "markdown",
   "metadata": {
    "id": "iOIhq23ksa_x"
   },
   "source": [
    "Случай известной дисперсии как правило встречается для измерительных приборов, когда нам известная его погрешность.\n",
    "\n",
    "Есть метод, позволяющий построить доверительный интервал и для такого случая. Разница будет лишь в том, что вместо выборочной дисперсии будет взята выборочная дисперсия, а вместо квантилей стандартного нормального распределения используют квантили распределения Стьюдента (согласно которой распределена так называемая t-статистика)"
   ]
  },
  {
   "cell_type": "markdown",
   "metadata": {
    "id": "OmAyt9Q1bzh5"
   },
   "source": [
    "Но что делать, если распределение отлично от нормального или это доподлино неизвестно?\n",
    "\n",
    "\n",
    "К счастью...\n"
   ]
  },
  {
   "cell_type": "markdown",
   "metadata": {
    "id": "LOh4CdTWF3vs"
   },
   "source": [
    "## Центральная предельная теорема"
   ]
  },
  {
   "cell_type": "code",
   "execution_count": 33,
   "metadata": {
    "colab": {
     "base_uri": "https://localhost:8080/"
    },
    "id": "_HWg2Ul-F7jk",
    "outputId": "057636cc-873f-4d68-f158-9a0071be6ac5"
   },
   "outputs": [
    {
     "data": {
      "text/plain": [
       "array([2.40735847, 1.29951185, 1.48811949, 2.29418411, 2.8258891 ,\n",
       "       3.21070101, 3.27678197, 3.68804935, 3.10597096, 1.28026916])"
      ]
     },
     "execution_count": 33,
     "metadata": {},
     "output_type": "execute_result"
    }
   ],
   "source": [
    "a = 1\n",
    "b = 4\n",
    "\n",
    "# обратите внимание, что в этой функции задается левая граница и масштаб, а не левая и правая границы:\n",
    "uniform_rv = sts.uniform(a, b-a)\n",
    "\n",
    "uniform_rv.rvs(10)"
   ]
  },
  {
   "cell_type": "code",
   "execution_count": 34,
   "metadata": {
    "id": "pvuyXniYGMeE"
   },
   "outputs": [],
   "source": [
    "N = 100\n",
    "# сгенерируем много выборочных средних\n",
    "means = []\n",
    "for i in range(10000):\n",
    "    means.append(np.mean(uniform_rv.rvs(N)))"
   ]
  },
  {
   "cell_type": "code",
   "execution_count": 35,
   "metadata": {
    "colab": {
     "base_uri": "https://localhost:8080/",
     "height": 726
    },
    "id": "aU_S5A5VqnpL",
    "outputId": "8a8e7d78-7f4e-4c5c-9610-5a18639033f9"
   },
   "outputs": [
    {
     "data": {
      "text/plain": [
       "(array([0.00931135, 0.        , 0.        , 0.        , 0.        ,\n",
       "        0.02793406, 0.01862271, 0.01862271, 0.02793406, 0.04655677,\n",
       "        0.08380218, 0.158293  , 0.12104759, 0.28865195, 0.17691571,\n",
       "        0.36314277, 0.41901089, 0.72628555, 0.81008773, 1.05218291,\n",
       "        1.28496674, 1.48050516, 1.82502522, 2.10436582, 2.38370642,\n",
       "        2.67235836, 2.90514219, 3.65005045, 3.5196915 , 3.96663646,\n",
       "        4.25528841, 4.52531765, 4.34840194, 4.42289276, 4.50669494,\n",
       "        4.32977923, 4.30184517, 4.32977923, 4.17148623, 3.43588933,\n",
       "        3.10068061, 3.04481249, 2.55131077, 2.27197018, 1.91813876,\n",
       "        1.79709117, 1.23840997, 0.89388991, 0.82871043, 0.65179472,\n",
       "        0.53074713, 0.50281307, 0.30727466, 0.22347248, 0.13035894,\n",
       "        0.14898165, 0.05586812, 0.06517947, 0.03724541, 0.02793406,\n",
       "        0.01862271]),\n",
       " array([2.13848453, 2.14922411, 2.15996368, 2.17070326, 2.18144284,\n",
       "        2.19218242, 2.20292199, 2.21366157, 2.22440115, 2.23514073,\n",
       "        2.2458803 , 2.25661988, 2.26735946, 2.27809904, 2.28883861,\n",
       "        2.29957819, 2.31031777, 2.32105735, 2.33179692, 2.3425365 ,\n",
       "        2.35327608, 2.36401566, 2.37475523, 2.38549481, 2.39623439,\n",
       "        2.40697397, 2.41771355, 2.42845312, 2.4391927 , 2.44993228,\n",
       "        2.46067186, 2.47141143, 2.48215101, 2.49289059, 2.50363017,\n",
       "        2.51436974, 2.52510932, 2.5358489 , 2.54658848, 2.55732805,\n",
       "        2.56806763, 2.57880721, 2.58954679, 2.60028636, 2.61102594,\n",
       "        2.62176552, 2.6325051 , 2.64324467, 2.65398425, 2.66472383,\n",
       "        2.67546341, 2.68620298, 2.69694256, 2.70768214, 2.71842172,\n",
       "        2.7291613 , 2.73990087, 2.75064045, 2.76138003, 2.77211961,\n",
       "        2.78285918, 2.79359876]),\n",
       " <a list of 61 Patch objects>)"
      ]
     },
     "execution_count": 35,
     "metadata": {},
     "output_type": "execute_result"
    },
    {
     "data": {
      "image/png": "[encoded data removed]",
      "text/plain": [
       "<Figure size 432x288 with 1 Axes>"
      ]
     },
     "metadata": {
      "needs_background": "light"
     },
     "output_type": "display_data"
    }
   ],
   "source": [
    "plt.hist(means, density=True, bins='auto')"
   ]
  },
  {
   "cell_type": "code",
   "execution_count": 37,
   "metadata": {
    "colab": {
     "base_uri": "https://localhost:8080/",
     "height": 537
    },
    "id": "cj7esASVr_ok",
    "outputId": "bdd73248-603b-4d80-9924-2fd5f84ed6ba"
   },
   "outputs": [
    {
     "data": {
      "image/png": "[encoded data removed]",
      "text/plain": [
       "<Figure size 1152x648 with 1 Axes>"
      ]
     },
     "metadata": {
      "needs_background": "light"
     },
     "output_type": "display_data"
    }
   ],
   "source": [
    "plt.figure(figsize=(16,9))\n",
    "# сгенерируем много выборочных средних\n",
    "for N in [10, 100, 1000, 10000]:\n",
    "    means = []\n",
    "    for i in range(1000):\n",
    "         means.append(np.mean(uniform_rv.rvs(N)))\n",
    "    plt.hist(means, alpha=0.5)\n",
    "\n",
    "plt.legend(['10', '100', '1000', '10000'])\n",
    "plt.show()"
   ]
  },
  {
   "cell_type": "code",
   "execution_count": null,
   "metadata": {
    "id": "Cz3Dp2SEy1L_"
   },
   "outputs": [],
   "source": []
  },
  {
   "cell_type": "code",
   "execution_count": 38,
   "metadata": {
    "id": "rfCJy33ZUYoy"
   },
   "outputs": [],
   "source": [
    "N = 30\n",
    "# сгенерируем много выборочных средних\n",
    "means = []\n",
    "for i in range(1000):\n",
    "    means.append(np.mean(uniform_rv.rvs(N)))\n",
    "\n",
    "means = np.array(means).astype(np.float32)"
   ]
  },
  {
   "cell_type": "code",
   "execution_count": 39,
   "metadata": {
    "colab": {
     "base_uri": "https://localhost:8080/"
    },
    "id": "Z4NWkc2QUYmA",
    "outputId": "480f76f4-4e2e-46cb-b4f5-e704b0d3e9c9"
   },
   "outputs": [
    {
     "data": {
      "text/plain": [
       "2.5"
      ]
     },
     "execution_count": 39,
     "metadata": {},
     "output_type": "execute_result"
    }
   ],
   "source": [
    "uniform_rv.mean()"
   ]
  },
  {
   "cell_type": "code",
   "execution_count": 40,
   "metadata": {
    "colab": {
     "base_uri": "https://localhost:8080/"
    },
    "id": "pxwM0gmUAwnP",
    "outputId": "0077225a-9e9d-41b2-cc20-44e2d1c6534a"
   },
   "outputs": [
    {
     "data": {
      "text/plain": [
       "0.75"
      ]
     },
     "execution_count": 40,
     "metadata": {},
     "output_type": "execute_result"
    }
   ],
   "source": [
    "uniform_rv.var()"
   ]
  },
  {
   "cell_type": "code",
   "execution_count": 41,
   "metadata": {
    "colab": {
     "base_uri": "https://localhost:8080/"
    },
    "id": "oeJqs2HAUx_V",
    "outputId": "5282eae5-3883-421c-9753-3e54cf8a3e2d"
   },
   "outputs": [
    {
     "data": {
      "text/plain": [
       "0.8660254037844386"
      ]
     },
     "execution_count": 41,
     "metadata": {},
     "output_type": "execute_result"
    }
   ],
   "source": [
    "uniform_rv.std()"
   ]
  },
  {
   "cell_type": "code",
   "execution_count": 42,
   "metadata": {
    "colab": {
     "base_uri": "https://localhost:8080/",
     "height": 283
    },
    "id": "ebIBQt20Uoq9",
    "outputId": "028fc9cb-aecc-4636-f970-21c450621274"
   },
   "outputs": [
    {
     "data": {
      "text/plain": [
       "[]"
      ]
     },
     "execution_count": 42,
     "metadata": {},
     "output_type": "execute_result"
    },
    {
     "data": {
      "image/png": "[encoded data removed]",
      "text/plain": [
       "<Figure size 432x288 with 1 Axes>"
      ]
     },
     "metadata": {
      "needs_background": "light"
     },
     "output_type": "display_data"
    }
   ],
   "source": [
    "norm_rv = sts.norm(loc=uniform_rv.mean(), scale=uniform_rv.std() / np.sqrt(N))\n",
    "plt.hist(means, density=True, bins=40)\n",
    "x = np.linspace(1,4, 100)\n",
    "pdf = norm_rv.pdf(x)\n",
    "plt.plot(x, pdf, label='Теоретическая плотность', alpha=0.5)\n",
    "plt.legend()\n",
    "plt.plot()"
   ]
  },
  {
   "cell_type": "code",
   "execution_count": 43,
   "metadata": {
    "colab": {
     "base_uri": "https://localhost:8080/"
    },
    "id": "ccKqRmK1gsKN",
    "outputId": "2ce29162-4501-496f-f0ad-6e7eb5da1b11"
   },
   "outputs": [
    {
     "name": "stdout",
     "output_type": "stream",
     "text": [
      "Доверительный интервал для среднего по цпт, если нам известна дисперсия: [2.3272944629500807, 2.9597499949837567] \n"
     ]
    }
   ],
   "source": [
    "data = uniform_rv.rvs(N)\n",
    "print(\"Доверительный интервал для среднего по цпт, если нам известна дисперсия: [{}, {}] \".format(\n",
    "    np.mean(data) - 2 * uniform_rv.std() / np.sqrt(N), np.mean(data) + 2 * uniform_rv.std() / np.sqrt(N) \n",
    "))"
   ]
  },
  {
   "cell_type": "markdown",
   "metadata": {
    "id": "JxyEqHudzTvz"
   },
   "source": [
    "#### То же и для дискретных, посмотрим на примере биномиального распределения"
   ]
  },
  {
   "cell_type": "code",
   "execution_count": 44,
   "metadata": {
    "colab": {
     "base_uri": "https://localhost:8080/"
    },
    "id": "ibwXLXINzYo2",
    "outputId": "757290d6-7829-45a9-bc73-7e461da83d78"
   },
   "outputs": [
    {
     "data": {
      "text/plain": [
       "array([ 7,  7,  5,  7,  7,  5, 10,  7,  6,  5])"
      ]
     },
     "execution_count": 44,
     "metadata": {},
     "output_type": "execute_result"
    }
   ],
   "source": [
    "binomial_rv = sts.binom(20, 0.4)\n",
    "binomial_rv.rvs(10)\n",
    "\n",
    "# мат ожидание np = 20*0.4 = 8\n",
    "# дисперсия npq = np(1-p) = 20*0.4*0.6 = 8 * 0.6 = 4.8"
   ]
  },
  {
   "cell_type": "code",
   "execution_count": 45,
   "metadata": {
    "colab": {
     "base_uri": "https://localhost:8080/",
     "height": 296
    },
    "id": "CoYZ7SDDzorr",
    "outputId": "2d2c3757-cce2-45e2-eb56-bcb08b2b06d6"
   },
   "outputs": [
    {
     "data": {
      "text/plain": [
       "Text(0.5, 0, '$x$')"
      ]
     },
     "execution_count": 45,
     "metadata": {},
     "output_type": "execute_result"
    },
    {
     "data": {
      "image/png": "[encoded data removed]",
      "text/plain": [
       "<Figure size 432x288 with 1 Axes>"
      ]
     },
     "metadata": {
      "needs_background": "light"
     },
     "output_type": "display_data"
    }
   ],
   "source": [
    "x = np.linspace(0,20,21)\n",
    "pmf = binomial_rv.pmf(x)\n",
    "plt.plot(x, pmf, 'o')\n",
    "\n",
    "plt.ylabel('$P(X=x)$')\n",
    "plt.xlabel('$x$')"
   ]
  },
  {
   "cell_type": "code",
   "execution_count": 46,
   "metadata": {
    "colab": {
     "base_uri": "https://localhost:8080/",
     "height": 537
    },
    "id": "wDRJyTaEzxvt",
    "outputId": "045ae779-01a3-4f38-be6d-128c263f411a"
   },
   "outputs": [
    {
     "data": {
      "image/png": "[encoded data removed]",
      "text/plain": [
       "<Figure size 1152x648 with 1 Axes>"
      ]
     },
     "metadata": {
      "needs_background": "light"
     },
     "output_type": "display_data"
    }
   ],
   "source": [
    "plt.figure(figsize=(16,9))\n",
    "# сгенерируем много выборочных средних\n",
    "for N in [10, 20, 50, 100]:\n",
    "    means = []\n",
    "    for i in range(1000):\n",
    "         means.append(np.mean(binomial_rv.rvs(N)))\n",
    "    plt.hist(means, alpha=0.5)\n",
    "\n",
    "plt.legend(['10', '100', '1000', '10000'])\n",
    "plt.show()"
   ]
  },
  {
   "cell_type": "markdown",
   "metadata": {
    "id": "ACZdnVgnvph3"
   },
   "source": [
    "### Всегда ли ЦПТ хорошо работает?\n",
    "Вообще в полной формулировке есть формальные требования, определяющие границы применимости данной теоремы. Но пока что, будем говорить, что применять ЦПТ можно, если кол-во примеров по крайней мере пара десятков (30-50), и само распределение случайно величины $X$ не является явно ассимметричным (\"скошенным\")"
   ]
  },
  {
   "cell_type": "markdown",
   "metadata": {
    "id": "Uzode7W90b1Y"
   },
   "source": [
    "#### Попробуем уменьшить вероятность успеха в серии n независимых испытаний, тем самым, сделаем наше распределение успехов несколько более ассиметричным"
   ]
  },
  {
   "cell_type": "code",
   "execution_count": 47,
   "metadata": {
    "colab": {
     "base_uri": "https://localhost:8080/"
    },
    "id": "RJ9S7Zlx0hUB",
    "outputId": "407d4eab-e296-43e2-c466-cf010841b091"
   },
   "outputs": [
    {
     "data": {
      "text/plain": [
       "array([0, 0, 0, 0, 0, 0, 1, 1, 0, 0])"
      ]
     },
     "execution_count": 47,
     "metadata": {},
     "output_type": "execute_result"
    }
   ],
   "source": [
    "binomial_rv = sts.binom(20, 0.01)\n",
    "binomial_rv.rvs(10)"
   ]
  },
  {
   "cell_type": "code",
   "execution_count": 48,
   "metadata": {
    "colab": {
     "base_uri": "https://localhost:8080/",
     "height": 296
    },
    "id": "tbc3AuNx0mYO",
    "outputId": "2928d61e-8bd6-4a42-a1aa-67a38bc1a4fc"
   },
   "outputs": [
    {
     "data": {
      "text/plain": [
       "Text(0.5, 0, '$x$')"
      ]
     },
     "execution_count": 48,
     "metadata": {},
     "output_type": "execute_result"
    },
    {
     "data": {
      "image/png": "[encoded data removed]",
      "text/plain": [
       "<Figure size 432x288 with 1 Axes>"
      ]
     },
     "metadata": {
      "needs_background": "light"
     },
     "output_type": "display_data"
    }
   ],
   "source": [
    "x = np.linspace(0,20,21)\n",
    "pmf = binomial_rv.pmf(x)\n",
    "plt.plot(x, pmf, 'o')\n",
    "plt.ylabel('$P(X=x)$')\n",
    "plt.xlabel('$x$')"
   ]
  },
  {
   "cell_type": "code",
   "execution_count": 49,
   "metadata": {
    "colab": {
     "base_uri": "https://localhost:8080/",
     "height": 537
    },
    "id": "q7vvun5W0tw2",
    "outputId": "19635b92-844a-4669-a3b0-d258c6d499d1"
   },
   "outputs": [
    {
     "data": {
      "image/png": "[encoded data removed]",
      "text/plain": [
       "<Figure size 1152x648 with 1 Axes>"
      ]
     },
     "metadata": {
      "needs_background": "light"
     },
     "output_type": "display_data"
    }
   ],
   "source": [
    "plt.figure(figsize=(16,9))\n",
    "# сгенерируем много выборочных средних\n",
    "for N in [10, 20, 50, 100]:\n",
    "    means = []\n",
    "    for i in range(1000):\n",
    "        means.append(np.mean(binomial_rv.rvs(N)))\n",
    "    plt.hist(means, alpha=0.5)\n",
    "\n",
    "plt.legend(['10', '100', '1000', '10000'])\n",
    "plt.show()"
   ]
  },
  {
   "cell_type": "code",
   "execution_count": null,
   "metadata": {
    "id": "Sdjwf7cqeo3m"
   },
   "outputs": [],
   "source": []
  },
  {
   "cell_type": "code",
   "execution_count": null,
   "metadata": {
    "id": "bD_bDQNQnhhJ"
   },
   "outputs": [],
   "source": []
  }
 ],
 "metadata": {
  "colab": {
   "collapsed_sections": [],
   "name": "master.ipynb",
   "provenance": []
  },
  "kernelspec": {
   "display_name": "Python 3",
   "language": "python",
   "name": "python3"
  },
  "language_info": {
   "codemirror_mode": {
    "name": "ipython",
    "version": 3
   },
   "file_extension": ".py",
   "mimetype": "text/x-python",
   "name": "python",
   "nbconvert_exporter": "python",
   "pygments_lexer": "ipython3",
   "version": "3.7.6"
  }
 },
 "nbformat": 4,
 "nbformat_minor": 1
}
